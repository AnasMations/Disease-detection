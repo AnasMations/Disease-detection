{
 "cells": [
  {
   "cell_type": "code",
   "execution_count": 1,
   "id": "4a8de940",
   "metadata": {
    "_cell_guid": "b1076dfc-b9ad-4769-8c92-a6c4dae69d19",
    "_uuid": "8f2839f25d086af736a60e9eeb907d3b93b6e0e5",
    "execution": {
     "iopub.execute_input": "2022-01-05T09:59:45.020905Z",
     "iopub.status.busy": "2022-01-05T09:59:45.019108Z",
     "iopub.status.idle": "2022-01-05T09:59:47.705617Z",
     "shell.execute_reply": "2022-01-05T09:59:47.704973Z",
     "shell.execute_reply.started": "2022-01-05T09:58:05.678010Z"
    },
    "papermill": {
     "duration": 2.74327,
     "end_time": "2022-01-05T09:59:47.705801",
     "exception": false,
     "start_time": "2022-01-05T09:59:44.962531",
     "status": "completed"
    },
    "tags": []
   },
   "outputs": [],
   "source": [
    "import pandas as pd\n",
    "import numpy as np\n",
    "import matplotlib.pyplot as plt\n",
    "from sklearn.model_selection import train_test_split,KFold,cross_val_score,GridSearchCV\n",
    "from sklearn.svm import SVC\n",
    "from sklearn.metrics import f1_score, accuracy_score, confusion_matrix,classification_report,plot_confusion_matrix,plot_roc_curve,precision_score,roc_curve\n",
    "import seaborn as sns\n",
    "from sklearn.utils import shuffle\n",
    "from pandas_profiling import ProfileReport\n",
    "from sklearn.linear_model import LogisticRegression, Perceptron, RidgeClassifier, SGDClassifier\n",
    "from sklearn.svm import SVC, LinearSVC\n",
    "from sklearn.ensemble import RandomForestClassifier, GradientBoostingClassifier, ExtraTreesClassifier \n",
    "from sklearn.ensemble import BaggingClassifier, AdaBoostClassifier, VotingClassifier \n",
    "from sklearn.neighbors import KNeighborsClassifier\n",
    "from sklearn.naive_bayes import GaussianNB\n",
    "from sklearn.tree import DecisionTreeClassifier\n",
    "from sklearn import metrics"
   ]
  },
  {
   "cell_type": "markdown",
   "id": "f920ca26",
   "metadata": {
    "papermill": {
     "duration": 0.051416,
     "end_time": "2022-01-05T09:59:48.175676",
     "exception": false,
     "start_time": "2022-01-05T09:59:48.124260",
     "status": "completed"
    },
    "tags": []
   },
   "source": [
    "**Read and shuffle the dataset**"
   ]
  },
  {
   "cell_type": "code",
   "execution_count": 5,
   "id": "a8d86861",
   "metadata": {
    "_cell_guid": "79c7e3d0-c299-4dcb-8224-4455121ee9b0",
    "_uuid": "d629ff2d2480ee46fbb7e2d37f6b5fab8052498a",
    "execution": {
     "iopub.execute_input": "2022-01-05T09:59:48.288839Z",
     "iopub.status.busy": "2022-01-05T09:59:48.288162Z",
     "iopub.status.idle": "2022-01-05T09:59:48.357145Z",
     "shell.execute_reply": "2022-01-05T09:59:48.357698Z",
     "shell.execute_reply.started": "2022-01-05T09:58:05.889614Z"
    },
    "papermill": {
     "duration": 0.128608,
     "end_time": "2022-01-05T09:59:48.357894",
     "exception": false,
     "start_time": "2022-01-05T09:59:48.229286",
     "status": "completed"
    },
    "tags": []
   },
   "outputs": [
    {
     "data": {
      "text/html": [
       "<div>\n",
       "<style scoped>\n",
       "    .dataframe tbody tr th:only-of-type {\n",
       "        vertical-align: middle;\n",
       "    }\n",
       "\n",
       "    .dataframe tbody tr th {\n",
       "        vertical-align: top;\n",
       "    }\n",
       "\n",
       "    .dataframe thead th {\n",
       "        text-align: right;\n",
       "    }\n",
       "</style>\n",
       "<table border=\"1\" class=\"dataframe\">\n",
       "  <thead>\n",
       "    <tr style=\"text-align: right;\">\n",
       "      <th></th>\n",
       "      <th>Disease</th>\n",
       "      <th>Symptom_1</th>\n",
       "      <th>Symptom_2</th>\n",
       "      <th>Symptom_3</th>\n",
       "      <th>Symptom_4</th>\n",
       "      <th>Symptom_5</th>\n",
       "      <th>Symptom_6</th>\n",
       "      <th>Symptom_7</th>\n",
       "      <th>Symptom_8</th>\n",
       "      <th>Symptom_9</th>\n",
       "      <th>Symptom_10</th>\n",
       "      <th>Symptom_11</th>\n",
       "      <th>Symptom_12</th>\n",
       "      <th>Symptom_13</th>\n",
       "      <th>Symptom_14</th>\n",
       "      <th>Symptom_15</th>\n",
       "      <th>Symptom_16</th>\n",
       "      <th>Symptom_17</th>\n",
       "    </tr>\n",
       "  </thead>\n",
       "  <tbody>\n",
       "    <tr>\n",
       "      <th>373</th>\n",
       "      <td>Acne</td>\n",
       "      <td>skin_rash</td>\n",
       "      <td>blackheads</td>\n",
       "      <td>scurring</td>\n",
       "      <td>NaN</td>\n",
       "      <td>NaN</td>\n",
       "      <td>NaN</td>\n",
       "      <td>NaN</td>\n",
       "      <td>NaN</td>\n",
       "      <td>NaN</td>\n",
       "      <td>NaN</td>\n",
       "      <td>NaN</td>\n",
       "      <td>NaN</td>\n",
       "      <td>NaN</td>\n",
       "      <td>NaN</td>\n",
       "      <td>NaN</td>\n",
       "      <td>NaN</td>\n",
       "      <td>NaN</td>\n",
       "    </tr>\n",
       "    <tr>\n",
       "      <th>4916</th>\n",
       "      <td>Acne</td>\n",
       "      <td>skin_rash</td>\n",
       "      <td>pus_filled_pimples</td>\n",
       "      <td>blackheads</td>\n",
       "      <td>scurring</td>\n",
       "      <td>NaN</td>\n",
       "      <td>NaN</td>\n",
       "      <td>NaN</td>\n",
       "      <td>NaN</td>\n",
       "      <td>NaN</td>\n",
       "      <td>NaN</td>\n",
       "      <td>NaN</td>\n",
       "      <td>NaN</td>\n",
       "      <td>NaN</td>\n",
       "      <td>NaN</td>\n",
       "      <td>NaN</td>\n",
       "      <td>NaN</td>\n",
       "      <td>NaN</td>\n",
       "    </tr>\n",
       "    <tr>\n",
       "      <th>1550</th>\n",
       "      <td>Hyperthyroidism</td>\n",
       "      <td>fatigue</td>\n",
       "      <td>mood_swings</td>\n",
       "      <td>weight_loss</td>\n",
       "      <td>restlessness</td>\n",
       "      <td>sweating</td>\n",
       "      <td>diarrhoea</td>\n",
       "      <td>fast_heart_rate</td>\n",
       "      <td>excessive_hunger</td>\n",
       "      <td>muscle_weakness</td>\n",
       "      <td>irritability</td>\n",
       "      <td>abnormal_menstruation</td>\n",
       "      <td>NaN</td>\n",
       "      <td>NaN</td>\n",
       "      <td>NaN</td>\n",
       "      <td>NaN</td>\n",
       "      <td>NaN</td>\n",
       "      <td>NaN</td>\n",
       "    </tr>\n",
       "    <tr>\n",
       "      <th>3081</th>\n",
       "      <td>AIDS</td>\n",
       "      <td>muscle_wasting</td>\n",
       "      <td>patches_in_throat</td>\n",
       "      <td>high_fever</td>\n",
       "      <td>extra_marital_contacts</td>\n",
       "      <td>NaN</td>\n",
       "      <td>NaN</td>\n",
       "      <td>NaN</td>\n",
       "      <td>NaN</td>\n",
       "      <td>NaN</td>\n",
       "      <td>NaN</td>\n",
       "      <td>NaN</td>\n",
       "      <td>NaN</td>\n",
       "      <td>NaN</td>\n",
       "      <td>NaN</td>\n",
       "      <td>NaN</td>\n",
       "      <td>NaN</td>\n",
       "      <td>NaN</td>\n",
       "    </tr>\n",
       "    <tr>\n",
       "      <th>3857</th>\n",
       "      <td>Chronic cholestasis</td>\n",
       "      <td>itching</td>\n",
       "      <td>vomiting</td>\n",
       "      <td>yellowish_skin</td>\n",
       "      <td>nausea</td>\n",
       "      <td>loss_of_appetite</td>\n",
       "      <td>abdominal_pain</td>\n",
       "      <td>yellowing_of_eyes</td>\n",
       "      <td>NaN</td>\n",
       "      <td>NaN</td>\n",
       "      <td>NaN</td>\n",
       "      <td>NaN</td>\n",
       "      <td>NaN</td>\n",
       "      <td>NaN</td>\n",
       "      <td>NaN</td>\n",
       "      <td>NaN</td>\n",
       "      <td>NaN</td>\n",
       "      <td>NaN</td>\n",
       "    </tr>\n",
       "  </tbody>\n",
       "</table>\n",
       "</div>"
      ],
      "text/plain": [
       "                  Disease        Symptom_1            Symptom_2  \\\n",
       "373                  Acne        skin_rash           blackheads   \n",
       "4916                 Acne        skin_rash   pus_filled_pimples   \n",
       "1550      Hyperthyroidism          fatigue          mood_swings   \n",
       "3081                 AIDS   muscle_wasting    patches_in_throat   \n",
       "3857  Chronic cholestasis          itching             vomiting   \n",
       "\n",
       "            Symptom_3                Symptom_4          Symptom_5  \\\n",
       "373          scurring                      NaN                NaN   \n",
       "4916       blackheads                 scurring                NaN   \n",
       "1550      weight_loss             restlessness           sweating   \n",
       "3081       high_fever   extra_marital_contacts                NaN   \n",
       "3857   yellowish_skin                   nausea   loss_of_appetite   \n",
       "\n",
       "            Symptom_6           Symptom_7          Symptom_8  \\\n",
       "373               NaN                 NaN                NaN   \n",
       "4916              NaN                 NaN                NaN   \n",
       "1550        diarrhoea     fast_heart_rate   excessive_hunger   \n",
       "3081              NaN                 NaN                NaN   \n",
       "3857   abdominal_pain   yellowing_of_eyes                NaN   \n",
       "\n",
       "             Symptom_9     Symptom_10              Symptom_11 Symptom_12  \\\n",
       "373                NaN            NaN                     NaN        NaN   \n",
       "4916               NaN            NaN                     NaN        NaN   \n",
       "1550   muscle_weakness   irritability   abnormal_menstruation        NaN   \n",
       "3081               NaN            NaN                     NaN        NaN   \n",
       "3857               NaN            NaN                     NaN        NaN   \n",
       "\n",
       "     Symptom_13 Symptom_14 Symptom_15 Symptom_16 Symptom_17  \n",
       "373         NaN        NaN        NaN        NaN        NaN  \n",
       "4916        NaN        NaN        NaN        NaN        NaN  \n",
       "1550        NaN        NaN        NaN        NaN        NaN  \n",
       "3081        NaN        NaN        NaN        NaN        NaN  \n",
       "3857        NaN        NaN        NaN        NaN        NaN  "
      ]
     },
     "execution_count": 5,
     "metadata": {},
     "output_type": "execute_result"
    }
   ],
   "source": [
    "df = pd.read_csv('dataset.csv')\n",
    "df = shuffle(df,random_state=42)\n",
    "df.head()"
   ]
  },
  {
   "cell_type": "markdown",
   "id": "85e6f2e3",
   "metadata": {
    "papermill": {
     "duration": 0.051789,
     "end_time": "2022-01-05T09:59:48.463537",
     "exception": false,
     "start_time": "2022-01-05T09:59:48.411748",
     "status": "completed"
    },
    "tags": []
   },
   "source": [
    "**Removing Hyphen from strings**"
   ]
  },
  {
   "cell_type": "code",
   "execution_count": 6,
   "id": "a096bc2b",
   "metadata": {
    "execution": {
     "iopub.execute_input": "2022-01-05T09:59:48.580285Z",
     "iopub.status.busy": "2022-01-05T09:59:48.579593Z",
     "iopub.status.idle": "2022-01-05T09:59:48.646538Z",
     "shell.execute_reply": "2022-01-05T09:59:48.646019Z",
     "shell.execute_reply.started": "2022-01-05T09:58:05.952068Z"
    },
    "papermill": {
     "duration": 0.126708,
     "end_time": "2022-01-05T09:59:48.646684",
     "exception": false,
     "start_time": "2022-01-05T09:59:48.519976",
     "status": "completed"
    },
    "tags": []
   },
   "outputs": [
    {
     "data": {
      "text/html": [
       "<div>\n",
       "<style scoped>\n",
       "    .dataframe tbody tr th:only-of-type {\n",
       "        vertical-align: middle;\n",
       "    }\n",
       "\n",
       "    .dataframe tbody tr th {\n",
       "        vertical-align: top;\n",
       "    }\n",
       "\n",
       "    .dataframe thead th {\n",
       "        text-align: right;\n",
       "    }\n",
       "</style>\n",
       "<table border=\"1\" class=\"dataframe\">\n",
       "  <thead>\n",
       "    <tr style=\"text-align: right;\">\n",
       "      <th></th>\n",
       "      <th>Disease</th>\n",
       "      <th>Symptom_1</th>\n",
       "      <th>Symptom_2</th>\n",
       "      <th>Symptom_3</th>\n",
       "      <th>Symptom_4</th>\n",
       "      <th>Symptom_5</th>\n",
       "      <th>Symptom_6</th>\n",
       "      <th>Symptom_7</th>\n",
       "      <th>Symptom_8</th>\n",
       "      <th>Symptom_9</th>\n",
       "      <th>Symptom_10</th>\n",
       "      <th>Symptom_11</th>\n",
       "      <th>Symptom_12</th>\n",
       "      <th>Symptom_13</th>\n",
       "      <th>Symptom_14</th>\n",
       "      <th>Symptom_15</th>\n",
       "      <th>Symptom_16</th>\n",
       "      <th>Symptom_17</th>\n",
       "    </tr>\n",
       "  </thead>\n",
       "  <tbody>\n",
       "    <tr>\n",
       "      <th>373</th>\n",
       "      <td>Acne</td>\n",
       "      <td>skin rash</td>\n",
       "      <td>blackheads</td>\n",
       "      <td>scurring</td>\n",
       "      <td>NaN</td>\n",
       "      <td>NaN</td>\n",
       "      <td>NaN</td>\n",
       "      <td>NaN</td>\n",
       "      <td>NaN</td>\n",
       "      <td>NaN</td>\n",
       "      <td>NaN</td>\n",
       "      <td>NaN</td>\n",
       "      <td>NaN</td>\n",
       "      <td>NaN</td>\n",
       "      <td>NaN</td>\n",
       "      <td>NaN</td>\n",
       "      <td>NaN</td>\n",
       "      <td>NaN</td>\n",
       "    </tr>\n",
       "    <tr>\n",
       "      <th>4916</th>\n",
       "      <td>Acne</td>\n",
       "      <td>skin rash</td>\n",
       "      <td>pus filled pimples</td>\n",
       "      <td>blackheads</td>\n",
       "      <td>scurring</td>\n",
       "      <td>NaN</td>\n",
       "      <td>NaN</td>\n",
       "      <td>NaN</td>\n",
       "      <td>NaN</td>\n",
       "      <td>NaN</td>\n",
       "      <td>NaN</td>\n",
       "      <td>NaN</td>\n",
       "      <td>NaN</td>\n",
       "      <td>NaN</td>\n",
       "      <td>NaN</td>\n",
       "      <td>NaN</td>\n",
       "      <td>NaN</td>\n",
       "      <td>NaN</td>\n",
       "    </tr>\n",
       "    <tr>\n",
       "      <th>1550</th>\n",
       "      <td>Hyperthyroidism</td>\n",
       "      <td>fatigue</td>\n",
       "      <td>mood swings</td>\n",
       "      <td>weight loss</td>\n",
       "      <td>restlessness</td>\n",
       "      <td>sweating</td>\n",
       "      <td>diarrhoea</td>\n",
       "      <td>fast heart rate</td>\n",
       "      <td>excessive hunger</td>\n",
       "      <td>muscle weakness</td>\n",
       "      <td>irritability</td>\n",
       "      <td>abnormal menstruation</td>\n",
       "      <td>NaN</td>\n",
       "      <td>NaN</td>\n",
       "      <td>NaN</td>\n",
       "      <td>NaN</td>\n",
       "      <td>NaN</td>\n",
       "      <td>NaN</td>\n",
       "    </tr>\n",
       "    <tr>\n",
       "      <th>3081</th>\n",
       "      <td>AIDS</td>\n",
       "      <td>muscle wasting</td>\n",
       "      <td>patches in throat</td>\n",
       "      <td>high fever</td>\n",
       "      <td>extra marital contacts</td>\n",
       "      <td>NaN</td>\n",
       "      <td>NaN</td>\n",
       "      <td>NaN</td>\n",
       "      <td>NaN</td>\n",
       "      <td>NaN</td>\n",
       "      <td>NaN</td>\n",
       "      <td>NaN</td>\n",
       "      <td>NaN</td>\n",
       "      <td>NaN</td>\n",
       "      <td>NaN</td>\n",
       "      <td>NaN</td>\n",
       "      <td>NaN</td>\n",
       "      <td>NaN</td>\n",
       "    </tr>\n",
       "    <tr>\n",
       "      <th>3857</th>\n",
       "      <td>Chronic cholestasis</td>\n",
       "      <td>itching</td>\n",
       "      <td>vomiting</td>\n",
       "      <td>yellowish skin</td>\n",
       "      <td>nausea</td>\n",
       "      <td>loss of appetite</td>\n",
       "      <td>abdominal pain</td>\n",
       "      <td>yellowing of eyes</td>\n",
       "      <td>NaN</td>\n",
       "      <td>NaN</td>\n",
       "      <td>NaN</td>\n",
       "      <td>NaN</td>\n",
       "      <td>NaN</td>\n",
       "      <td>NaN</td>\n",
       "      <td>NaN</td>\n",
       "      <td>NaN</td>\n",
       "      <td>NaN</td>\n",
       "      <td>NaN</td>\n",
       "    </tr>\n",
       "  </tbody>\n",
       "</table>\n",
       "</div>"
      ],
      "text/plain": [
       "                  Disease        Symptom_1            Symptom_2  \\\n",
       "373                  Acne        skin rash           blackheads   \n",
       "4916                 Acne        skin rash   pus filled pimples   \n",
       "1550      Hyperthyroidism          fatigue          mood swings   \n",
       "3081                 AIDS   muscle wasting    patches in throat   \n",
       "3857  Chronic cholestasis          itching             vomiting   \n",
       "\n",
       "            Symptom_3                Symptom_4          Symptom_5  \\\n",
       "373          scurring                      NaN                NaN   \n",
       "4916       blackheads                 scurring                NaN   \n",
       "1550      weight loss             restlessness           sweating   \n",
       "3081       high fever   extra marital contacts                NaN   \n",
       "3857   yellowish skin                   nausea   loss of appetite   \n",
       "\n",
       "            Symptom_6           Symptom_7          Symptom_8  \\\n",
       "373               NaN                 NaN                NaN   \n",
       "4916              NaN                 NaN                NaN   \n",
       "1550        diarrhoea     fast heart rate   excessive hunger   \n",
       "3081              NaN                 NaN                NaN   \n",
       "3857   abdominal pain   yellowing of eyes                NaN   \n",
       "\n",
       "             Symptom_9     Symptom_10              Symptom_11 Symptom_12  \\\n",
       "373                NaN            NaN                     NaN        NaN   \n",
       "4916               NaN            NaN                     NaN        NaN   \n",
       "1550   muscle weakness   irritability   abnormal menstruation        NaN   \n",
       "3081               NaN            NaN                     NaN        NaN   \n",
       "3857               NaN            NaN                     NaN        NaN   \n",
       "\n",
       "     Symptom_13 Symptom_14 Symptom_15 Symptom_16 Symptom_17  \n",
       "373         NaN        NaN        NaN        NaN        NaN  \n",
       "4916        NaN        NaN        NaN        NaN        NaN  \n",
       "1550        NaN        NaN        NaN        NaN        NaN  \n",
       "3081        NaN        NaN        NaN        NaN        NaN  \n",
       "3857        NaN        NaN        NaN        NaN        NaN  "
      ]
     },
     "execution_count": 6,
     "metadata": {},
     "output_type": "execute_result"
    }
   ],
   "source": [
    "for col in df.columns:\n",
    "    \n",
    "    df[col] = df[col].str.replace('_',' ')\n",
    "df.head()    "
   ]
  },
  {
   "cell_type": "markdown",
   "id": "d5da3ea9",
   "metadata": {
    "papermill": {
     "duration": 0.052674,
     "end_time": "2022-01-05T09:59:48.752362",
     "exception": false,
     "start_time": "2022-01-05T09:59:48.699688",
     "status": "completed"
    },
    "tags": []
   },
   "source": [
    "**Dataset characteristics**"
   ]
  },
  {
   "cell_type": "code",
   "execution_count": 7,
   "id": "6f1f0c66",
   "metadata": {
    "execution": {
     "iopub.execute_input": "2022-01-05T09:59:48.872217Z",
     "iopub.status.busy": "2022-01-05T09:59:48.863996Z",
     "iopub.status.idle": "2022-01-05T09:59:48.930434Z",
     "shell.execute_reply": "2022-01-05T09:59:48.930927Z",
     "shell.execute_reply.started": "2022-01-05T09:58:06.030373Z"
    },
    "papermill": {
     "duration": 0.124627,
     "end_time": "2022-01-05T09:59:48.931119",
     "exception": false,
     "start_time": "2022-01-05T09:59:48.806492",
     "status": "completed"
    },
    "tags": []
   },
   "outputs": [
    {
     "data": {
      "text/html": [
       "<div>\n",
       "<style scoped>\n",
       "    .dataframe tbody tr th:only-of-type {\n",
       "        vertical-align: middle;\n",
       "    }\n",
       "\n",
       "    .dataframe tbody tr th {\n",
       "        vertical-align: top;\n",
       "    }\n",
       "\n",
       "    .dataframe thead th {\n",
       "        text-align: right;\n",
       "    }\n",
       "</style>\n",
       "<table border=\"1\" class=\"dataframe\">\n",
       "  <thead>\n",
       "    <tr style=\"text-align: right;\">\n",
       "      <th></th>\n",
       "      <th>Disease</th>\n",
       "      <th>Symptom_1</th>\n",
       "      <th>Symptom_2</th>\n",
       "      <th>Symptom_3</th>\n",
       "      <th>Symptom_4</th>\n",
       "      <th>Symptom_5</th>\n",
       "      <th>Symptom_6</th>\n",
       "      <th>Symptom_7</th>\n",
       "      <th>Symptom_8</th>\n",
       "      <th>Symptom_9</th>\n",
       "      <th>Symptom_10</th>\n",
       "      <th>Symptom_11</th>\n",
       "      <th>Symptom_12</th>\n",
       "      <th>Symptom_13</th>\n",
       "      <th>Symptom_14</th>\n",
       "      <th>Symptom_15</th>\n",
       "      <th>Symptom_16</th>\n",
       "      <th>Symptom_17</th>\n",
       "    </tr>\n",
       "  </thead>\n",
       "  <tbody>\n",
       "    <tr>\n",
       "      <th>count</th>\n",
       "      <td>4920</td>\n",
       "      <td>4920</td>\n",
       "      <td>4920</td>\n",
       "      <td>4920</td>\n",
       "      <td>4572</td>\n",
       "      <td>3714</td>\n",
       "      <td>2934</td>\n",
       "      <td>2268</td>\n",
       "      <td>1944</td>\n",
       "      <td>1692</td>\n",
       "      <td>1512</td>\n",
       "      <td>1194</td>\n",
       "      <td>744</td>\n",
       "      <td>504</td>\n",
       "      <td>306</td>\n",
       "      <td>240</td>\n",
       "      <td>192</td>\n",
       "      <td>72</td>\n",
       "    </tr>\n",
       "    <tr>\n",
       "      <th>unique</th>\n",
       "      <td>41</td>\n",
       "      <td>34</td>\n",
       "      <td>48</td>\n",
       "      <td>54</td>\n",
       "      <td>50</td>\n",
       "      <td>38</td>\n",
       "      <td>32</td>\n",
       "      <td>26</td>\n",
       "      <td>21</td>\n",
       "      <td>22</td>\n",
       "      <td>21</td>\n",
       "      <td>18</td>\n",
       "      <td>11</td>\n",
       "      <td>8</td>\n",
       "      <td>4</td>\n",
       "      <td>3</td>\n",
       "      <td>3</td>\n",
       "      <td>1</td>\n",
       "    </tr>\n",
       "    <tr>\n",
       "      <th>top</th>\n",
       "      <td>Acne</td>\n",
       "      <td>vomiting</td>\n",
       "      <td>vomiting</td>\n",
       "      <td>fatigue</td>\n",
       "      <td>high fever</td>\n",
       "      <td>headache</td>\n",
       "      <td>nausea</td>\n",
       "      <td>abdominal pain</td>\n",
       "      <td>abdominal pain</td>\n",
       "      <td>yellowing of eyes</td>\n",
       "      <td>yellowing of eyes</td>\n",
       "      <td>irritability</td>\n",
       "      <td>malaise</td>\n",
       "      <td>stomach bleeding</td>\n",
       "      <td>chest pain</td>\n",
       "      <td>chest pain</td>\n",
       "      <td>loss of smell</td>\n",
       "      <td>muscle pain</td>\n",
       "    </tr>\n",
       "    <tr>\n",
       "      <th>freq</th>\n",
       "      <td>120</td>\n",
       "      <td>822</td>\n",
       "      <td>870</td>\n",
       "      <td>726</td>\n",
       "      <td>378</td>\n",
       "      <td>348</td>\n",
       "      <td>390</td>\n",
       "      <td>264</td>\n",
       "      <td>276</td>\n",
       "      <td>228</td>\n",
       "      <td>198</td>\n",
       "      <td>120</td>\n",
       "      <td>126</td>\n",
       "      <td>72</td>\n",
       "      <td>96</td>\n",
       "      <td>144</td>\n",
       "      <td>72</td>\n",
       "      <td>72</td>\n",
       "    </tr>\n",
       "  </tbody>\n",
       "</table>\n",
       "</div>"
      ],
      "text/plain": [
       "       Disease  Symptom_1  Symptom_2 Symptom_3    Symptom_4  Symptom_5  \\\n",
       "count     4920       4920       4920      4920         4572       3714   \n",
       "unique      41         34         48        54           50         38   \n",
       "top       Acne   vomiting   vomiting   fatigue   high fever   headache   \n",
       "freq       120        822        870       726          378        348   \n",
       "\n",
       "       Symptom_6        Symptom_7        Symptom_8           Symptom_9  \\\n",
       "count       2934             2268             1944                1692   \n",
       "unique        32               26               21                  22   \n",
       "top       nausea   abdominal pain   abdominal pain   yellowing of eyes   \n",
       "freq         390              264              276                 228   \n",
       "\n",
       "                Symptom_10     Symptom_11 Symptom_12         Symptom_13  \\\n",
       "count                 1512           1194        744                504   \n",
       "unique                  21             18         11                  8   \n",
       "top      yellowing of eyes   irritability    malaise   stomach bleeding   \n",
       "freq                   198            120        126                 72   \n",
       "\n",
       "         Symptom_14   Symptom_15      Symptom_16    Symptom_17  \n",
       "count           306          240             192            72  \n",
       "unique            4            3               3             1  \n",
       "top      chest pain   chest pain   loss of smell   muscle pain  \n",
       "freq             96          144              72            72  "
      ]
     },
     "execution_count": 7,
     "metadata": {},
     "output_type": "execute_result"
    }
   ],
   "source": [
    "df.describe()"
   ]
  },
  {
   "cell_type": "markdown",
   "id": "533117c7",
   "metadata": {
    "papermill": {
     "duration": 0.055641,
     "end_time": "2022-01-05T09:59:49.043070",
     "exception": false,
     "start_time": "2022-01-05T09:59:48.987429",
     "status": "completed"
    },
    "tags": []
   },
   "source": [
    "**Check for null and NaN values**"
   ]
  },
  {
   "cell_type": "code",
   "execution_count": 8,
   "id": "aa9b557c",
   "metadata": {
    "execution": {
     "iopub.execute_input": "2022-01-05T09:59:49.154960Z",
     "iopub.status.busy": "2022-01-05T09:59:49.154302Z",
     "iopub.status.idle": "2022-01-05T09:59:49.185145Z",
     "shell.execute_reply": "2022-01-05T09:59:49.185766Z",
     "shell.execute_reply.started": "2022-01-05T09:58:06.098066Z"
    },
    "papermill": {
     "duration": 0.088402,
     "end_time": "2022-01-05T09:59:49.185983",
     "exception": false,
     "start_time": "2022-01-05T09:59:49.097581",
     "status": "completed"
    },
    "tags": []
   },
   "outputs": [
    {
     "name": "stdout",
     "output_type": "stream",
     "text": [
      "            count\n",
      "Disease         0\n",
      "Symptom_1       0\n",
      "Symptom_2       0\n",
      "Symptom_3       0\n",
      "Symptom_4     348\n",
      "Symptom_5    1206\n",
      "Symptom_6    1986\n",
      "Symptom_7    2652\n",
      "Symptom_8    2976\n",
      "Symptom_9    3228\n",
      "Symptom_10   3408\n",
      "Symptom_11   3726\n",
      "Symptom_12   4176\n",
      "Symptom_13   4416\n",
      "Symptom_14   4614\n",
      "Symptom_15   4680\n",
      "Symptom_16   4728\n",
      "Symptom_17   4848\n"
     ]
    }
   ],
   "source": [
    "null_checker = df.apply(lambda x: sum(x.isnull())).to_frame(name='count')\n",
    "print(null_checker)"
   ]
  },
  {
   "cell_type": "code",
   "execution_count": 9,
   "id": "73e62f66",
   "metadata": {
    "execution": {
     "iopub.execute_input": "2022-01-05T09:59:49.305327Z",
     "iopub.status.busy": "2022-01-05T09:59:49.304412Z",
     "iopub.status.idle": "2022-01-05T09:59:49.609435Z",
     "shell.execute_reply": "2022-01-05T09:59:49.608772Z",
     "shell.execute_reply.started": "2022-01-05T09:58:06.135048Z"
    },
    "papermill": {
     "duration": 0.368338,
     "end_time": "2022-01-05T09:59:49.609580",
     "exception": false,
     "start_time": "2022-01-05T09:59:49.241242",
     "status": "completed"
    },
    "tags": []
   },
   "outputs": [
    {
     "data": {
      "image/png": "[encoded data removed]",
      "text/plain": [
       "<Figure size 720x360 with 1 Axes>"
      ]
     },
     "metadata": {
      "needs_background": "light"
     },
     "output_type": "display_data"
    }
   ],
   "source": [
    "plt.figure(figsize=(10,5))\n",
    "plt.plot(null_checker.index, null_checker['count'])\n",
    "plt.xticks(null_checker.index, null_checker.index, rotation=45,\n",
    "horizontalalignment='right')\n",
    "plt.title('Before removing Null values')\n",
    "plt.xlabel('column names')\n",
    "plt.margins(0.1)\n",
    "plt.show()"
   ]
  },
  {
   "cell_type": "markdown",
   "id": "926e528d",
   "metadata": {
    "papermill": {
     "duration": 0.058133,
     "end_time": "2022-01-05T09:59:49.725792",
     "exception": false,
     "start_time": "2022-01-05T09:59:49.667659",
     "status": "completed"
    },
    "tags": []
   },
   "source": [
    "**Remove the trailing space from the symptom columns**"
   ]
  },
  {
   "cell_type": "code",
   "execution_count": 10,
   "id": "9a835c09",
   "metadata": {
    "execution": {
     "iopub.execute_input": "2022-01-05T09:59:49.847565Z",
     "iopub.status.busy": "2022-01-05T09:59:49.846882Z",
     "iopub.status.idle": "2022-01-05T09:59:49.903894Z",
     "shell.execute_reply": "2022-01-05T09:59:49.904430Z",
     "shell.execute_reply.started": "2022-01-05T09:58:06.358001Z"
    },
    "papermill": {
     "duration": 0.12138,
     "end_time": "2022-01-05T09:59:49.904601",
     "exception": false,
     "start_time": "2022-01-05T09:59:49.783221",
     "status": "completed"
    },
    "tags": []
   },
   "outputs": [
    {
     "data": {
      "text/html": [
       "<div>\n",
       "<style scoped>\n",
       "    .dataframe tbody tr th:only-of-type {\n",
       "        vertical-align: middle;\n",
       "    }\n",
       "\n",
       "    .dataframe tbody tr th {\n",
       "        vertical-align: top;\n",
       "    }\n",
       "\n",
       "    .dataframe thead th {\n",
       "        text-align: right;\n",
       "    }\n",
       "</style>\n",
       "<table border=\"1\" class=\"dataframe\">\n",
       "  <thead>\n",
       "    <tr style=\"text-align: right;\">\n",
       "      <th></th>\n",
       "      <th>Disease</th>\n",
       "      <th>Symptom_1</th>\n",
       "      <th>Symptom_2</th>\n",
       "      <th>Symptom_3</th>\n",
       "      <th>Symptom_4</th>\n",
       "      <th>Symptom_5</th>\n",
       "      <th>Symptom_6</th>\n",
       "      <th>Symptom_7</th>\n",
       "      <th>Symptom_8</th>\n",
       "      <th>Symptom_9</th>\n",
       "      <th>Symptom_10</th>\n",
       "      <th>Symptom_11</th>\n",
       "      <th>Symptom_12</th>\n",
       "      <th>Symptom_13</th>\n",
       "      <th>Symptom_14</th>\n",
       "      <th>Symptom_15</th>\n",
       "      <th>Symptom_16</th>\n",
       "      <th>Symptom_17</th>\n",
       "    </tr>\n",
       "  </thead>\n",
       "  <tbody>\n",
       "    <tr>\n",
       "      <th>0</th>\n",
       "      <td>Acne</td>\n",
       "      <td>skin rash</td>\n",
       "      <td>blackheads</td>\n",
       "      <td>scurring</td>\n",
       "      <td>NaN</td>\n",
       "      <td>NaN</td>\n",
       "      <td>NaN</td>\n",
       "      <td>NaN</td>\n",
       "      <td>NaN</td>\n",
       "      <td>NaN</td>\n",
       "      <td>NaN</td>\n",
       "      <td>NaN</td>\n",
       "      <td>NaN</td>\n",
       "      <td>NaN</td>\n",
       "      <td>NaN</td>\n",
       "      <td>NaN</td>\n",
       "      <td>NaN</td>\n",
       "      <td>NaN</td>\n",
       "    </tr>\n",
       "    <tr>\n",
       "      <th>1</th>\n",
       "      <td>Acne</td>\n",
       "      <td>skin rash</td>\n",
       "      <td>pus filled pimples</td>\n",
       "      <td>blackheads</td>\n",
       "      <td>scurring</td>\n",
       "      <td>NaN</td>\n",
       "      <td>NaN</td>\n",
       "      <td>NaN</td>\n",
       "      <td>NaN</td>\n",
       "      <td>NaN</td>\n",
       "      <td>NaN</td>\n",
       "      <td>NaN</td>\n",
       "      <td>NaN</td>\n",
       "      <td>NaN</td>\n",
       "      <td>NaN</td>\n",
       "      <td>NaN</td>\n",
       "      <td>NaN</td>\n",
       "      <td>NaN</td>\n",
       "    </tr>\n",
       "    <tr>\n",
       "      <th>2</th>\n",
       "      <td>Hyperthyroidism</td>\n",
       "      <td>fatigue</td>\n",
       "      <td>mood swings</td>\n",
       "      <td>weight loss</td>\n",
       "      <td>restlessness</td>\n",
       "      <td>sweating</td>\n",
       "      <td>diarrhoea</td>\n",
       "      <td>fast heart rate</td>\n",
       "      <td>excessive hunger</td>\n",
       "      <td>muscle weakness</td>\n",
       "      <td>irritability</td>\n",
       "      <td>abnormal menstruation</td>\n",
       "      <td>NaN</td>\n",
       "      <td>NaN</td>\n",
       "      <td>NaN</td>\n",
       "      <td>NaN</td>\n",
       "      <td>NaN</td>\n",
       "      <td>NaN</td>\n",
       "    </tr>\n",
       "    <tr>\n",
       "      <th>3</th>\n",
       "      <td>AIDS</td>\n",
       "      <td>muscle wasting</td>\n",
       "      <td>patches in throat</td>\n",
       "      <td>high fever</td>\n",
       "      <td>extra marital contacts</td>\n",
       "      <td>NaN</td>\n",
       "      <td>NaN</td>\n",
       "      <td>NaN</td>\n",
       "      <td>NaN</td>\n",
       "      <td>NaN</td>\n",
       "      <td>NaN</td>\n",
       "      <td>NaN</td>\n",
       "      <td>NaN</td>\n",
       "      <td>NaN</td>\n",
       "      <td>NaN</td>\n",
       "      <td>NaN</td>\n",
       "      <td>NaN</td>\n",
       "      <td>NaN</td>\n",
       "    </tr>\n",
       "    <tr>\n",
       "      <th>4</th>\n",
       "      <td>Chronic cholestasis</td>\n",
       "      <td>itching</td>\n",
       "      <td>vomiting</td>\n",
       "      <td>yellowish skin</td>\n",
       "      <td>nausea</td>\n",
       "      <td>loss of appetite</td>\n",
       "      <td>abdominal pain</td>\n",
       "      <td>yellowing of eyes</td>\n",
       "      <td>NaN</td>\n",
       "      <td>NaN</td>\n",
       "      <td>NaN</td>\n",
       "      <td>NaN</td>\n",
       "      <td>NaN</td>\n",
       "      <td>NaN</td>\n",
       "      <td>NaN</td>\n",
       "      <td>NaN</td>\n",
       "      <td>NaN</td>\n",
       "      <td>NaN</td>\n",
       "    </tr>\n",
       "  </tbody>\n",
       "</table>\n",
       "</div>"
      ],
      "text/plain": [
       "               Disease       Symptom_1           Symptom_2       Symptom_3  \\\n",
       "0                 Acne       skin rash          blackheads        scurring   \n",
       "1                 Acne       skin rash  pus filled pimples      blackheads   \n",
       "2      Hyperthyroidism         fatigue         mood swings     weight loss   \n",
       "3                 AIDS  muscle wasting   patches in throat      high fever   \n",
       "4  Chronic cholestasis         itching            vomiting  yellowish skin   \n",
       "\n",
       "                Symptom_4         Symptom_5       Symptom_6  \\\n",
       "0                     NaN               NaN             NaN   \n",
       "1                scurring               NaN             NaN   \n",
       "2            restlessness          sweating       diarrhoea   \n",
       "3  extra marital contacts               NaN             NaN   \n",
       "4                  nausea  loss of appetite  abdominal pain   \n",
       "\n",
       "           Symptom_7         Symptom_8        Symptom_9    Symptom_10  \\\n",
       "0                NaN               NaN              NaN           NaN   \n",
       "1                NaN               NaN              NaN           NaN   \n",
       "2    fast heart rate  excessive hunger  muscle weakness  irritability   \n",
       "3                NaN               NaN              NaN           NaN   \n",
       "4  yellowing of eyes               NaN              NaN           NaN   \n",
       "\n",
       "              Symptom_11 Symptom_12 Symptom_13 Symptom_14 Symptom_15  \\\n",
       "0                    NaN        NaN        NaN        NaN        NaN   \n",
       "1                    NaN        NaN        NaN        NaN        NaN   \n",
       "2  abnormal menstruation        NaN        NaN        NaN        NaN   \n",
       "3                    NaN        NaN        NaN        NaN        NaN   \n",
       "4                    NaN        NaN        NaN        NaN        NaN   \n",
       "\n",
       "  Symptom_16 Symptom_17  \n",
       "0        NaN        NaN  \n",
       "1        NaN        NaN  \n",
       "2        NaN        NaN  \n",
       "3        NaN        NaN  \n",
       "4        NaN        NaN  "
      ]
     },
     "execution_count": 10,
     "metadata": {},
     "output_type": "execute_result"
    }
   ],
   "source": [
    "cols = df.columns\n",
    "data = df[cols].values.flatten()\n",
    "\n",
    "s = pd.Series(data)\n",
    "s = s.str.strip()\n",
    "s = s.values.reshape(df.shape)\n",
    "\n",
    "df = pd.DataFrame(s, columns=df.columns)\n",
    "df.head()"
   ]
  },
  {
   "cell_type": "markdown",
   "id": "9c93e2e1",
   "metadata": {
    "papermill": {
     "duration": 0.057768,
     "end_time": "2022-01-05T09:59:50.017794",
     "exception": false,
     "start_time": "2022-01-05T09:59:49.960026",
     "status": "completed"
    },
    "tags": []
   },
   "source": [
    "**Fill the NaN values with zero**"
   ]
  },
  {
   "cell_type": "code",
   "execution_count": 11,
   "id": "4d8c40e4",
   "metadata": {
    "execution": {
     "iopub.execute_input": "2022-01-05T09:59:50.134996Z",
     "iopub.status.busy": "2022-01-05T09:59:50.134285Z",
     "iopub.status.idle": "2022-01-05T09:59:50.166396Z",
     "shell.execute_reply": "2022-01-05T09:59:50.166934Z",
     "shell.execute_reply.started": "2022-01-05T09:58:06.423060Z"
    },
    "papermill": {
     "duration": 0.09378,
     "end_time": "2022-01-05T09:59:50.167102",
     "exception": false,
     "start_time": "2022-01-05T09:59:50.073322",
     "status": "completed"
    },
    "tags": []
   },
   "outputs": [
    {
     "data": {
      "text/html": [
       "<div>\n",
       "<style scoped>\n",
       "    .dataframe tbody tr th:only-of-type {\n",
       "        vertical-align: middle;\n",
       "    }\n",
       "\n",
       "    .dataframe tbody tr th {\n",
       "        vertical-align: top;\n",
       "    }\n",
       "\n",
       "    .dataframe thead th {\n",
       "        text-align: right;\n",
       "    }\n",
       "</style>\n",
       "<table border=\"1\" class=\"dataframe\">\n",
       "  <thead>\n",
       "    <tr style=\"text-align: right;\">\n",
       "      <th></th>\n",
       "      <th>Disease</th>\n",
       "      <th>Symptom_1</th>\n",
       "      <th>Symptom_2</th>\n",
       "      <th>Symptom_3</th>\n",
       "      <th>Symptom_4</th>\n",
       "      <th>Symptom_5</th>\n",
       "      <th>Symptom_6</th>\n",
       "      <th>Symptom_7</th>\n",
       "      <th>Symptom_8</th>\n",
       "      <th>Symptom_9</th>\n",
       "      <th>Symptom_10</th>\n",
       "      <th>Symptom_11</th>\n",
       "      <th>Symptom_12</th>\n",
       "      <th>Symptom_13</th>\n",
       "      <th>Symptom_14</th>\n",
       "      <th>Symptom_15</th>\n",
       "      <th>Symptom_16</th>\n",
       "      <th>Symptom_17</th>\n",
       "    </tr>\n",
       "  </thead>\n",
       "  <tbody>\n",
       "    <tr>\n",
       "      <th>0</th>\n",
       "      <td>Acne</td>\n",
       "      <td>skin rash</td>\n",
       "      <td>blackheads</td>\n",
       "      <td>scurring</td>\n",
       "      <td>0</td>\n",
       "      <td>0</td>\n",
       "      <td>0</td>\n",
       "      <td>0</td>\n",
       "      <td>0</td>\n",
       "      <td>0</td>\n",
       "      <td>0</td>\n",
       "      <td>0</td>\n",
       "      <td>0</td>\n",
       "      <td>0</td>\n",
       "      <td>0</td>\n",
       "      <td>0</td>\n",
       "      <td>0</td>\n",
       "      <td>0</td>\n",
       "    </tr>\n",
       "    <tr>\n",
       "      <th>1</th>\n",
       "      <td>Acne</td>\n",
       "      <td>skin rash</td>\n",
       "      <td>pus filled pimples</td>\n",
       "      <td>blackheads</td>\n",
       "      <td>scurring</td>\n",
       "      <td>0</td>\n",
       "      <td>0</td>\n",
       "      <td>0</td>\n",
       "      <td>0</td>\n",
       "      <td>0</td>\n",
       "      <td>0</td>\n",
       "      <td>0</td>\n",
       "      <td>0</td>\n",
       "      <td>0</td>\n",
       "      <td>0</td>\n",
       "      <td>0</td>\n",
       "      <td>0</td>\n",
       "      <td>0</td>\n",
       "    </tr>\n",
       "    <tr>\n",
       "      <th>2</th>\n",
       "      <td>Hyperthyroidism</td>\n",
       "      <td>fatigue</td>\n",
       "      <td>mood swings</td>\n",
       "      <td>weight loss</td>\n",
       "      <td>restlessness</td>\n",
       "      <td>sweating</td>\n",
       "      <td>diarrhoea</td>\n",
       "      <td>fast heart rate</td>\n",
       "      <td>excessive hunger</td>\n",
       "      <td>muscle weakness</td>\n",
       "      <td>irritability</td>\n",
       "      <td>abnormal menstruation</td>\n",
       "      <td>0</td>\n",
       "      <td>0</td>\n",
       "      <td>0</td>\n",
       "      <td>0</td>\n",
       "      <td>0</td>\n",
       "      <td>0</td>\n",
       "    </tr>\n",
       "    <tr>\n",
       "      <th>3</th>\n",
       "      <td>AIDS</td>\n",
       "      <td>muscle wasting</td>\n",
       "      <td>patches in throat</td>\n",
       "      <td>high fever</td>\n",
       "      <td>extra marital contacts</td>\n",
       "      <td>0</td>\n",
       "      <td>0</td>\n",
       "      <td>0</td>\n",
       "      <td>0</td>\n",
       "      <td>0</td>\n",
       "      <td>0</td>\n",
       "      <td>0</td>\n",
       "      <td>0</td>\n",
       "      <td>0</td>\n",
       "      <td>0</td>\n",
       "      <td>0</td>\n",
       "      <td>0</td>\n",
       "      <td>0</td>\n",
       "    </tr>\n",
       "    <tr>\n",
       "      <th>4</th>\n",
       "      <td>Chronic cholestasis</td>\n",
       "      <td>itching</td>\n",
       "      <td>vomiting</td>\n",
       "      <td>yellowish skin</td>\n",
       "      <td>nausea</td>\n",
       "      <td>loss of appetite</td>\n",
       "      <td>abdominal pain</td>\n",
       "      <td>yellowing of eyes</td>\n",
       "      <td>0</td>\n",
       "      <td>0</td>\n",
       "      <td>0</td>\n",
       "      <td>0</td>\n",
       "      <td>0</td>\n",
       "      <td>0</td>\n",
       "      <td>0</td>\n",
       "      <td>0</td>\n",
       "      <td>0</td>\n",
       "      <td>0</td>\n",
       "    </tr>\n",
       "  </tbody>\n",
       "</table>\n",
       "</div>"
      ],
      "text/plain": [
       "               Disease       Symptom_1           Symptom_2       Symptom_3  \\\n",
       "0                 Acne       skin rash          blackheads        scurring   \n",
       "1                 Acne       skin rash  pus filled pimples      blackheads   \n",
       "2      Hyperthyroidism         fatigue         mood swings     weight loss   \n",
       "3                 AIDS  muscle wasting   patches in throat      high fever   \n",
       "4  Chronic cholestasis         itching            vomiting  yellowish skin   \n",
       "\n",
       "                Symptom_4         Symptom_5       Symptom_6  \\\n",
       "0                       0                 0               0   \n",
       "1                scurring                 0               0   \n",
       "2            restlessness          sweating       diarrhoea   \n",
       "3  extra marital contacts                 0               0   \n",
       "4                  nausea  loss of appetite  abdominal pain   \n",
       "\n",
       "           Symptom_7         Symptom_8        Symptom_9    Symptom_10  \\\n",
       "0                  0                 0                0             0   \n",
       "1                  0                 0                0             0   \n",
       "2    fast heart rate  excessive hunger  muscle weakness  irritability   \n",
       "3                  0                 0                0             0   \n",
       "4  yellowing of eyes                 0                0             0   \n",
       "\n",
       "              Symptom_11 Symptom_12 Symptom_13 Symptom_14 Symptom_15  \\\n",
       "0                      0          0          0          0          0   \n",
       "1                      0          0          0          0          0   \n",
       "2  abnormal menstruation          0          0          0          0   \n",
       "3                      0          0          0          0          0   \n",
       "4                      0          0          0          0          0   \n",
       "\n",
       "  Symptom_16 Symptom_17  \n",
       "0          0          0  \n",
       "1          0          0  \n",
       "2          0          0  \n",
       "3          0          0  \n",
       "4          0          0  "
      ]
     },
     "execution_count": 11,
     "metadata": {},
     "output_type": "execute_result"
    }
   ],
   "source": [
    "df = df.fillna(0)\n",
    "df.head()"
   ]
  },
  {
   "cell_type": "markdown",
   "id": "28973d9d",
   "metadata": {
    "papermill": {
     "duration": 0.055693,
     "end_time": "2022-01-05T09:59:50.282056",
     "exception": false,
     "start_time": "2022-01-05T09:59:50.226363",
     "status": "completed"
    },
    "tags": []
   },
   "source": [
    "**Symptom severity rank**"
   ]
  },
  {
   "cell_type": "code",
   "execution_count": 12,
   "id": "19afdb83",
   "metadata": {
    "execution": {
     "iopub.execute_input": "2022-01-05T09:59:50.398427Z",
     "iopub.status.busy": "2022-01-05T09:59:50.397615Z",
     "iopub.status.idle": "2022-01-05T09:59:50.418314Z",
     "shell.execute_reply": "2022-01-05T09:59:50.418923Z",
     "shell.execute_reply.started": "2022-01-05T09:58:06.460117Z"
    },
    "papermill": {
     "duration": 0.081477,
     "end_time": "2022-01-05T09:59:50.419102",
     "exception": false,
     "start_time": "2022-01-05T09:59:50.337625",
     "status": "completed"
    },
    "tags": []
   },
   "outputs": [
    {
     "data": {
      "text/html": [
       "<div>\n",
       "<style scoped>\n",
       "    .dataframe tbody tr th:only-of-type {\n",
       "        vertical-align: middle;\n",
       "    }\n",
       "\n",
       "    .dataframe tbody tr th {\n",
       "        vertical-align: top;\n",
       "    }\n",
       "\n",
       "    .dataframe thead th {\n",
       "        text-align: right;\n",
       "    }\n",
       "</style>\n",
       "<table border=\"1\" class=\"dataframe\">\n",
       "  <thead>\n",
       "    <tr style=\"text-align: right;\">\n",
       "      <th></th>\n",
       "      <th>Symptom</th>\n",
       "      <th>weight</th>\n",
       "    </tr>\n",
       "  </thead>\n",
       "  <tbody>\n",
       "    <tr>\n",
       "      <th>0</th>\n",
       "      <td>itching</td>\n",
       "      <td>1</td>\n",
       "    </tr>\n",
       "    <tr>\n",
       "      <th>1</th>\n",
       "      <td>skin rash</td>\n",
       "      <td>3</td>\n",
       "    </tr>\n",
       "    <tr>\n",
       "      <th>2</th>\n",
       "      <td>nodal skin eruptions</td>\n",
       "      <td>4</td>\n",
       "    </tr>\n",
       "    <tr>\n",
       "      <th>3</th>\n",
       "      <td>continuous sneezing</td>\n",
       "      <td>4</td>\n",
       "    </tr>\n",
       "    <tr>\n",
       "      <th>4</th>\n",
       "      <td>shivering</td>\n",
       "      <td>5</td>\n",
       "    </tr>\n",
       "  </tbody>\n",
       "</table>\n",
       "</div>"
      ],
      "text/plain": [
       "                Symptom  weight\n",
       "0               itching       1\n",
       "1             skin rash       3\n",
       "2  nodal skin eruptions       4\n",
       "3   continuous sneezing       4\n",
       "4             shivering       5"
      ]
     },
     "execution_count": 12,
     "metadata": {},
     "output_type": "execute_result"
    }
   ],
   "source": [
    "df1 = pd.read_csv('Symptom-severity.csv')\n",
    "df1['Symptom'] = df1['Symptom'].str.replace('_',' ')\n",
    "df1.head()"
   ]
  },
  {
   "cell_type": "markdown",
   "id": "1bcc82ef",
   "metadata": {
    "papermill": {
     "duration": 0.060187,
     "end_time": "2022-01-05T09:59:50.539898",
     "exception": false,
     "start_time": "2022-01-05T09:59:50.479711",
     "status": "completed"
    },
    "tags": []
   },
   "source": [
    "**Get overall list of symptoms**"
   ]
  },
  {
   "cell_type": "code",
   "execution_count": 13,
   "id": "19a078bf",
   "metadata": {
    "execution": {
     "iopub.execute_input": "2022-01-05T09:59:50.659874Z",
     "iopub.status.busy": "2022-01-05T09:59:50.659186Z",
     "iopub.status.idle": "2022-01-05T09:59:50.665056Z",
     "shell.execute_reply": "2022-01-05T09:59:50.665598Z",
     "shell.execute_reply.started": "2022-01-05T09:58:06.477669Z"
    },
    "papermill": {
     "duration": 0.067666,
     "end_time": "2022-01-05T09:59:50.665763",
     "exception": false,
     "start_time": "2022-01-05T09:59:50.598097",
     "status": "completed"
    },
    "tags": []
   },
   "outputs": [
    {
     "data": {
      "text/plain": [
       "array(['itching', 'skin rash', 'nodal skin eruptions',\n",
       "       'continuous sneezing', 'shivering', 'chills', 'joint pain',\n",
       "       'stomach pain', 'acidity', 'ulcers on tongue', 'muscle wasting',\n",
       "       'vomiting', 'burning micturition', 'spotting urination', 'fatigue',\n",
       "       'weight gain', 'anxiety', 'cold hands and feets', 'mood swings',\n",
       "       'weight loss', 'restlessness', 'lethargy', 'patches in throat',\n",
       "       'irregular sugar level', 'cough', 'high fever', 'sunken eyes',\n",
       "       'breathlessness', 'sweating', 'dehydration', 'indigestion',\n",
       "       'headache', 'yellowish skin', 'dark urine', 'nausea',\n",
       "       'loss of appetite', 'pain behind the eyes', 'back pain',\n",
       "       'constipation', 'abdominal pain', 'diarrhoea', 'mild fever',\n",
       "       'yellow urine', 'yellowing of eyes', 'acute liver failure',\n",
       "       'fluid overload', 'swelling of stomach', 'swelled lymph nodes',\n",
       "       'malaise', 'blurred and distorted vision', 'phlegm',\n",
       "       'throat irritation', 'redness of eyes', 'sinus pressure',\n",
       "       'runny nose', 'congestion', 'chest pain', 'weakness in limbs',\n",
       "       'fast heart rate', 'pain during bowel movements',\n",
       "       'pain in anal region', 'bloody stool', 'irritation in anus',\n",
       "       'neck pain', 'dizziness', 'cramps', 'bruising', 'obesity',\n",
       "       'swollen legs', 'swollen blood vessels', 'puffy face and eyes',\n",
       "       'enlarged thyroid', 'brittle nails', 'swollen extremeties',\n",
       "       'excessive hunger', 'extra marital contacts',\n",
       "       'drying and tingling lips', 'slurred speech', 'knee pain',\n",
       "       'hip joint pain', 'muscle weakness', 'stiff neck',\n",
       "       'swelling joints', 'movement stiffness', 'spinning movements',\n",
       "       'loss of balance', 'unsteadiness', 'weakness of one body side',\n",
       "       'loss of smell', 'bladder discomfort', 'foul smell ofurine',\n",
       "       'continuous feel of urine', 'passage of gases', 'internal itching',\n",
       "       'toxic look (typhos)', 'depression', 'irritability', 'muscle pain',\n",
       "       'altered sensorium', 'red spots over body', 'belly pain',\n",
       "       'abnormal menstruation', 'dischromic patches',\n",
       "       'watering from eyes', 'increased appetite', 'polyuria',\n",
       "       'family history', 'mucoid sputum', 'rusty sputum',\n",
       "       'lack of concentration', 'visual disturbances',\n",
       "       'receiving blood transfusion', 'receiving unsterile injections',\n",
       "       'coma', 'stomach bleeding', 'distention of abdomen',\n",
       "       'history of alcohol consumption', 'blood in sputum',\n",
       "       'prominent veins on calf', 'palpitations', 'painful walking',\n",
       "       'pus filled pimples', 'blackheads', 'scurring', 'skin peeling',\n",
       "       'silver like dusting', 'small dents in nails',\n",
       "       'inflammatory nails', 'blister', 'red sore around nose',\n",
       "       'yellow crust ooze', 'prognosis'], dtype=object)"
      ]
     },
     "execution_count": 13,
     "metadata": {},
     "output_type": "execute_result"
    }
   ],
   "source": [
    "df1['Symptom'].unique()"
   ]
  },
  {
   "cell_type": "markdown",
   "id": "4b025eae",
   "metadata": {
    "papermill": {
     "duration": 0.059366,
     "end_time": "2022-01-05T09:59:50.784997",
     "exception": false,
     "start_time": "2022-01-05T09:59:50.725631",
     "status": "completed"
    },
    "tags": []
   },
   "source": [
    "**Encode symptoms in the data with the symptom rank**"
   ]
  },
  {
   "cell_type": "code",
   "execution_count": 14,
   "id": "df8627e9",
   "metadata": {
    "execution": {
     "iopub.execute_input": "2022-01-05T09:59:50.903067Z",
     "iopub.status.busy": "2022-01-05T09:59:50.902368Z",
     "iopub.status.idle": "2022-01-05T09:59:51.637407Z",
     "shell.execute_reply": "2022-01-05T09:59:51.636894Z",
     "shell.execute_reply.started": "2022-01-05T09:58:06.485991Z"
    },
    "papermill": {
     "duration": 0.794883,
     "end_time": "2022-01-05T09:59:51.637557",
     "exception": false,
     "start_time": "2022-01-05T09:59:50.842674",
     "status": "completed"
    },
    "tags": []
   },
   "outputs": [
    {
     "data": {
      "text/html": [
       "<div>\n",
       "<style scoped>\n",
       "    .dataframe tbody tr th:only-of-type {\n",
       "        vertical-align: middle;\n",
       "    }\n",
       "\n",
       "    .dataframe tbody tr th {\n",
       "        vertical-align: top;\n",
       "    }\n",
       "\n",
       "    .dataframe thead th {\n",
       "        text-align: right;\n",
       "    }\n",
       "</style>\n",
       "<table border=\"1\" class=\"dataframe\">\n",
       "  <thead>\n",
       "    <tr style=\"text-align: right;\">\n",
       "      <th></th>\n",
       "      <th>Disease</th>\n",
       "      <th>Symptom_1</th>\n",
       "      <th>Symptom_2</th>\n",
       "      <th>Symptom_3</th>\n",
       "      <th>Symptom_4</th>\n",
       "      <th>Symptom_5</th>\n",
       "      <th>Symptom_6</th>\n",
       "      <th>Symptom_7</th>\n",
       "      <th>Symptom_8</th>\n",
       "      <th>Symptom_9</th>\n",
       "      <th>Symptom_10</th>\n",
       "      <th>Symptom_11</th>\n",
       "      <th>Symptom_12</th>\n",
       "      <th>Symptom_13</th>\n",
       "      <th>Symptom_14</th>\n",
       "      <th>Symptom_15</th>\n",
       "      <th>Symptom_16</th>\n",
       "      <th>Symptom_17</th>\n",
       "    </tr>\n",
       "  </thead>\n",
       "  <tbody>\n",
       "    <tr>\n",
       "      <th>0</th>\n",
       "      <td>Acne</td>\n",
       "      <td>3</td>\n",
       "      <td>2</td>\n",
       "      <td>2</td>\n",
       "      <td>0</td>\n",
       "      <td>0</td>\n",
       "      <td>0</td>\n",
       "      <td>0</td>\n",
       "      <td>0</td>\n",
       "      <td>0</td>\n",
       "      <td>0</td>\n",
       "      <td>0</td>\n",
       "      <td>0</td>\n",
       "      <td>0</td>\n",
       "      <td>0</td>\n",
       "      <td>0</td>\n",
       "      <td>0</td>\n",
       "      <td>0</td>\n",
       "    </tr>\n",
       "    <tr>\n",
       "      <th>1</th>\n",
       "      <td>Acne</td>\n",
       "      <td>3</td>\n",
       "      <td>2</td>\n",
       "      <td>2</td>\n",
       "      <td>2</td>\n",
       "      <td>0</td>\n",
       "      <td>0</td>\n",
       "      <td>0</td>\n",
       "      <td>0</td>\n",
       "      <td>0</td>\n",
       "      <td>0</td>\n",
       "      <td>0</td>\n",
       "      <td>0</td>\n",
       "      <td>0</td>\n",
       "      <td>0</td>\n",
       "      <td>0</td>\n",
       "      <td>0</td>\n",
       "      <td>0</td>\n",
       "    </tr>\n",
       "    <tr>\n",
       "      <th>2</th>\n",
       "      <td>Hyperthyroidism</td>\n",
       "      <td>4</td>\n",
       "      <td>3</td>\n",
       "      <td>3</td>\n",
       "      <td>5</td>\n",
       "      <td>3</td>\n",
       "      <td>6</td>\n",
       "      <td>5</td>\n",
       "      <td>4</td>\n",
       "      <td>2</td>\n",
       "      <td>2</td>\n",
       "      <td>6</td>\n",
       "      <td>0</td>\n",
       "      <td>0</td>\n",
       "      <td>0</td>\n",
       "      <td>0</td>\n",
       "      <td>0</td>\n",
       "      <td>0</td>\n",
       "    </tr>\n",
       "    <tr>\n",
       "      <th>3</th>\n",
       "      <td>AIDS</td>\n",
       "      <td>3</td>\n",
       "      <td>6</td>\n",
       "      <td>7</td>\n",
       "      <td>5</td>\n",
       "      <td>0</td>\n",
       "      <td>0</td>\n",
       "      <td>0</td>\n",
       "      <td>0</td>\n",
       "      <td>0</td>\n",
       "      <td>0</td>\n",
       "      <td>0</td>\n",
       "      <td>0</td>\n",
       "      <td>0</td>\n",
       "      <td>0</td>\n",
       "      <td>0</td>\n",
       "      <td>0</td>\n",
       "      <td>0</td>\n",
       "    </tr>\n",
       "    <tr>\n",
       "      <th>4</th>\n",
       "      <td>Chronic cholestasis</td>\n",
       "      <td>1</td>\n",
       "      <td>5</td>\n",
       "      <td>3</td>\n",
       "      <td>5</td>\n",
       "      <td>4</td>\n",
       "      <td>4</td>\n",
       "      <td>4</td>\n",
       "      <td>0</td>\n",
       "      <td>0</td>\n",
       "      <td>0</td>\n",
       "      <td>0</td>\n",
       "      <td>0</td>\n",
       "      <td>0</td>\n",
       "      <td>0</td>\n",
       "      <td>0</td>\n",
       "      <td>0</td>\n",
       "      <td>0</td>\n",
       "    </tr>\n",
       "  </tbody>\n",
       "</table>\n",
       "</div>"
      ],
      "text/plain": [
       "               Disease Symptom_1 Symptom_2 Symptom_3 Symptom_4 Symptom_5  \\\n",
       "0                 Acne         3         2         2         0         0   \n",
       "1                 Acne         3         2         2         2         0   \n",
       "2      Hyperthyroidism         4         3         3         5         3   \n",
       "3                 AIDS         3         6         7         5         0   \n",
       "4  Chronic cholestasis         1         5         3         5         4   \n",
       "\n",
       "  Symptom_6 Symptom_7 Symptom_8 Symptom_9 Symptom_10 Symptom_11 Symptom_12  \\\n",
       "0         0         0         0         0          0          0          0   \n",
       "1         0         0         0         0          0          0          0   \n",
       "2         6         5         4         2          2          6          0   \n",
       "3         0         0         0         0          0          0          0   \n",
       "4         4         4         0         0          0          0          0   \n",
       "\n",
       "  Symptom_13 Symptom_14 Symptom_15 Symptom_16 Symptom_17  \n",
       "0          0          0          0          0          0  \n",
       "1          0          0          0          0          0  \n",
       "2          0          0          0          0          0  \n",
       "3          0          0          0          0          0  \n",
       "4          0          0          0          0          0  "
      ]
     },
     "execution_count": 14,
     "metadata": {},
     "output_type": "execute_result"
    }
   ],
   "source": [
    "vals = df.values\n",
    "symptoms = df1['Symptom'].unique()\n",
    "\n",
    "for i in range(len(symptoms)):\n",
    "    vals[vals == symptoms[i]] = df1[df1['Symptom'] == symptoms[i]]['weight'].values[0]\n",
    "    \n",
    "d = pd.DataFrame(vals, columns=cols)\n",
    "d.head()"
   ]
  },
  {
   "cell_type": "markdown",
   "id": "18bd75c4",
   "metadata": {
    "papermill": {
     "duration": 0.058035,
     "end_time": "2022-01-05T09:59:51.757039",
     "exception": false,
     "start_time": "2022-01-05T09:59:51.699004",
     "status": "completed"
    },
    "tags": []
   },
   "source": [
    "**Assign symptoms with no rank to zero**"
   ]
  },
  {
   "cell_type": "code",
   "execution_count": 15,
   "id": "10b6dadb",
   "metadata": {
    "execution": {
     "iopub.execute_input": "2022-01-05T09:59:51.883586Z",
     "iopub.status.busy": "2022-01-05T09:59:51.882887Z",
     "iopub.status.idle": "2022-01-05T09:59:51.936805Z",
     "shell.execute_reply": "2022-01-05T09:59:51.936307Z",
     "shell.execute_reply.started": "2022-01-05T09:58:07.199506Z"
    },
    "papermill": {
     "duration": 0.122531,
     "end_time": "2022-01-05T09:59:51.936960",
     "exception": false,
     "start_time": "2022-01-05T09:59:51.814429",
     "status": "completed"
    },
    "tags": []
   },
   "outputs": [
    {
     "data": {
      "text/html": [
       "<div>\n",
       "<style scoped>\n",
       "    .dataframe tbody tr th:only-of-type {\n",
       "        vertical-align: middle;\n",
       "    }\n",
       "\n",
       "    .dataframe tbody tr th {\n",
       "        vertical-align: top;\n",
       "    }\n",
       "\n",
       "    .dataframe thead th {\n",
       "        text-align: right;\n",
       "    }\n",
       "</style>\n",
       "<table border=\"1\" class=\"dataframe\">\n",
       "  <thead>\n",
       "    <tr style=\"text-align: right;\">\n",
       "      <th></th>\n",
       "      <th>Disease</th>\n",
       "      <th>Symptom_1</th>\n",
       "      <th>Symptom_2</th>\n",
       "      <th>Symptom_3</th>\n",
       "      <th>Symptom_4</th>\n",
       "      <th>Symptom_5</th>\n",
       "      <th>Symptom_6</th>\n",
       "      <th>Symptom_7</th>\n",
       "      <th>Symptom_8</th>\n",
       "      <th>Symptom_9</th>\n",
       "      <th>Symptom_10</th>\n",
       "      <th>Symptom_11</th>\n",
       "      <th>Symptom_12</th>\n",
       "      <th>Symptom_13</th>\n",
       "      <th>Symptom_14</th>\n",
       "      <th>Symptom_15</th>\n",
       "      <th>Symptom_16</th>\n",
       "      <th>Symptom_17</th>\n",
       "    </tr>\n",
       "  </thead>\n",
       "  <tbody>\n",
       "    <tr>\n",
       "      <th>0</th>\n",
       "      <td>Acne</td>\n",
       "      <td>3</td>\n",
       "      <td>2</td>\n",
       "      <td>2</td>\n",
       "      <td>0</td>\n",
       "      <td>0</td>\n",
       "      <td>0</td>\n",
       "      <td>0</td>\n",
       "      <td>0</td>\n",
       "      <td>0</td>\n",
       "      <td>0</td>\n",
       "      <td>0</td>\n",
       "      <td>0</td>\n",
       "      <td>0</td>\n",
       "      <td>0</td>\n",
       "      <td>0</td>\n",
       "      <td>0</td>\n",
       "      <td>0</td>\n",
       "    </tr>\n",
       "    <tr>\n",
       "      <th>1</th>\n",
       "      <td>Acne</td>\n",
       "      <td>3</td>\n",
       "      <td>2</td>\n",
       "      <td>2</td>\n",
       "      <td>2</td>\n",
       "      <td>0</td>\n",
       "      <td>0</td>\n",
       "      <td>0</td>\n",
       "      <td>0</td>\n",
       "      <td>0</td>\n",
       "      <td>0</td>\n",
       "      <td>0</td>\n",
       "      <td>0</td>\n",
       "      <td>0</td>\n",
       "      <td>0</td>\n",
       "      <td>0</td>\n",
       "      <td>0</td>\n",
       "      <td>0</td>\n",
       "    </tr>\n",
       "    <tr>\n",
       "      <th>2</th>\n",
       "      <td>Hyperthyroidism</td>\n",
       "      <td>4</td>\n",
       "      <td>3</td>\n",
       "      <td>3</td>\n",
       "      <td>5</td>\n",
       "      <td>3</td>\n",
       "      <td>6</td>\n",
       "      <td>5</td>\n",
       "      <td>4</td>\n",
       "      <td>2</td>\n",
       "      <td>2</td>\n",
       "      <td>6</td>\n",
       "      <td>0</td>\n",
       "      <td>0</td>\n",
       "      <td>0</td>\n",
       "      <td>0</td>\n",
       "      <td>0</td>\n",
       "      <td>0</td>\n",
       "    </tr>\n",
       "    <tr>\n",
       "      <th>3</th>\n",
       "      <td>AIDS</td>\n",
       "      <td>3</td>\n",
       "      <td>6</td>\n",
       "      <td>7</td>\n",
       "      <td>5</td>\n",
       "      <td>0</td>\n",
       "      <td>0</td>\n",
       "      <td>0</td>\n",
       "      <td>0</td>\n",
       "      <td>0</td>\n",
       "      <td>0</td>\n",
       "      <td>0</td>\n",
       "      <td>0</td>\n",
       "      <td>0</td>\n",
       "      <td>0</td>\n",
       "      <td>0</td>\n",
       "      <td>0</td>\n",
       "      <td>0</td>\n",
       "    </tr>\n",
       "    <tr>\n",
       "      <th>4</th>\n",
       "      <td>Chronic cholestasis</td>\n",
       "      <td>1</td>\n",
       "      <td>5</td>\n",
       "      <td>3</td>\n",
       "      <td>5</td>\n",
       "      <td>4</td>\n",
       "      <td>4</td>\n",
       "      <td>4</td>\n",
       "      <td>0</td>\n",
       "      <td>0</td>\n",
       "      <td>0</td>\n",
       "      <td>0</td>\n",
       "      <td>0</td>\n",
       "      <td>0</td>\n",
       "      <td>0</td>\n",
       "      <td>0</td>\n",
       "      <td>0</td>\n",
       "      <td>0</td>\n",
       "    </tr>\n",
       "    <tr>\n",
       "      <th>5</th>\n",
       "      <td>Hypertension</td>\n",
       "      <td>3</td>\n",
       "      <td>7</td>\n",
       "      <td>4</td>\n",
       "      <td>4</td>\n",
       "      <td>3</td>\n",
       "      <td>0</td>\n",
       "      <td>0</td>\n",
       "      <td>0</td>\n",
       "      <td>0</td>\n",
       "      <td>0</td>\n",
       "      <td>0</td>\n",
       "      <td>0</td>\n",
       "      <td>0</td>\n",
       "      <td>0</td>\n",
       "      <td>0</td>\n",
       "      <td>0</td>\n",
       "      <td>0</td>\n",
       "    </tr>\n",
       "    <tr>\n",
       "      <th>6</th>\n",
       "      <td>Hypoglycemia</td>\n",
       "      <td>5</td>\n",
       "      <td>4</td>\n",
       "      <td>4</td>\n",
       "      <td>3</td>\n",
       "      <td>3</td>\n",
       "      <td>5</td>\n",
       "      <td>5</td>\n",
       "      <td>4</td>\n",
       "      <td>4</td>\n",
       "      <td>4</td>\n",
       "      <td>2</td>\n",
       "      <td>4</td>\n",
       "      <td>0</td>\n",
       "      <td>0</td>\n",
       "      <td>0</td>\n",
       "      <td>0</td>\n",
       "      <td>0</td>\n",
       "    </tr>\n",
       "    <tr>\n",
       "      <th>7</th>\n",
       "      <td>Arthritis</td>\n",
       "      <td>2</td>\n",
       "      <td>4</td>\n",
       "      <td>5</td>\n",
       "      <td>2</td>\n",
       "      <td>0</td>\n",
       "      <td>0</td>\n",
       "      <td>0</td>\n",
       "      <td>0</td>\n",
       "      <td>0</td>\n",
       "      <td>0</td>\n",
       "      <td>0</td>\n",
       "      <td>0</td>\n",
       "      <td>0</td>\n",
       "      <td>0</td>\n",
       "      <td>0</td>\n",
       "      <td>0</td>\n",
       "      <td>0</td>\n",
       "    </tr>\n",
       "    <tr>\n",
       "      <th>8</th>\n",
       "      <td>Hepatitis B</td>\n",
       "      <td>1</td>\n",
       "      <td>4</td>\n",
       "      <td>2</td>\n",
       "      <td>3</td>\n",
       "      <td>4</td>\n",
       "      <td>4</td>\n",
       "      <td>4</td>\n",
       "      <td>4</td>\n",
       "      <td>4</td>\n",
       "      <td>6</td>\n",
       "      <td>5</td>\n",
       "      <td>2</td>\n",
       "      <td>0</td>\n",
       "      <td>0</td>\n",
       "      <td>0</td>\n",
       "      <td>0</td>\n",
       "      <td>0</td>\n",
       "    </tr>\n",
       "    <tr>\n",
       "      <th>9</th>\n",
       "      <td>Migraine</td>\n",
       "      <td>3</td>\n",
       "      <td>5</td>\n",
       "      <td>3</td>\n",
       "      <td>5</td>\n",
       "      <td>4</td>\n",
       "      <td>4</td>\n",
       "      <td>3</td>\n",
       "      <td>2</td>\n",
       "      <td>3</td>\n",
       "      <td>0</td>\n",
       "      <td>0</td>\n",
       "      <td>0</td>\n",
       "      <td>0</td>\n",
       "      <td>0</td>\n",
       "      <td>0</td>\n",
       "      <td>0</td>\n",
       "      <td>0</td>\n",
       "    </tr>\n",
       "  </tbody>\n",
       "</table>\n",
       "</div>"
      ],
      "text/plain": [
       "               Disease  Symptom_1  Symptom_2  Symptom_3  Symptom_4  Symptom_5  \\\n",
       "0                 Acne          3          2          2          0          0   \n",
       "1                 Acne          3          2          2          2          0   \n",
       "2      Hyperthyroidism          4          3          3          5          3   \n",
       "3                 AIDS          3          6          7          5          0   \n",
       "4  Chronic cholestasis          1          5          3          5          4   \n",
       "5         Hypertension          3          7          4          4          3   \n",
       "6         Hypoglycemia          5          4          4          3          3   \n",
       "7            Arthritis          2          4          5          2          0   \n",
       "8          Hepatitis B          1          4          2          3          4   \n",
       "9             Migraine          3          5          3          5          4   \n",
       "\n",
       "   Symptom_6  Symptom_7  Symptom_8  Symptom_9  Symptom_10  Symptom_11  \\\n",
       "0          0          0          0          0           0           0   \n",
       "1          0          0          0          0           0           0   \n",
       "2          6          5          4          2           2           6   \n",
       "3          0          0          0          0           0           0   \n",
       "4          4          4          0          0           0           0   \n",
       "5          0          0          0          0           0           0   \n",
       "6          5          5          4          4           4           2   \n",
       "7          0          0          0          0           0           0   \n",
       "8          4          4          4          4           6           5   \n",
       "9          4          3          2          3           0           0   \n",
       "\n",
       "   Symptom_12  Symptom_13  Symptom_14  Symptom_15  Symptom_16  Symptom_17  \n",
       "0           0           0           0           0           0           0  \n",
       "1           0           0           0           0           0           0  \n",
       "2           0           0           0           0           0           0  \n",
       "3           0           0           0           0           0           0  \n",
       "4           0           0           0           0           0           0  \n",
       "5           0           0           0           0           0           0  \n",
       "6           4           0           0           0           0           0  \n",
       "7           0           0           0           0           0           0  \n",
       "8           2           0           0           0           0           0  \n",
       "9           0           0           0           0           0           0  "
      ]
     },
     "execution_count": 15,
     "metadata": {},
     "output_type": "execute_result"
    }
   ],
   "source": [
    "d = d.replace('dischromic  patches', 0)\n",
    "d = d.replace('spotting  urination',0)\n",
    "df = d.replace('foul smell of urine',0)\n",
    "df.head(10)"
   ]
  },
  {
   "cell_type": "markdown",
   "id": "b2210746",
   "metadata": {
    "papermill": {
     "duration": 0.058254,
     "end_time": "2022-01-05T09:59:52.055688",
     "exception": false,
     "start_time": "2022-01-05T09:59:51.997434",
     "status": "completed"
    },
    "tags": []
   },
   "source": [
    "**Check if entire columns have zero values so we can drop those values**"
   ]
  },
  {
   "cell_type": "code",
   "execution_count": 16,
   "id": "c491daac",
   "metadata": {
    "execution": {
     "iopub.execute_input": "2022-01-05T09:59:52.196123Z",
     "iopub.status.busy": "2022-01-05T09:59:52.195408Z",
     "iopub.status.idle": "2022-01-05T09:59:52.198771Z",
     "shell.execute_reply": "2022-01-05T09:59:52.198159Z",
     "shell.execute_reply.started": "2022-01-05T09:58:07.265587Z"
    },
    "papermill": {
     "duration": 0.084729,
     "end_time": "2022-01-05T09:59:52.198924",
     "exception": false,
     "start_time": "2022-01-05T09:59:52.114195",
     "status": "completed"
    },
    "tags": []
   },
   "outputs": [
    {
     "name": "stdout",
     "output_type": "stream",
     "text": [
      "            count\n",
      "Disease         0\n",
      "Symptom_1       0\n",
      "Symptom_2       0\n",
      "Symptom_3       0\n",
      "Symptom_4       0\n",
      "Symptom_5       0\n",
      "Symptom_6       0\n",
      "Symptom_7       0\n",
      "Symptom_8       0\n",
      "Symptom_9       0\n",
      "Symptom_10      0\n",
      "Symptom_11      0\n",
      "Symptom_12      0\n",
      "Symptom_13      0\n",
      "Symptom_14      0\n",
      "Symptom_15      0\n",
      "Symptom_16      0\n",
      "Symptom_17      0\n"
     ]
    }
   ],
   "source": [
    "null_checker = df.apply(lambda x: sum(x.isnull())).to_frame(name='count')\n",
    "print(null_checker)"
   ]
  },
  {
   "cell_type": "code",
   "execution_count": 17,
   "id": "dd6706db",
   "metadata": {
    "execution": {
     "iopub.execute_input": "2022-01-05T09:59:52.322368Z",
     "iopub.status.busy": "2022-01-05T09:59:52.321707Z",
     "iopub.status.idle": "2022-01-05T09:59:52.564458Z",
     "shell.execute_reply": "2022-01-05T09:59:52.564979Z",
     "shell.execute_reply.started": "2022-01-05T09:58:07.293508Z"
    },
    "papermill": {
     "duration": 0.306444,
     "end_time": "2022-01-05T09:59:52.565156",
     "exception": false,
     "start_time": "2022-01-05T09:59:52.258712",
     "status": "completed"
    },
    "tags": []
   },
   "outputs": [
    {
     "data": {
      "image/png": "[encoded data removed]",
      "text/plain": [
       "<Figure size 720x360 with 1 Axes>"
      ]
     },
     "metadata": {
      "needs_background": "light"
     },
     "output_type": "display_data"
    }
   ],
   "source": [
    "plt.figure(figsize=(10,5))\n",
    "plt.plot(null_checker.index, null_checker['count'])\n",
    "plt.xticks(null_checker.index, null_checker.index, rotation=45,\n",
    "horizontalalignment='right')\n",
    "plt.title('After removing Null values')\n",
    "plt.xlabel('column names')\n",
    "plt.margins(0.01)\n",
    "plt.show()"
   ]
  },
  {
   "cell_type": "code",
   "execution_count": 18,
   "id": "37504f2b",
   "metadata": {
    "execution": {
     "iopub.execute_input": "2022-01-05T09:59:52.696226Z",
     "iopub.status.busy": "2022-01-05T09:59:52.695522Z",
     "iopub.status.idle": "2022-01-05T09:59:52.702211Z",
     "shell.execute_reply": "2022-01-05T09:59:52.702722Z",
     "shell.execute_reply.started": "2022-01-05T09:58:07.527611Z"
    },
    "papermill": {
     "duration": 0.069885,
     "end_time": "2022-01-05T09:59:52.702912",
     "exception": false,
     "start_time": "2022-01-05T09:59:52.633027",
     "status": "completed"
    },
    "tags": []
   },
   "outputs": [
    {
     "name": "stdout",
     "output_type": "stream",
     "text": [
      "Number of symptoms used to identify the disease  132\n",
      "Number of diseases that can be identified  41\n"
     ]
    }
   ],
   "source": [
    "print(\"Number of symptoms used to identify the disease \",len(df1['Symptom'].unique()))\n",
    "print(\"Number of diseases that can be identified \",len(df['Disease'].unique()))"
   ]
  },
  {
   "cell_type": "markdown",
   "id": "07c93a6f",
   "metadata": {
    "papermill": {
     "duration": 0.060381,
     "end_time": "2022-01-05T09:59:52.825075",
     "exception": false,
     "start_time": "2022-01-05T09:59:52.764694",
     "status": "completed"
    },
    "tags": []
   },
   "source": [
    "### Compare linear relationships between attributes using correlation coefficient"
   ]
  },
  {
   "cell_type": "code",
   "execution_count": 19,
   "id": "14531471",
   "metadata": {
    "execution": {
     "iopub.execute_input": "2022-01-05T09:59:52.949276Z",
     "iopub.status.busy": "2022-01-05T09:59:52.948263Z",
     "iopub.status.idle": "2022-01-05T09:59:55.519786Z",
     "shell.execute_reply": "2022-01-05T09:59:55.520339Z",
     "shell.execute_reply.started": "2022-01-05T09:58:07.537369Z"
    },
    "papermill": {
     "duration": 2.635499,
     "end_time": "2022-01-05T09:59:55.520515",
     "exception": false,
     "start_time": "2022-01-05T09:59:52.885016",
     "status": "completed"
    },
    "tags": []
   },
   "outputs": [
    {
     "data": {
      "text/plain": [
       "<AxesSubplot:>"
      ]
     },
     "execution_count": 19,
     "metadata": {},
     "output_type": "execute_result"
    },
    {
     "data": {
      "image/png": "[encoded data removed]",
      "text/plain": [
       "<Figure size 1080x720 with 2 Axes>"
      ]
     },
     "metadata": {
      "needs_background": "light"
     },
     "output_type": "display_data"
    }
   ],
   "source": [
    "new_df = pd.read_csv('newdf.csv')\n",
    "encoding = pd.read_csv('decryption.csv',index_col=0)\n",
    "new_df.drop(labels=[\"132\",'74','0'],axis=1,inplace=True)\n",
    "renameddf=new_df.rename(errors='raise',inplace=False,columns= {str(x):y for y,x in encoding.to_dict()['code'].items()})\n",
    "renameddf\n",
    "plt.figure(figsize= (15,10))\n",
    "sns.heatmap(renameddf.corr(),cmap=\"PuBu\",annot=False)"
   ]
  },
  {
   "cell_type": "markdown",
   "id": "919d542e",
   "metadata": {
    "papermill": {
     "duration": 0.09164,
     "end_time": "2022-01-05T09:59:55.686064",
     "exception": false,
     "start_time": "2022-01-05T09:59:55.594424",
     "status": "completed"
    },
    "tags": []
   },
   "source": [
    "# pandas report on dataset"
   ]
  },
  {
   "cell_type": "code",
   "execution_count": 20,
   "id": "efd9a33a",
   "metadata": {
    "execution": {
     "iopub.execute_input": "2022-01-05T09:59:55.826433Z",
     "iopub.status.busy": "2022-01-05T09:59:55.825717Z",
     "iopub.status.idle": "2022-01-05T09:59:55.828211Z",
     "shell.execute_reply": "2022-01-05T09:59:55.827576Z",
     "shell.execute_reply.started": "2022-01-05T09:58:10.280035Z"
    },
    "papermill": {
     "duration": 0.07165,
     "end_time": "2022-01-05T09:59:55.828356",
     "exception": false,
     "start_time": "2022-01-05T09:59:55.756706",
     "status": "completed"
    },
    "tags": []
   },
   "outputs": [],
   "source": [
    "# ProfileReport(df)"
   ]
  },
  {
   "cell_type": "markdown",
   "id": "84ce4fc8",
   "metadata": {
    "papermill": {
     "duration": 0.065113,
     "end_time": "2022-01-05T09:59:55.958946",
     "exception": false,
     "start_time": "2022-01-05T09:59:55.893833",
     "status": "completed"
    },
    "tags": []
   },
   "source": [
    "**Get the names of diseases from data**"
   ]
  },
  {
   "cell_type": "code",
   "execution_count": 21,
   "id": "912f0707",
   "metadata": {
    "execution": {
     "iopub.execute_input": "2022-01-05T09:59:56.098031Z",
     "iopub.status.busy": "2022-01-05T09:59:56.097339Z",
     "iopub.status.idle": "2022-01-05T09:59:56.102691Z",
     "shell.execute_reply": "2022-01-05T09:59:56.102190Z",
     "shell.execute_reply.started": "2022-01-05T09:58:10.284717Z"
    },
    "papermill": {
     "duration": 0.074798,
     "end_time": "2022-01-05T09:59:56.102836",
     "exception": false,
     "start_time": "2022-01-05T09:59:56.028038",
     "status": "completed"
    },
    "tags": []
   },
   "outputs": [
    {
     "data": {
      "text/plain": [
       "array(['Acne', 'Hyperthyroidism', 'AIDS', 'Chronic cholestasis',\n",
       "       'Hypertension', 'Hypoglycemia', 'Arthritis', 'Hepatitis B',\n",
       "       'Migraine', 'Urinary tract infection', 'Diabetes', 'Hepatitis D',\n",
       "       'Psoriasis', 'Alcoholic hepatitis', 'Dimorphic hemmorhoids(piles)',\n",
       "       'Hepatitis E', 'Cervical spondylosis', 'Bronchial Asthma',\n",
       "       'hepatitis A', 'Allergy', 'Hepatitis C', 'Pneumonia',\n",
       "       'Hypothyroidism', 'Gastroenteritis', 'Varicose veins', 'Jaundice',\n",
       "       'Drug Reaction', '(vertigo) Paroymsal  Positional Vertigo',\n",
       "       'Heart attack', 'Tuberculosis', 'Typhoid', 'Common Cold',\n",
       "       'Peptic ulcer diseae', 'Paralysis (brain hemorrhage)',\n",
       "       'Fungal infection', 'Impetigo', 'GERD', 'Dengue', 'Malaria',\n",
       "       'Chicken pox', 'Osteoarthristis'], dtype=object)"
      ]
     },
     "execution_count": 21,
     "metadata": {},
     "output_type": "execute_result"
    }
   ],
   "source": [
    "df['Disease'].unique()"
   ]
  },
  {
   "cell_type": "markdown",
   "id": "a6363165",
   "metadata": {
    "papermill": {
     "duration": 0.064831,
     "end_time": "2022-01-05T09:59:56.232812",
     "exception": false,
     "start_time": "2022-01-05T09:59:56.167981",
     "status": "completed"
    },
    "tags": []
   },
   "source": [
    "### Select the features as symptoms column and label as Disease column\n",
    "\n",
    "Explination: A **feature** is an input; **label** is an output.\n",
    "A feature is one column of the data in your input set. For instance, if you're trying to predict the type of pet someone will choose, your input features might include age, home region, family income, etc. The label is the final choice, such as dog, fish, iguana, rock, etc.\n",
    "\n",
    "Once you've trained your model, you will give it sets of new input containing those features; it will return the predicted \"label\" (pet type) for that person."
   ]
  },
  {
   "cell_type": "code",
   "execution_count": 22,
   "id": "594b6626",
   "metadata": {
    "execution": {
     "iopub.execute_input": "2022-01-05T09:59:56.367459Z",
     "iopub.status.busy": "2022-01-05T09:59:56.366562Z",
     "iopub.status.idle": "2022-01-05T09:59:56.371919Z",
     "shell.execute_reply": "2022-01-05T09:59:56.372443Z",
     "shell.execute_reply.started": "2022-01-05T09:58:10.304919Z"
    },
    "papermill": {
     "duration": 0.074942,
     "end_time": "2022-01-05T09:59:56.372617",
     "exception": false,
     "start_time": "2022-01-05T09:59:56.297675",
     "status": "completed"
    },
    "tags": []
   },
   "outputs": [],
   "source": [
    "data = df.iloc[:,1:].values\n",
    "labels = df['Disease'].values"
   ]
  },
  {
   "cell_type": "markdown",
   "id": "6c02f82e",
   "metadata": {
    "papermill": {
     "duration": 0.064594,
     "end_time": "2022-01-05T09:59:56.503773",
     "exception": false,
     "start_time": "2022-01-05T09:59:56.439179",
     "status": "completed"
    },
    "tags": []
   },
   "source": [
    "## Splitting the dataset to training (80%) and testing (20%)\n",
    "\n",
    "Separating data into training and testing sets is an important part of evaluating data mining models. Typically, when you separate a data set into a training set and testing set, most of the data is used for training, and a smaller portion of the data is used for testing. By using similar data for training and testing, you can minimize the effects of data discrepancies and better understand the characteristics of the model.\n",
    "After a model has been processed by using the training set, we test the model by making predictions against the test set. Because the data in the testing set already contains known values for the attribute that you want to predict, it is easy to determine whether the model's guesses are correct.\n",
    "\n",
    "* Train Dataset: Used to fit the machine learning model.\n",
    "* Test Dataset: Used to evaluate the fit machine learning model."
   ]
  },
  {
   "cell_type": "code",
   "execution_count": 23,
   "id": "28cb704c",
   "metadata": {
    "execution": {
     "iopub.execute_input": "2022-01-05T09:59:56.637831Z",
     "iopub.status.busy": "2022-01-05T09:59:56.637162Z",
     "iopub.status.idle": "2022-01-05T09:59:56.644937Z",
     "shell.execute_reply": "2022-01-05T09:59:56.645580Z",
     "shell.execute_reply.started": "2022-01-05T09:58:10.318195Z"
    },
    "papermill": {
     "duration": 0.07657,
     "end_time": "2022-01-05T09:59:56.645759",
     "exception": false,
     "start_time": "2022-01-05T09:59:56.569189",
     "status": "completed"
    },
    "tags": []
   },
   "outputs": [
    {
     "name": "stdout",
     "output_type": "stream",
     "text": [
      "(3936, 17) (984, 17) (3936,) (984,)\n"
     ]
    }
   ],
   "source": [
    "x_train, x_test, y_train, y_test = train_test_split(data, labels, train_size = 0.8,random_state=42)\n",
    "print(x_train.shape, x_test.shape, y_train.shape, y_test.shape)"
   ]
  },
  {
   "cell_type": "markdown",
   "id": "8e5a918b",
   "metadata": {
    "papermill": {
     "duration": 0.0661,
     "end_time": "2022-01-05T09:59:56.778042",
     "exception": false,
     "start_time": "2022-01-05T09:59:56.711942",
     "status": "completed"
    },
    "tags": []
   },
   "source": [
    "\n",
    "**Initialize and train a Support vector classifier**"
   ]
  },
  {
   "cell_type": "code",
   "execution_count": 24,
   "id": "7b9748ea",
   "metadata": {
    "execution": {
     "iopub.execute_input": "2022-01-05T09:59:56.911256Z",
     "iopub.status.busy": "2022-01-05T09:59:56.910577Z",
     "iopub.status.idle": "2022-01-05T09:59:57.075869Z",
     "shell.execute_reply": "2022-01-05T09:59:57.075293Z",
     "shell.execute_reply.started": "2022-01-05T09:58:10.334768Z"
    },
    "papermill": {
     "duration": 0.232894,
     "end_time": "2022-01-05T09:59:57.076010",
     "exception": false,
     "start_time": "2022-01-05T09:59:56.843116",
     "status": "completed"
    },
    "tags": []
   },
   "outputs": [
    {
     "data": {
      "text/plain": [
       "SVC()"
      ]
     },
     "execution_count": 24,
     "metadata": {},
     "output_type": "execute_result"
    }
   ],
   "source": [
    "SVM_unhyperd= SVC()\n",
    "SVM_unhyperd.fit(x_train, y_train)"
   ]
  },
  {
   "cell_type": "markdown",
   "id": "1f12cbdf",
   "metadata": {
    "papermill": {
     "duration": 0.067629,
     "end_time": "2022-01-05T09:59:57.209376",
     "exception": false,
     "start_time": "2022-01-05T09:59:57.141747",
     "status": "completed"
    },
    "tags": []
   },
   "source": [
    "### Compute the F1 score, also known as balanced F-score or F-measure.\n",
    "\n",
    "The F1 score can be interpreted as a weighted average of the precision and\n",
    "recall, where an F1 score reaches its best value at 1 and worst score at 0.\n",
    "The relative contribution of precision and recall to the F1 score are\n",
    "equal. The formula for the F1 score is\n",
    "\n",
    "    F1 = 2 * (precision * recall) / (precision + recall)"
   ]
  },
  {
   "cell_type": "code",
   "execution_count": 25,
   "id": "a7954561",
   "metadata": {
    "execution": {
     "iopub.execute_input": "2022-01-05T09:59:57.351148Z",
     "iopub.status.busy": "2022-01-05T09:59:57.350117Z",
     "iopub.status.idle": "2022-01-05T09:59:57.542073Z",
     "shell.execute_reply": "2022-01-05T09:59:57.543098Z",
     "shell.execute_reply.started": "2022-01-05T09:58:10.502704Z"
    },
    "papermill": {
     "duration": 0.268348,
     "end_time": "2022-01-05T09:59:57.543416",
     "exception": false,
     "start_time": "2022-01-05T09:59:57.275068",
     "status": "completed"
    },
    "scrolled": true,
    "tags": []
   },
   "outputs": [
    {
     "name": "stdout",
     "output_type": "stream",
     "text": [
      "F1-score% = 93.10485856410196 | Accuracy% = 93.4959349593496 | Precision% = 94.2446688327875\n"
     ]
    }
   ],
   "source": [
    "preds = SVM_unhyperd.predict(x_test)\n",
    "conf_mat = confusion_matrix(y_test, preds)\n",
    "df_cm = pd.DataFrame(conf_mat, index=df['Disease'].unique(), columns=df['Disease'].unique())\n",
    "print('F1-score% =', f1_score(y_test, preds, average='macro')*100, '|', 'Accuracy% =', accuracy_score(y_test, preds)*100,'|', 'Precision% =', precision_score(y_test, preds,average='macro')*100)"
   ]
  },
  {
   "cell_type": "markdown",
   "id": "7eb01290",
   "metadata": {
    "papermill": {
     "duration": 0.065533,
     "end_time": "2022-01-05T09:59:57.676045",
     "exception": false,
     "start_time": "2022-01-05T09:59:57.610512",
     "status": "completed"
    },
    "tags": []
   },
   "source": [
    "**Plot the confusion matrix for 25 diseases**"
   ]
  },
  {
   "cell_type": "code",
   "execution_count": 26,
   "id": "b29e8b29",
   "metadata": {
    "execution": {
     "iopub.execute_input": "2022-01-05T09:59:57.827052Z",
     "iopub.status.busy": "2022-01-05T09:59:57.824703Z",
     "iopub.status.idle": "2022-01-05T09:59:58.365200Z",
     "shell.execute_reply": "2022-01-05T09:59:58.365678Z",
     "shell.execute_reply.started": "2022-01-05T09:58:10.697174Z"
    },
    "papermill": {
     "duration": 0.62412,
     "end_time": "2022-01-05T09:59:58.365876",
     "exception": false,
     "start_time": "2022-01-05T09:59:57.741756",
     "status": "completed"
    },
    "tags": []
   },
   "outputs": [
    {
     "data": {
      "text/plain": [
       "<AxesSubplot:>"
      ]
     },
     "execution_count": 26,
     "metadata": {},
     "output_type": "execute_result"
    },
    {
     "data": {
      "image/png": "[encoded data removed]",
      "text/plain": [
       "<Figure size 432x288 with 2 Axes>"
      ]
     },
     "metadata": {
      "needs_background": "light"
     },
     "output_type": "display_data"
    }
   ],
   "source": [
    "sns.heatmap(df_cm)"
   ]
  },
  {
   "cell_type": "code",
   "execution_count": 27,
   "id": "ea82034f",
   "metadata": {
    "execution": {
     "iopub.execute_input": "2022-01-05T09:59:58.510603Z",
     "iopub.status.busy": "2022-01-05T09:59:58.509928Z",
     "iopub.status.idle": "2022-01-05T10:00:00.469274Z",
     "shell.execute_reply": "2022-01-05T10:00:00.469741Z",
     "shell.execute_reply.started": "2022-01-05T09:58:11.212399Z"
    },
    "papermill": {
     "duration": 2.03614,
     "end_time": "2022-01-05T10:00:00.470085",
     "exception": false,
     "start_time": "2022-01-05T09:59:58.433945",
     "status": "completed"
    },
    "tags": []
   },
   "outputs": [
    {
     "name": "stdout",
     "output_type": "stream",
     "text": [
      "Mean Accuracy: 92.988%, Standard Deviation: (0.85%)\n"
     ]
    }
   ],
   "source": [
    "kfold = KFold(n_splits=10,shuffle=True,random_state=42)\n",
    "SVM_unhyperd_train =cross_val_score(SVM_unhyperd, x_train, y_train, cv=kfold, scoring='accuracy')\n",
    "pd.DataFrame(SVM_unhyperd_train,columns=['Scores'])\n",
    "print(\"Mean Accuracy: %.3f%%, Standard Deviation: (%.2f%%)\" % (SVM_unhyperd_train.mean()*100.0, SVM_unhyperd_train.std()*100.0))"
   ]
  },
  {
   "cell_type": "code",
   "execution_count": 28,
   "id": "c97ca97e",
   "metadata": {
    "execution": {
     "iopub.execute_input": "2022-01-05T10:00:00.613293Z",
     "iopub.status.busy": "2022-01-05T10:00:00.612254Z",
     "iopub.status.idle": "2022-01-05T10:00:01.010618Z",
     "shell.execute_reply": "2022-01-05T10:00:01.011113Z",
     "shell.execute_reply.started": "2022-01-05T09:58:13.205703Z"
    },
    "papermill": {
     "duration": 0.47341,
     "end_time": "2022-01-05T10:00:01.011288",
     "exception": false,
     "start_time": "2022-01-05T10:00:00.537878",
     "status": "completed"
    },
    "tags": []
   },
   "outputs": [
    {
     "name": "stdout",
     "output_type": "stream",
     "text": [
      "Mean Accuracy: 82.623%, Standard Deviation: (2.54%)\n"
     ]
    }
   ],
   "source": [
    "kfold = KFold(n_splits=10,shuffle=True,random_state=42)\n",
    "SVM_unhyperd_test =cross_val_score(SVM_unhyperd, x_test, y_test, cv=kfold, scoring='accuracy')\n",
    "pd.DataFrame(SVM_unhyperd_test,columns=['Scores'])\n",
    "print(\"Mean Accuracy: %.3f%%, Standard Deviation: (%.2f%%)\" % (SVM_unhyperd_test.mean()*100.0, SVM_unhyperd_test.std()*100.0))"
   ]
  },
  {
   "cell_type": "code",
   "execution_count": 29,
   "id": "ebadd955",
   "metadata": {
    "execution": {
     "iopub.execute_input": "2022-01-05T10:00:01.165144Z",
     "iopub.status.busy": "2022-01-05T10:00:01.164424Z",
     "iopub.status.idle": "2022-01-05T10:00:01.201706Z",
     "shell.execute_reply": "2022-01-05T10:00:01.201055Z",
     "shell.execute_reply.started": "2022-01-05T09:58:13.615515Z"
    },
    "papermill": {
     "duration": 0.122703,
     "end_time": "2022-01-05T10:00:01.201873",
     "exception": false,
     "start_time": "2022-01-05T10:00:01.079170",
     "status": "completed"
    },
    "tags": []
   },
   "outputs": [
    {
     "name": "stdout",
     "output_type": "stream",
     "text": [
      "                                         precision    recall  f1-score   support\n",
      "\n",
      "(vertigo) Paroymsal  Positional Vertigo       0.88      0.83      0.86        18\n",
      "                                   AIDS       0.95      1.00      0.98        20\n",
      "                                   Acne       1.00      1.00      1.00        32\n",
      "                    Alcoholic hepatitis       0.96      0.86      0.91        29\n",
      "                                Allergy       0.89      0.84      0.86        19\n",
      "                              Arthritis       0.91      0.97      0.94        31\n",
      "                       Bronchial Asthma       0.85      0.61      0.71        28\n",
      "                   Cervical spondylosis       0.74      0.97      0.84        30\n",
      "                            Chicken pox       1.00      1.00      1.00        27\n",
      "                    Chronic cholestasis       0.75      0.95      0.84        19\n",
      "                            Common Cold       1.00      1.00      1.00        25\n",
      "                                 Dengue       1.00      1.00      1.00        22\n",
      "                               Diabetes       1.00      1.00      1.00        23\n",
      "           Dimorphic hemmorhoids(piles)       0.94      1.00      0.97        30\n",
      "                          Drug Reaction       1.00      0.90      0.95        21\n",
      "                       Fungal infection       0.86      1.00      0.93        25\n",
      "                                   GERD       0.88      0.96      0.92        24\n",
      "                        Gastroenteritis       0.58      0.95      0.72        20\n",
      "                           Heart attack       1.00      0.50      0.67        18\n",
      "                            Hepatitis B       1.00      1.00      1.00        28\n",
      "                            Hepatitis C       0.95      0.95      0.95        19\n",
      "                            Hepatitis D       1.00      1.00      1.00        22\n",
      "                            Hepatitis E       1.00      1.00      1.00        30\n",
      "                           Hypertension       0.96      0.79      0.87        29\n",
      "                        Hyperthyroidism       1.00      1.00      1.00        24\n",
      "                           Hypoglycemia       1.00      1.00      1.00        27\n",
      "                         Hypothyroidism       1.00      1.00      1.00        28\n",
      "                               Impetigo       1.00      0.96      0.98        24\n",
      "                               Jaundice       1.00      0.72      0.84        25\n",
      "                                Malaria       1.00      1.00      1.00        26\n",
      "                               Migraine       1.00      1.00      1.00        18\n",
      "                        Osteoarthristis       1.00      0.95      0.97        20\n",
      "           Paralysis (brain hemorrhage)       0.70      0.84      0.76        19\n",
      "                    Peptic ulcer diseae       0.90      1.00      0.95        27\n",
      "                              Pneumonia       1.00      1.00      1.00        21\n",
      "                              Psoriasis       1.00      1.00      1.00        22\n",
      "                           Tuberculosis       1.00      1.00      1.00        23\n",
      "                                Typhoid       1.00      1.00      1.00        20\n",
      "                Urinary tract infection       0.94      0.67      0.78        24\n",
      "                         Varicose veins       1.00      1.00      1.00        26\n",
      "                            hepatitis A       1.00      1.00      1.00        21\n",
      "\n",
      "                               accuracy                           0.93       984\n",
      "                              macro avg       0.94      0.93      0.93       984\n",
      "                           weighted avg       0.94      0.93      0.93       984\n",
      "\n"
     ]
    }
   ],
   "source": [
    "print(classification_report(y_test, preds))"
   ]
  },
  {
   "cell_type": "markdown",
   "id": "6129ed17",
   "metadata": {
    "papermill": {
     "duration": 0.067987,
     "end_time": "2022-01-05T10:00:01.338375",
     "exception": false,
     "start_time": "2022-01-05T10:00:01.270388",
     "status": "completed"
    },
    "tags": []
   },
   "source": [
    "# Hyperparameter tuning with GridSearchCV\n",
    "\n",
    "Performing hyperparameter tuning in order to determine the optimal values for our given model.The performance of a model significantly depends on the value of hyperparameters. There is no way to know in advance the best values for hyperparameters so ideally, we need to try all possible values to know the optimal values. Doing this manually could take a considerable amount of time and resources and thus we used GridSearchCV to automate the tuning of hyperparameters.\n",
    "**Note:** The ouput of the Gridsearchcv is **SVC(C=0.02, gamma=0.3, kernel='poly')**"
   ]
  },
  {
   "cell_type": "code",
   "execution_count": 30,
   "id": "ecbb65b4",
   "metadata": {
    "execution": {
     "iopub.execute_input": "2022-01-05T10:00:01.483674Z",
     "iopub.status.busy": "2022-01-05T10:00:01.482627Z",
     "iopub.status.idle": "2022-01-05T10:00:01.485253Z",
     "shell.execute_reply": "2022-01-05T10:00:01.484634Z",
     "shell.execute_reply.started": "2022-01-05T09:58:13.670778Z"
    },
    "papermill": {
     "duration": 0.078314,
     "end_time": "2022-01-05T10:00:01.485389",
     "exception": false,
     "start_time": "2022-01-05T10:00:01.407075",
     "status": "completed"
    },
    "tags": []
   },
   "outputs": [],
   "source": [
    "# param_grid = {'C': [0.2,0.4,0.6], 'gamma': [0.2,0.3,0.4,0],'kernel': ['linear','poly', 'sigmoid']}\n",
    "# grid = GridSearchCV(SVC(),param_grid,refit=True,verbose=2)\n",
    "# grid.fit(x_train,y_train)\n",
    "# print(grid.best_estimator_)\n",
    "# grid_predictions = grid.predict(x_test)\n",
    "# print(confusion_matrix(y_test,grid_predictions))\n",
    "# print(classification_report(y_test,grid_predictions))"
   ]
  },
  {
   "cell_type": "code",
   "execution_count": 31,
   "id": "f538d697",
   "metadata": {
    "execution": {
     "iopub.execute_input": "2022-01-05T10:00:01.639305Z",
     "iopub.status.busy": "2022-01-05T10:00:01.638334Z",
     "iopub.status.idle": "2022-01-05T10:00:02.295781Z",
     "shell.execute_reply": "2022-01-05T10:00:02.295265Z",
     "shell.execute_reply.started": "2022-01-05T09:58:13.676207Z"
    },
    "papermill": {
     "duration": 0.742397,
     "end_time": "2022-01-05T10:00:02.295940",
     "exception": false,
     "start_time": "2022-01-05T10:00:01.553543",
     "status": "completed"
    },
    "tags": []
   },
   "outputs": [
    {
     "name": "stdout",
     "output_type": "stream",
     "text": [
      "F1-score% = 99.58380389536958 | Accuracy% = 99.59349593495935\n"
     ]
    },
    {
     "data": {
      "text/plain": [
       "<AxesSubplot:>"
      ]
     },
     "execution_count": 31,
     "metadata": {},
     "output_type": "execute_result"
    },
    {
     "data": {
      "image/png": "[encoded data removed]",
      "text/plain": [
       "<Figure size 432x288 with 2 Axes>"
      ]
     },
     "metadata": {
      "needs_background": "light"
     },
     "output_type": "display_data"
    }
   ],
   "source": [
    "SVM_hyperd = SVC(C=0.02, gamma=0.3, kernel='poly')\n",
    "SVM_hyperd.fit(x_train, y_train)\n",
    "preds = SVM_hyperd.predict(x_test)\n",
    "conf_mat = confusion_matrix(y_test, preds)\n",
    "df_cm = pd.DataFrame(conf_mat, index=df['Disease'].unique(), columns=df['Disease'].unique())\n",
    "print('F1-score% =', f1_score(y_test, preds, average='macro')*100, '|', 'Accuracy% =', accuracy_score(y_test, preds)*100)\n",
    "sns.heatmap(df_cm)"
   ]
  },
  {
   "cell_type": "markdown",
   "id": "6f3d9ba7",
   "metadata": {
    "papermill": {
     "duration": 0.070458,
     "end_time": "2022-01-05T10:00:02.437472",
     "exception": false,
     "start_time": "2022-01-05T10:00:02.367014",
     "status": "completed"
    },
    "tags": []
   },
   "source": [
    "## Using 10-Fold Cross Validation to estimate the performance of machine learning models\n",
    "\n",
    "The procedure provides an estimate of the model performance on the dataset when making a prediction on data not used during training. It is less biased than some other techniques, such as a single train-test split for small- to modestly-sized dataset"
   ]
  },
  {
   "cell_type": "code",
   "execution_count": 32,
   "id": "dc81d3e4",
   "metadata": {
    "execution": {
     "iopub.execute_input": "2022-01-05T10:00:02.588574Z",
     "iopub.status.busy": "2022-01-05T10:00:02.587531Z",
     "iopub.status.idle": "2022-01-05T10:00:03.296387Z",
     "shell.execute_reply": "2022-01-05T10:00:03.296989Z",
     "shell.execute_reply.started": "2022-01-05T09:58:14.317177Z"
    },
    "papermill": {
     "duration": 0.788466,
     "end_time": "2022-01-05T10:00:03.297171",
     "exception": false,
     "start_time": "2022-01-05T10:00:02.508705",
     "status": "completed"
    },
    "tags": []
   },
   "outputs": [
    {
     "name": "stdout",
     "output_type": "stream",
     "text": [
      "Mean Accuracy: 99.492%, Standard Deviation: (0.38%)\n"
     ]
    }
   ],
   "source": [
    "kfold = KFold(n_splits=10,shuffle=True,random_state=42)\n",
    "SVM_hyperd_train =cross_val_score(SVM_hyperd, x_train, y_train, cv=kfold, scoring='accuracy')\n",
    "pd.DataFrame(SVM_hyperd_train,columns=['Scores'])\n",
    "print(\"Mean Accuracy: %.3f%%, Standard Deviation: (%.2f%%)\" % (SVM_hyperd_train.mean()*100.0, SVM_hyperd_train.std()*100.0))"
   ]
  },
  {
   "cell_type": "code",
   "execution_count": 33,
   "id": "2e6c4d61",
   "metadata": {
    "execution": {
     "iopub.execute_input": "2022-01-05T10:00:03.447195Z",
     "iopub.status.busy": "2022-01-05T10:00:03.446088Z",
     "iopub.status.idle": "2022-01-05T10:00:03.664066Z",
     "shell.execute_reply": "2022-01-05T10:00:03.664531Z",
     "shell.execute_reply.started": "2022-01-05T09:58:15.032462Z"
    },
    "papermill": {
     "duration": 0.294996,
     "end_time": "2022-01-05T10:00:03.664709",
     "exception": false,
     "start_time": "2022-01-05T10:00:03.369713",
     "status": "completed"
    },
    "tags": []
   },
   "outputs": [
    {
     "name": "stdout",
     "output_type": "stream",
     "text": [
      "Mean Accuracy: 96.639%, Standard Deviation: (1.94%)\n"
     ]
    }
   ],
   "source": [
    "kfold = KFold(n_splits=10,shuffle=True,random_state=42)\n",
    "SVM_hyperd_test =cross_val_score(SVM_hyperd, x_test, y_test, cv=kfold, scoring='accuracy')\n",
    "pd.DataFrame(SVM_hyperd_test,columns=['Scores'])\n",
    "print(\"Mean Accuracy: %.3f%%, Standard Deviation: (%.2f%%)\" % (SVM_hyperd_test.mean()*100.0, SVM_hyperd_test.std()*100.0))"
   ]
  },
  {
   "cell_type": "markdown",
   "id": "d169c9ca",
   "metadata": {
    "papermill": {
     "duration": 0.072475,
     "end_time": "2022-01-05T10:00:03.808736",
     "exception": false,
     "start_time": "2022-01-05T10:00:03.736261",
     "status": "completed"
    },
    "tags": []
   },
   "source": [
    "# Naive Bayes Model"
   ]
  },
  {
   "cell_type": "code",
   "execution_count": 34,
   "id": "b1da4661",
   "metadata": {
    "execution": {
     "iopub.execute_input": "2022-01-05T10:00:03.963646Z",
     "iopub.status.busy": "2022-01-05T10:00:03.962932Z",
     "iopub.status.idle": "2022-01-05T10:00:04.577213Z",
     "shell.execute_reply": "2022-01-05T10:00:04.577736Z",
     "shell.execute_reply.started": "2022-01-05T09:58:15.256392Z"
    },
    "papermill": {
     "duration": 0.697951,
     "end_time": "2022-01-05T10:00:04.577931",
     "exception": false,
     "start_time": "2022-01-05T10:00:03.879980",
     "status": "completed"
    },
    "tags": []
   },
   "outputs": [
    {
     "name": "stdout",
     "output_type": "stream",
     "text": [
      "F1-score% = 86.58357842139314 | Accuracy% = 87.70325203252033\n"
     ]
    },
    {
     "data": {
      "text/plain": [
       "<AxesSubplot:>"
      ]
     },
     "execution_count": 34,
     "metadata": {},
     "output_type": "execute_result"
    },
    {
     "data": {
      "image/png": "[encoded data removed]",
      "text/plain": [
       "<Figure size 432x288 with 2 Axes>"
      ]
     },
     "metadata": {
      "needs_background": "light"
     },
     "output_type": "display_data"
    }
   ],
   "source": [
    "from sklearn.naive_bayes import GaussianNB\n",
    "gaussian = GaussianNB()\n",
    "gaussian.fit(x_train, y_train)\n",
    "preds=gaussian.predict(x_test)\n",
    "conf_mat = confusion_matrix(y_test, preds)\n",
    "df_cm = pd.DataFrame(conf_mat, index=df['Disease'].unique(), columns=df['Disease'].unique())\n",
    "print('F1-score% =', f1_score(y_test, preds, average='macro')*100, '|', 'Accuracy% =', accuracy_score(y_test, preds)*100)\n",
    "sns.heatmap(df_cm)"
   ]
  },
  {
   "cell_type": "code",
   "execution_count": 35,
   "id": "51f0786c",
   "metadata": {
    "execution": {
     "iopub.execute_input": "2022-01-05T10:00:04.745704Z",
     "iopub.status.busy": "2022-01-05T10:00:04.744958Z",
     "iopub.status.idle": "2022-01-05T10:00:04.970285Z",
     "shell.execute_reply": "2022-01-05T10:00:04.971044Z",
     "shell.execute_reply.started": "2022-01-05T09:58:15.830347Z"
    },
    "papermill": {
     "duration": 0.313289,
     "end_time": "2022-01-05T10:00:04.971275",
     "exception": false,
     "start_time": "2022-01-05T10:00:04.657986",
     "status": "completed"
    },
    "tags": []
   },
   "outputs": [
    {
     "name": "stdout",
     "output_type": "stream",
     "text": [
      "Mean Accuracy: 86.840%, Standard Deviation: (1.65%)\n"
     ]
    }
   ],
   "source": [
    "kfold = KFold(n_splits=10,shuffle=True,random_state=42)\n",
    "gaussian_train =cross_val_score(gaussian, x_train, y_train, cv=kfold, scoring='accuracy')\n",
    "pd.DataFrame(gaussian_train,columns=['Scores'])\n",
    "print(\"Mean Accuracy: %.3f%%, Standard Deviation: (%.2f%%)\" % (gaussian_train.mean()*100.0, gaussian_train.std()*100.0))"
   ]
  },
  {
   "cell_type": "code",
   "execution_count": 36,
   "id": "cd9a56c0",
   "metadata": {
    "execution": {
     "iopub.execute_input": "2022-01-05T10:00:05.123392Z",
     "iopub.status.busy": "2022-01-05T10:00:05.122750Z",
     "iopub.status.idle": "2022-01-05T10:00:05.229288Z",
     "shell.execute_reply": "2022-01-05T10:00:05.228506Z",
     "shell.execute_reply.started": "2022-01-05T09:58:16.069753Z"
    },
    "papermill": {
     "duration": 0.182986,
     "end_time": "2022-01-05T10:00:05.229474",
     "exception": false,
     "start_time": "2022-01-05T10:00:05.046488",
     "status": "completed"
    },
    "tags": []
   },
   "outputs": [
    {
     "name": "stdout",
     "output_type": "stream",
     "text": [
      "Mean Accuracy: 85.666%, Standard Deviation: (1.77%)\n"
     ]
    }
   ],
   "source": [
    "kfold = KFold(n_splits=10,shuffle=True,random_state=42)\n",
    "gaussian_test =cross_val_score(gaussian, x_test, y_test, cv=kfold, scoring='accuracy')\n",
    "pd.DataFrame(gaussian_test,columns=['Scores'])\n",
    "print(\"Mean Accuracy: %.3f%%, Standard Deviation: (%.2f%%)\" % (gaussian_test.mean()*100.0, gaussian_test.std()*100.0))"
   ]
  },
  {
   "cell_type": "markdown",
   "id": "795c246a",
   "metadata": {
    "papermill": {
     "duration": 0.07438,
     "end_time": "2022-01-05T10:00:05.380208",
     "exception": false,
     "start_time": "2022-01-05T10:00:05.305828",
     "status": "completed"
    },
    "tags": []
   },
   "source": [
    "# Decision Tree"
   ]
  },
  {
   "cell_type": "code",
   "execution_count": 37,
   "id": "16841570",
   "metadata": {
    "execution": {
     "iopub.execute_input": "2022-01-05T10:00:05.535138Z",
     "iopub.status.busy": "2022-01-05T10:00:05.534143Z",
     "iopub.status.idle": "2022-01-05T10:00:06.124554Z",
     "shell.execute_reply": "2022-01-05T10:00:06.125071Z",
     "shell.execute_reply.started": "2022-01-05T09:58:16.182194Z"
    },
    "papermill": {
     "duration": 0.670475,
     "end_time": "2022-01-05T10:00:06.125244",
     "exception": false,
     "start_time": "2022-01-05T10:00:05.454769",
     "status": "completed"
    },
    "tags": []
   },
   "outputs": [
    {
     "name": "stdout",
     "output_type": "stream",
     "text": [
      "F1-score% = 95.7812664665753 | Accuracy% = 95.83333333333334\n"
     ]
    },
    {
     "data": {
      "text/plain": [
       "<AxesSubplot:>"
      ]
     },
     "execution_count": 37,
     "metadata": {},
     "output_type": "execute_result"
    },
    {
     "data": {
      "image/png": "[encoded data removed]",
      "text/plain": [
       "<Figure size 432x288 with 2 Axes>"
      ]
     },
     "metadata": {
      "needs_background": "light"
     },
     "output_type": "display_data"
    }
   ],
   "source": [
    "tree =DecisionTreeClassifier(criterion='gini',random_state=42,max_depth=13)\n",
    "tree.fit(x_train, y_train)\n",
    "preds=tree.predict(x_test)\n",
    "conf_mat = confusion_matrix(y_test, preds)\n",
    "df_cm = pd.DataFrame(conf_mat, index=df['Disease'].unique(), columns=df['Disease'].unique())\n",
    "print('F1-score% =', f1_score(y_test, preds, average='macro')*100, '|', 'Accuracy% =', accuracy_score(y_test, preds)*100)\n",
    "sns.heatmap(df_cm)"
   ]
  },
  {
   "cell_type": "code",
   "execution_count": 38,
   "id": "d1feef3d",
   "metadata": {
    "execution": {
     "iopub.execute_input": "2022-01-05T10:00:06.287989Z",
     "iopub.status.busy": "2022-01-05T10:00:06.287308Z",
     "iopub.status.idle": "2022-01-05T10:00:06.419430Z",
     "shell.execute_reply": "2022-01-05T10:00:06.420151Z",
     "shell.execute_reply.started": "2022-01-05T09:58:16.742092Z"
    },
    "papermill": {
     "duration": 0.219149,
     "end_time": "2022-01-05T10:00:06.420377",
     "exception": false,
     "start_time": "2022-01-05T10:00:06.201228",
     "status": "completed"
    },
    "tags": []
   },
   "outputs": [
    {
     "name": "stdout",
     "output_type": "stream",
     "text": [
      "Mean Accuracy: 95.706%, Standard Deviation: (1.99%)\n"
     ]
    }
   ],
   "source": [
    "kfold = KFold(n_splits=10,shuffle=True,random_state=42)\n",
    "DS_train =cross_val_score(tree, x_train, y_train, cv=kfold, scoring='accuracy')\n",
    "pd.DataFrame(DS_train,columns=['Scores'])\n",
    "print(\"Mean Accuracy: %.3f%%, Standard Deviation: (%.2f%%)\" % (DS_train.mean()*100.0, DS_train.std()*100.0))"
   ]
  },
  {
   "cell_type": "code",
   "execution_count": 39,
   "id": "30730b68",
   "metadata": {
    "execution": {
     "iopub.execute_input": "2022-01-05T10:00:06.589230Z",
     "iopub.status.busy": "2022-01-05T10:00:06.586564Z",
     "iopub.status.idle": "2022-01-05T10:00:06.655929Z",
     "shell.execute_reply": "2022-01-05T10:00:06.656701Z",
     "shell.execute_reply.started": "2022-01-05T09:58:16.884772Z"
    },
    "papermill": {
     "duration": 0.155234,
     "end_time": "2022-01-05T10:00:06.656960",
     "exception": false,
     "start_time": "2022-01-05T10:00:06.501726",
     "status": "completed"
    },
    "tags": []
   },
   "outputs": [
    {
     "name": "stdout",
     "output_type": "stream",
     "text": [
      "Mean Accuracy: 94.198%, Standard Deviation: (3.57%)\n"
     ]
    }
   ],
   "source": [
    "kfold = KFold(n_splits=10,shuffle=True,random_state=42)\n",
    "DS_test =cross_val_score(tree, x_test, y_test, cv=kfold, scoring='accuracy')\n",
    "pd.DataFrame(DS_test,columns=['Scores'])\n",
    "print(\"Mean Accuracy: %.3f%%, Standard Deviation: (%.2f%%)\" % (DS_test.mean()*100.0, DS_test.std()*100.0))"
   ]
  },
  {
   "cell_type": "markdown",
   "id": "2ae3546c",
   "metadata": {
    "papermill": {
     "duration": 0.077471,
     "end_time": "2022-01-05T10:00:06.824700",
     "exception": false,
     "start_time": "2022-01-05T10:00:06.747229",
     "status": "completed"
    },
    "tags": []
   },
   "source": [
    "# Random Forest"
   ]
  },
  {
   "cell_type": "code",
   "execution_count": 40,
   "id": "421bbb4a",
   "metadata": {
    "execution": {
     "iopub.execute_input": "2022-01-05T10:00:06.983894Z",
     "iopub.status.busy": "2022-01-05T10:00:06.982816Z",
     "iopub.status.idle": "2022-01-05T10:00:06.984835Z",
     "shell.execute_reply": "2022-01-05T10:00:06.985440Z",
     "shell.execute_reply.started": "2022-01-05T09:58:16.946436Z"
    },
    "papermill": {
     "duration": 0.084021,
     "end_time": "2022-01-05T10:00:06.985619",
     "exception": false,
     "start_time": "2022-01-05T10:00:06.901598",
     "status": "completed"
    },
    "tags": []
   },
   "outputs": [],
   "source": [
    "rfc=RandomForestClassifier(random_state=42)"
   ]
  },
  {
   "cell_type": "code",
   "execution_count": 41,
   "id": "834e876a",
   "metadata": {
    "execution": {
     "iopub.execute_input": "2022-01-05T10:00:07.147372Z",
     "iopub.status.busy": "2022-01-05T10:00:07.146408Z",
     "iopub.status.idle": "2022-01-05T10:00:09.704470Z",
     "shell.execute_reply": "2022-01-05T10:00:09.705321Z",
     "shell.execute_reply.started": "2022-01-05T09:58:16.952229Z"
    },
    "papermill": {
     "duration": 2.643119,
     "end_time": "2022-01-05T10:00:09.705598",
     "exception": false,
     "start_time": "2022-01-05T10:00:07.062479",
     "status": "completed"
    },
    "tags": []
   },
   "outputs": [
    {
     "name": "stdout",
     "output_type": "stream",
     "text": [
      "F1-score% = 99.58380389536958 | Accuracy% = 99.59349593495935\n"
     ]
    },
    {
     "data": {
      "text/plain": [
       "<AxesSubplot:>"
      ]
     },
     "execution_count": 41,
     "metadata": {},
     "output_type": "execute_result"
    },
    {
     "data": {
      "image/png": "[encoded data removed]",
      "text/plain": [
       "<Figure size 432x288 with 2 Axes>"
      ]
     },
     "metadata": {
      "needs_background": "light"
     },
     "output_type": "display_data"
    }
   ],
   "source": [
    "rnd_forest = RandomForestClassifier(random_state=42, max_features='sqrt', n_estimators= 500, max_depth=13)\n",
    "rnd_forest.fit(x_train,y_train)\n",
    "preds=rnd_forest.predict(x_test)\n",
    "conf_mat = confusion_matrix(y_test, preds)\n",
    "df_cm = pd.DataFrame(conf_mat, index=df['Disease'].unique(), columns=df['Disease'].unique())\n",
    "print('F1-score% =', f1_score(y_test, preds, average='macro')*100, '|', 'Accuracy% =', accuracy_score(y_test, preds)*100)\n",
    "sns.heatmap(df_cm)"
   ]
  },
  {
   "cell_type": "code",
   "execution_count": 42,
   "id": "eb9c8740",
   "metadata": {
    "execution": {
     "iopub.execute_input": "2022-01-05T10:00:09.879890Z",
     "iopub.status.busy": "2022-01-05T10:00:09.878779Z",
     "iopub.status.idle": "2022-01-05T10:00:27.646473Z",
     "shell.execute_reply": "2022-01-05T10:00:27.645876Z",
     "shell.execute_reply.started": "2022-01-05T09:58:19.391238Z"
    },
    "papermill": {
     "duration": 17.853277,
     "end_time": "2022-01-05T10:00:27.646619",
     "exception": false,
     "start_time": "2022-01-05T10:00:09.793342",
     "status": "completed"
    },
    "tags": []
   },
   "outputs": [
    {
     "name": "stdout",
     "output_type": "stream",
     "text": [
      "Mean Accuracy: 99.187%, Standard Deviation: (0.44%)\n"
     ]
    }
   ],
   "source": [
    "kfold = KFold(n_splits=10,shuffle=True,random_state=42)\n",
    "rnd_forest_train =cross_val_score(rnd_forest, x_train, y_train, cv=kfold, scoring='accuracy')\n",
    "pd.DataFrame(rnd_forest_train,columns=['Scores'])\n",
    "print(\"Mean Accuracy: %.3f%%, Standard Deviation: (%.2f%%)\" % (rnd_forest_train.mean()*100.0, rnd_forest_train.std()*100.0))"
   ]
  },
  {
   "cell_type": "code",
   "execution_count": 43,
   "id": "6a1ad243",
   "metadata": {
    "execution": {
     "iopub.execute_input": "2022-01-05T10:00:27.811206Z",
     "iopub.status.busy": "2022-01-05T10:00:27.810503Z",
     "iopub.status.idle": "2022-01-05T10:00:40.169078Z",
     "shell.execute_reply": "2022-01-05T10:00:40.169782Z",
     "shell.execute_reply.started": "2022-01-05T09:58:37.053034Z"
    },
    "papermill": {
     "duration": 12.441898,
     "end_time": "2022-01-05T10:00:40.170091",
     "exception": false,
     "start_time": "2022-01-05T10:00:27.728193",
     "status": "completed"
    },
    "tags": []
   },
   "outputs": [
    {
     "name": "stdout",
     "output_type": "stream",
     "text": [
      "Mean Accuracy: 98.575%, Standard Deviation: (1.31%)\n"
     ]
    }
   ],
   "source": [
    "kfold = KFold(n_splits=10,shuffle=True,random_state=42)\n",
    "rnd_forest_test =cross_val_score(rnd_forest, x_test, y_test, cv=kfold, scoring='accuracy')\n",
    "pd.DataFrame(rnd_forest_test,columns=['Scores'])\n",
    "print(\"Mean Accuracy: %.3f%%, Standard Deviation: (%.2f%%)\" % (rnd_forest_test.mean()*100.0, rnd_forest_test.std()*100.0))"
   ]
  },
  {
   "cell_type": "markdown",
   "id": "ad8ad256",
   "metadata": {
    "papermill": {
     "duration": 0.08062,
     "end_time": "2022-01-05T10:00:40.333417",
     "exception": false,
     "start_time": "2022-01-05T10:00:40.252797",
     "status": "completed"
    },
    "tags": []
   },
   "source": [
    "# Fucntion to manually test the models"
   ]
  },
  {
   "cell_type": "code",
   "execution_count": 44,
   "id": "099d517f",
   "metadata": {
    "execution": {
     "iopub.execute_input": "2022-01-05T10:00:40.504359Z",
     "iopub.status.busy": "2022-01-05T10:00:40.503502Z",
     "iopub.status.idle": "2022-01-05T10:00:40.505558Z",
     "shell.execute_reply": "2022-01-05T10:00:40.506115Z",
     "shell.execute_reply.started": "2022-01-05T09:58:49.528804Z"
    },
    "papermill": {
     "duration": 0.093037,
     "end_time": "2022-01-05T10:00:40.506291",
     "exception": false,
     "start_time": "2022-01-05T10:00:40.413254",
     "status": "completed"
    },
    "tags": []
   },
   "outputs": [],
   "source": [
    "def predd(S1,S2,S3,S4,S5,S6,S7,S8,S9,S10,S11,S12,S13,S14,S15,S16,S17,x):\n",
    "    psymptoms = [S1,S2,S3,S4,S5,S6,S7,S8,S9,S10,S11,S12,S13,S14,S15,S16,S17]\n",
    "    print(psymptoms)\n",
    "    a = np.array(df1[\"Symptom\"])\n",
    "    b = np.array(df1[\"weight\"])\n",
    "    for j in range(len(psymptoms)):\n",
    "        for k in range(len(a)):\n",
    "            if psymptoms[j]==a[k]:\n",
    "                psymptoms[j]=b[k]\n",
    "\n",
    "    psy = [psymptoms]\n",
    "\n",
    "    pred2 = x.predict(psy)\n",
    "    print(\"The prediction is\",pred2[0])"
   ]
  },
  {
   "cell_type": "code",
   "execution_count": 45,
   "id": "ec6ed33e",
   "metadata": {
    "execution": {
     "iopub.execute_input": "2022-01-05T10:00:40.670748Z",
     "iopub.status.busy": "2022-01-05T10:00:40.670114Z",
     "iopub.status.idle": "2022-01-05T10:00:40.721209Z",
     "shell.execute_reply": "2022-01-05T10:00:40.721976Z",
     "shell.execute_reply.started": "2022-01-05T09:58:49.538491Z"
    },
    "papermill": {
     "duration": 0.135387,
     "end_time": "2022-01-05T10:00:40.722215",
     "exception": false,
     "start_time": "2022-01-05T10:00:40.586828",
     "status": "completed"
    },
    "tags": []
   },
   "outputs": [
    {
     "name": "stdout",
     "output_type": "stream",
     "text": [
      "['stomach pain', 'chills', 'nodal skin eruptions', 'muscle weakness', 0, 0, 0, 0, 0, 0, 0, 0, 0, 0, 0, 0, 0]\n",
      "The prediction is Paralysis (brain hemorrhage)\n"
     ]
    }
   ],
   "source": [
    "sympList=df1[\"Symptom\"].to_list()\n",
    "predd(sympList[7],sympList[5],sympList[2],sympList[80],0,0,0,0,0,0,0,0,0,0,0,0,0,rnd_forest)"
   ]
  },
  {
   "cell_type": "code",
   "execution_count": 46,
   "id": "959e1e47",
   "metadata": {
    "execution": {
     "iopub.execute_input": "2022-01-05T10:00:40.890471Z",
     "iopub.status.busy": "2022-01-05T10:00:40.889809Z",
     "iopub.status.idle": "2022-01-05T10:00:40.900911Z",
     "shell.execute_reply": "2022-01-05T10:00:40.901469Z",
     "shell.execute_reply.started": "2022-01-05T09:58:49.598884Z"
    },
    "papermill": {
     "duration": 0.097407,
     "end_time": "2022-01-05T10:00:40.901644",
     "exception": false,
     "start_time": "2022-01-05T10:00:40.804237",
     "status": "completed"
    },
    "tags": []
   },
   "outputs": [
    {
     "name": "stdout",
     "output_type": "stream",
     "text": [
      "['acidity', 'skin rash', 'nodal skin eruptions', 'muscle weakness', 0, 0, 0, 0, 0, 0, 0, 0, 0, 0, 0, 0, 0]\n",
      "The prediction is Paralysis (brain hemorrhage)\n"
     ]
    }
   ],
   "source": [
    "sympList=df1[\"Symptom\"].to_list()\n",
    "predd(sympList[8],sympList[1],sympList[2],sympList[80],0,0,0,0,0,0,0,0,0,0,0,0,0,SVM_hyperd)"
   ]
  },
  {
   "cell_type": "code",
   "execution_count": 47,
   "id": "5c3cd02a",
   "metadata": {
    "execution": {
     "iopub.execute_input": "2022-01-05T10:00:41.066190Z",
     "iopub.status.busy": "2022-01-05T10:00:41.065461Z",
     "iopub.status.idle": "2022-01-05T10:00:41.075873Z",
     "shell.execute_reply": "2022-01-05T10:00:41.076503Z",
     "shell.execute_reply.started": "2022-01-05T09:58:49.615044Z"
    },
    "papermill": {
     "duration": 0.095051,
     "end_time": "2022-01-05T10:00:41.076674",
     "exception": false,
     "start_time": "2022-01-05T10:00:40.981623",
     "status": "completed"
    },
    "tags": []
   },
   "outputs": [
    {
     "name": "stdout",
     "output_type": "stream",
     "text": [
      "['acidity', 'chills', 'nodal skin eruptions', 'muscle weakness', 0, 0, 0, 0, 0, 0, 0, 0, 0, 0, 0, 0, 0]\n",
      "The prediction is Allergy\n"
     ]
    }
   ],
   "source": [
    "sympList=df1[\"Symptom\"].to_list()\n",
    "predd(sympList[8],sympList[5],sympList[2],sympList[80],0,0,0,0,0,0,0,0,0,0,0,0,0,SVM_unhyperd)"
   ]
  },
  {
   "cell_type": "markdown",
   "id": "9f2cbf9f",
   "metadata": {
    "papermill": {
     "duration": 0.082838,
     "end_time": "2022-01-05T10:00:41.243859",
     "exception": false,
     "start_time": "2022-01-05T10:00:41.161021",
     "status": "completed"
    },
    "tags": []
   },
   "source": [
    "# Comparison between algorithms testing and training"
   ]
  },
  {
   "cell_type": "code",
   "execution_count": 48,
   "id": "74c42178",
   "metadata": {
    "execution": {
     "iopub.execute_input": "2022-01-05T10:00:41.414916Z",
     "iopub.status.busy": "2022-01-05T10:00:41.409065Z",
     "iopub.status.idle": "2022-01-05T10:00:41.735235Z",
     "shell.execute_reply": "2022-01-05T10:00:41.734636Z",
     "shell.execute_reply.started": "2022-01-05T09:58:49.630549Z"
    },
    "papermill": {
     "duration": 0.410071,
     "end_time": "2022-01-05T10:00:41.735402",
     "exception": false,
     "start_time": "2022-01-05T10:00:41.325331",
     "status": "completed"
    },
    "tags": []
   },
   "outputs": [
    {
     "data": {
      "image/png": "[encoded data removed]",
      "text/plain": [
       "<Figure size 1080x720 with 1 Axes>"
      ]
     },
     "metadata": {
      "needs_background": "light"
     },
     "output_type": "display_data"
    }
   ],
   "source": [
    "n_groups = 5\n",
    "algorithms = ('Naive Bayes','Unhyperd SVM', 'Hyperd SVM','Decision Tree', 'Random Forest')\n",
    "train_accuracy = (gaussian_train.mean()*100.0, \n",
    "                 SVM_unhyperd_train.mean()*100.0,\n",
    "                 SVM_hyperd_train.mean()*100.0,\n",
    "                 DS_train.mean()*100.0,\n",
    "                 rnd_forest_train.mean()*100.0,\n",
    "                 )\n",
    "\n",
    "\n",
    "test_accuracy = (gaussian_test.mean()*100.0, \n",
    "                 SVM_unhyperd_test.mean()*100.0,\n",
    "                 SVM_hyperd_test.mean()*100.0,\n",
    "                 DS_test.mean()*100.0,\n",
    "                 rnd_forest_test.mean()*100.0\n",
    "                )\n",
    "\n",
    "Standard_Deviation=(gaussian_test.std()*100.0, \n",
    "                 SVM_unhyperd_test.std()*100.0,\n",
    "                 SVM_hyperd_test.std()*100.0,\n",
    "                 DS_test.std()*100.0,     \n",
    "                 rnd_forest_test.std()*100.0\n",
    "                 \n",
    "                   )\n",
    "\n",
    "# create plot\n",
    "fig, ax = plt.subplots(figsize=(15, 10))\n",
    "index = np.arange(n_groups)\n",
    "bar_width = 0.3\n",
    "opacity = 1\n",
    "rects1 = plt.bar(index, train_accuracy, bar_width, alpha = opacity, color='Cornflowerblue', label='Train')\n",
    "rects2 = plt.bar(index + bar_width, test_accuracy, bar_width, alpha = opacity, color='Teal', label='Test')\n",
    "rects3 = plt.bar(index + bar_width, Standard_Deviation, bar_width, alpha = opacity, color='red', label='Standard Deviation')\n",
    "plt.xlabel('Algorithm') # x axis label\n",
    "plt.ylabel('Accuracy (%)') # y axis label\n",
    "plt.ylim(0, 115)\n",
    "plt.title('Comparison of Algorithm Accuracies') # plot title\n",
    "plt.xticks(index + bar_width * 0.5, algorithms) # x axis data labels\n",
    "plt.legend(loc = 'upper right') # show legend\n",
    "for index, data in enumerate(train_accuracy):\n",
    "    plt.text(x = index - 0.035, y = data + 1, s = round(data, 2), fontdict = dict(fontsize = 8))\n",
    "for index, data in enumerate(test_accuracy):\n",
    "    plt.text(x = index + 0.25, y = data + 1, s = round(data, 2), fontdict = dict(fontsize = 8))\n",
    "for index, data in enumerate(Standard_Deviation):\n",
    "    plt.text(x = index + 0.25, y = data + 1, s = round(data, 2), fontdict = dict(fontsize = 8))    "
   ]
  },
  {
   "cell_type": "code",
   "execution_count": null,
   "id": "23edce8a",
   "metadata": {
    "papermill": {
     "duration": 0.096261,
     "end_time": "2022-01-05T10:00:41.916156",
     "exception": false,
     "start_time": "2022-01-05T10:00:41.819895",
     "status": "completed"
    },
    "tags": []
   },
   "outputs": [],
   "source": []
  }
 ],
 "metadata": {
  "kernelspec": {
   "display_name": "Python 3 (ipykernel)",
   "language": "python",
   "name": "python3"
  },
  "language_info": {
   "codemirror_mode": {
    "name": "ipython",
    "version": 3
   },
   "file_extension": ".py",
   "mimetype": "text/x-python",
   "name": "python",
   "nbconvert_exporter": "python",
   "pygments_lexer": "ipython3",
   "version": "3.8.11"
  },
  "papermill": {
   "default_parameters": {},
   "duration": 68.318247,
   "end_time": "2022-01-05T10:00:43.021840",
   "environment_variables": {},
   "exception": null,
   "input_path": "__notebook__.ipynb",
   "output_path": "__notebook__.ipynb",
   "parameters": {},
   "start_time": "2022-01-05T09:59:34.703593",
   "version": "2.3.3"
  }
 },
 "nbformat": 4,
 "nbformat_minor": 5
}
