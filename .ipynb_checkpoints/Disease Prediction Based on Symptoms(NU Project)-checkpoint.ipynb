{
 "cells": [
  {
   "cell_type": "code",
   "execution_count": 1,
   "id": "5328e7d9",
   "metadata": {},
   "outputs": [],
   "source": [
    "import pandas as pd\n",
    "import numpy as np\n",
    "import matplotlib.pyplot as plt\n",
    "from sklearn.model_selection import train_test_split,KFold,cross_val_score,GridSearchCV\n",
    "from sklearn.svm import SVC\n",
    "from sklearn.metrics import f1_score, accuracy_score, confusion_matrix,classification_report,plot_confusion_matrix,plot_roc_curve,precision_score,roc_curve\n",
    "import seaborn as sns\n",
    "from sklearn.utils import shuffle\n",
    "from pandas_profiling import ProfileReport\n",
    "from sklearn.linear_model import LogisticRegression, Perceptron, RidgeClassifier, SGDClassifier\n",
    "from sklearn.svm import SVC, LinearSVC\n",
    "from sklearn.ensemble import RandomForestClassifier, GradientBoostingClassifier, ExtraTreesClassifier \n",
    "from sklearn.ensemble import BaggingClassifier, AdaBoostClassifier, VotingClassifier \n",
    "from sklearn.neighbors import KNeighborsClassifier\n",
    "from sklearn.naive_bayes import GaussianNB\n",
    "from sklearn.tree import DecisionTreeClassifier\n",
    "from sklearn import metrics"
   ]
  },
  {
   "cell_type": "markdown",
   "id": "0ed4f3b3",
   "metadata": {},
   "source": [
    "**Read and shuffle the dataset**"
   ]
  },
  {
   "cell_type": "code",
   "execution_count": 2,
   "id": "d56c3716",
   "metadata": {},
   "outputs": [
    {
     "data": {
      "text/html": [
       "<div>\n",
       "<style scoped>\n",
       "    .dataframe tbody tr th:only-of-type {\n",
       "        vertical-align: middle;\n",
       "    }\n",
       "\n",
       "    .dataframe tbody tr th {\n",
       "        vertical-align: top;\n",
       "    }\n",
       "\n",
       "    .dataframe thead th {\n",
       "        text-align: right;\n",
       "    }\n",
       "</style>\n",
       "<table border=\"1\" class=\"dataframe\">\n",
       "  <thead>\n",
       "    <tr style=\"text-align: right;\">\n",
       "      <th></th>\n",
       "      <th>Disease</th>\n",
       "      <th>Symptom_1</th>\n",
       "      <th>Symptom_2</th>\n",
       "      <th>Symptom_3</th>\n",
       "      <th>Symptom_4</th>\n",
       "      <th>Symptom_5</th>\n",
       "      <th>Symptom_6</th>\n",
       "      <th>Symptom_7</th>\n",
       "      <th>Symptom_8</th>\n",
       "      <th>Symptom_9</th>\n",
       "      <th>Symptom_10</th>\n",
       "      <th>Symptom_11</th>\n",
       "      <th>Symptom_12</th>\n",
       "      <th>Symptom_13</th>\n",
       "      <th>Symptom_14</th>\n",
       "      <th>Symptom_15</th>\n",
       "      <th>Symptom_16</th>\n",
       "      <th>Symptom_17</th>\n",
       "    </tr>\n",
       "  </thead>\n",
       "  <tbody>\n",
       "    <tr>\n",
       "      <th>373</th>\n",
       "      <td>Acne</td>\n",
       "      <td>skin_rash</td>\n",
       "      <td>blackheads</td>\n",
       "      <td>scurring</td>\n",
       "      <td>NaN</td>\n",
       "      <td>NaN</td>\n",
       "      <td>NaN</td>\n",
       "      <td>NaN</td>\n",
       "      <td>NaN</td>\n",
       "      <td>NaN</td>\n",
       "      <td>NaN</td>\n",
       "      <td>NaN</td>\n",
       "      <td>NaN</td>\n",
       "      <td>NaN</td>\n",
       "      <td>NaN</td>\n",
       "      <td>NaN</td>\n",
       "      <td>NaN</td>\n",
       "      <td>NaN</td>\n",
       "    </tr>\n",
       "    <tr>\n",
       "      <th>4916</th>\n",
       "      <td>Acne</td>\n",
       "      <td>skin_rash</td>\n",
       "      <td>pus_filled_pimples</td>\n",
       "      <td>blackheads</td>\n",
       "      <td>scurring</td>\n",
       "      <td>NaN</td>\n",
       "      <td>NaN</td>\n",
       "      <td>NaN</td>\n",
       "      <td>NaN</td>\n",
       "      <td>NaN</td>\n",
       "      <td>NaN</td>\n",
       "      <td>NaN</td>\n",
       "      <td>NaN</td>\n",
       "      <td>NaN</td>\n",
       "      <td>NaN</td>\n",
       "      <td>NaN</td>\n",
       "      <td>NaN</td>\n",
       "      <td>NaN</td>\n",
       "    </tr>\n",
       "    <tr>\n",
       "      <th>1550</th>\n",
       "      <td>Hyperthyroidism</td>\n",
       "      <td>fatigue</td>\n",
       "      <td>mood_swings</td>\n",
       "      <td>weight_loss</td>\n",
       "      <td>restlessness</td>\n",
       "      <td>sweating</td>\n",
       "      <td>diarrhoea</td>\n",
       "      <td>fast_heart_rate</td>\n",
       "      <td>excessive_hunger</td>\n",
       "      <td>muscle_weakness</td>\n",
       "      <td>irritability</td>\n",
       "      <td>abnormal_menstruation</td>\n",
       "      <td>NaN</td>\n",
       "      <td>NaN</td>\n",
       "      <td>NaN</td>\n",
       "      <td>NaN</td>\n",
       "      <td>NaN</td>\n",
       "      <td>NaN</td>\n",
       "    </tr>\n",
       "    <tr>\n",
       "      <th>3081</th>\n",
       "      <td>AIDS</td>\n",
       "      <td>muscle_wasting</td>\n",
       "      <td>patches_in_throat</td>\n",
       "      <td>high_fever</td>\n",
       "      <td>extra_marital_contacts</td>\n",
       "      <td>NaN</td>\n",
       "      <td>NaN</td>\n",
       "      <td>NaN</td>\n",
       "      <td>NaN</td>\n",
       "      <td>NaN</td>\n",
       "      <td>NaN</td>\n",
       "      <td>NaN</td>\n",
       "      <td>NaN</td>\n",
       "      <td>NaN</td>\n",
       "      <td>NaN</td>\n",
       "      <td>NaN</td>\n",
       "      <td>NaN</td>\n",
       "      <td>NaN</td>\n",
       "    </tr>\n",
       "    <tr>\n",
       "      <th>3857</th>\n",
       "      <td>Chronic cholestasis</td>\n",
       "      <td>itching</td>\n",
       "      <td>vomiting</td>\n",
       "      <td>yellowish_skin</td>\n",
       "      <td>nausea</td>\n",
       "      <td>loss_of_appetite</td>\n",
       "      <td>abdominal_pain</td>\n",
       "      <td>yellowing_of_eyes</td>\n",
       "      <td>NaN</td>\n",
       "      <td>NaN</td>\n",
       "      <td>NaN</td>\n",
       "      <td>NaN</td>\n",
       "      <td>NaN</td>\n",
       "      <td>NaN</td>\n",
       "      <td>NaN</td>\n",
       "      <td>NaN</td>\n",
       "      <td>NaN</td>\n",
       "      <td>NaN</td>\n",
       "    </tr>\n",
       "  </tbody>\n",
       "</table>\n",
       "</div>"
      ],
      "text/plain": [
       "                  Disease        Symptom_1            Symptom_2  \\\n",
       "373                  Acne        skin_rash           blackheads   \n",
       "4916                 Acne        skin_rash   pus_filled_pimples   \n",
       "1550      Hyperthyroidism          fatigue          mood_swings   \n",
       "3081                 AIDS   muscle_wasting    patches_in_throat   \n",
       "3857  Chronic cholestasis          itching             vomiting   \n",
       "\n",
       "            Symptom_3                Symptom_4          Symptom_5  \\\n",
       "373          scurring                      NaN                NaN   \n",
       "4916       blackheads                 scurring                NaN   \n",
       "1550      weight_loss             restlessness           sweating   \n",
       "3081       high_fever   extra_marital_contacts                NaN   \n",
       "3857   yellowish_skin                   nausea   loss_of_appetite   \n",
       "\n",
       "            Symptom_6           Symptom_7          Symptom_8  \\\n",
       "373               NaN                 NaN                NaN   \n",
       "4916              NaN                 NaN                NaN   \n",
       "1550        diarrhoea     fast_heart_rate   excessive_hunger   \n",
       "3081              NaN                 NaN                NaN   \n",
       "3857   abdominal_pain   yellowing_of_eyes                NaN   \n",
       "\n",
       "             Symptom_9     Symptom_10              Symptom_11 Symptom_12  \\\n",
       "373                NaN            NaN                     NaN        NaN   \n",
       "4916               NaN            NaN                     NaN        NaN   \n",
       "1550   muscle_weakness   irritability   abnormal_menstruation        NaN   \n",
       "3081               NaN            NaN                     NaN        NaN   \n",
       "3857               NaN            NaN                     NaN        NaN   \n",
       "\n",
       "     Symptom_13 Symptom_14 Symptom_15 Symptom_16 Symptom_17  \n",
       "373         NaN        NaN        NaN        NaN        NaN  \n",
       "4916        NaN        NaN        NaN        NaN        NaN  \n",
       "1550        NaN        NaN        NaN        NaN        NaN  \n",
       "3081        NaN        NaN        NaN        NaN        NaN  \n",
       "3857        NaN        NaN        NaN        NaN        NaN  "
      ]
     },
     "execution_count": 2,
     "metadata": {},
     "output_type": "execute_result"
    }
   ],
   "source": [
    "df = pd.read_csv('data/dataset.csv')\n",
    "df = shuffle(df,random_state=42)\n",
    "df.head()"
   ]
  },
  {
   "cell_type": "markdown",
   "id": "caff1410",
   "metadata": {},
   "source": [
    "**Removing Hyphen from strings**"
   ]
  },
  {
   "cell_type": "code",
   "execution_count": 3,
   "id": "d1694986",
   "metadata": {},
   "outputs": [
    {
     "data": {
      "text/html": [
       "<div>\n",
       "<style scoped>\n",
       "    .dataframe tbody tr th:only-of-type {\n",
       "        vertical-align: middle;\n",
       "    }\n",
       "\n",
       "    .dataframe tbody tr th {\n",
       "        vertical-align: top;\n",
       "    }\n",
       "\n",
       "    .dataframe thead th {\n",
       "        text-align: right;\n",
       "    }\n",
       "</style>\n",
       "<table border=\"1\" class=\"dataframe\">\n",
       "  <thead>\n",
       "    <tr style=\"text-align: right;\">\n",
       "      <th></th>\n",
       "      <th>Disease</th>\n",
       "      <th>Symptom_1</th>\n",
       "      <th>Symptom_2</th>\n",
       "      <th>Symptom_3</th>\n",
       "      <th>Symptom_4</th>\n",
       "      <th>Symptom_5</th>\n",
       "      <th>Symptom_6</th>\n",
       "      <th>Symptom_7</th>\n",
       "      <th>Symptom_8</th>\n",
       "      <th>Symptom_9</th>\n",
       "      <th>Symptom_10</th>\n",
       "      <th>Symptom_11</th>\n",
       "      <th>Symptom_12</th>\n",
       "      <th>Symptom_13</th>\n",
       "      <th>Symptom_14</th>\n",
       "      <th>Symptom_15</th>\n",
       "      <th>Symptom_16</th>\n",
       "      <th>Symptom_17</th>\n",
       "    </tr>\n",
       "  </thead>\n",
       "  <tbody>\n",
       "    <tr>\n",
       "      <th>373</th>\n",
       "      <td>Acne</td>\n",
       "      <td>skin rash</td>\n",
       "      <td>blackheads</td>\n",
       "      <td>scurring</td>\n",
       "      <td>NaN</td>\n",
       "      <td>NaN</td>\n",
       "      <td>NaN</td>\n",
       "      <td>NaN</td>\n",
       "      <td>NaN</td>\n",
       "      <td>NaN</td>\n",
       "      <td>NaN</td>\n",
       "      <td>NaN</td>\n",
       "      <td>NaN</td>\n",
       "      <td>NaN</td>\n",
       "      <td>NaN</td>\n",
       "      <td>NaN</td>\n",
       "      <td>NaN</td>\n",
       "      <td>NaN</td>\n",
       "    </tr>\n",
       "    <tr>\n",
       "      <th>4916</th>\n",
       "      <td>Acne</td>\n",
       "      <td>skin rash</td>\n",
       "      <td>pus filled pimples</td>\n",
       "      <td>blackheads</td>\n",
       "      <td>scurring</td>\n",
       "      <td>NaN</td>\n",
       "      <td>NaN</td>\n",
       "      <td>NaN</td>\n",
       "      <td>NaN</td>\n",
       "      <td>NaN</td>\n",
       "      <td>NaN</td>\n",
       "      <td>NaN</td>\n",
       "      <td>NaN</td>\n",
       "      <td>NaN</td>\n",
       "      <td>NaN</td>\n",
       "      <td>NaN</td>\n",
       "      <td>NaN</td>\n",
       "      <td>NaN</td>\n",
       "    </tr>\n",
       "    <tr>\n",
       "      <th>1550</th>\n",
       "      <td>Hyperthyroidism</td>\n",
       "      <td>fatigue</td>\n",
       "      <td>mood swings</td>\n",
       "      <td>weight loss</td>\n",
       "      <td>restlessness</td>\n",
       "      <td>sweating</td>\n",
       "      <td>diarrhoea</td>\n",
       "      <td>fast heart rate</td>\n",
       "      <td>excessive hunger</td>\n",
       "      <td>muscle weakness</td>\n",
       "      <td>irritability</td>\n",
       "      <td>abnormal menstruation</td>\n",
       "      <td>NaN</td>\n",
       "      <td>NaN</td>\n",
       "      <td>NaN</td>\n",
       "      <td>NaN</td>\n",
       "      <td>NaN</td>\n",
       "      <td>NaN</td>\n",
       "    </tr>\n",
       "    <tr>\n",
       "      <th>3081</th>\n",
       "      <td>AIDS</td>\n",
       "      <td>muscle wasting</td>\n",
       "      <td>patches in throat</td>\n",
       "      <td>high fever</td>\n",
       "      <td>extra marital contacts</td>\n",
       "      <td>NaN</td>\n",
       "      <td>NaN</td>\n",
       "      <td>NaN</td>\n",
       "      <td>NaN</td>\n",
       "      <td>NaN</td>\n",
       "      <td>NaN</td>\n",
       "      <td>NaN</td>\n",
       "      <td>NaN</td>\n",
       "      <td>NaN</td>\n",
       "      <td>NaN</td>\n",
       "      <td>NaN</td>\n",
       "      <td>NaN</td>\n",
       "      <td>NaN</td>\n",
       "    </tr>\n",
       "    <tr>\n",
       "      <th>3857</th>\n",
       "      <td>Chronic cholestasis</td>\n",
       "      <td>itching</td>\n",
       "      <td>vomiting</td>\n",
       "      <td>yellowish skin</td>\n",
       "      <td>nausea</td>\n",
       "      <td>loss of appetite</td>\n",
       "      <td>abdominal pain</td>\n",
       "      <td>yellowing of eyes</td>\n",
       "      <td>NaN</td>\n",
       "      <td>NaN</td>\n",
       "      <td>NaN</td>\n",
       "      <td>NaN</td>\n",
       "      <td>NaN</td>\n",
       "      <td>NaN</td>\n",
       "      <td>NaN</td>\n",
       "      <td>NaN</td>\n",
       "      <td>NaN</td>\n",
       "      <td>NaN</td>\n",
       "    </tr>\n",
       "  </tbody>\n",
       "</table>\n",
       "</div>"
      ],
      "text/plain": [
       "                  Disease        Symptom_1            Symptom_2  \\\n",
       "373                  Acne        skin rash           blackheads   \n",
       "4916                 Acne        skin rash   pus filled pimples   \n",
       "1550      Hyperthyroidism          fatigue          mood swings   \n",
       "3081                 AIDS   muscle wasting    patches in throat   \n",
       "3857  Chronic cholestasis          itching             vomiting   \n",
       "\n",
       "            Symptom_3                Symptom_4          Symptom_5  \\\n",
       "373          scurring                      NaN                NaN   \n",
       "4916       blackheads                 scurring                NaN   \n",
       "1550      weight loss             restlessness           sweating   \n",
       "3081       high fever   extra marital contacts                NaN   \n",
       "3857   yellowish skin                   nausea   loss of appetite   \n",
       "\n",
       "            Symptom_6           Symptom_7          Symptom_8  \\\n",
       "373               NaN                 NaN                NaN   \n",
       "4916              NaN                 NaN                NaN   \n",
       "1550        diarrhoea     fast heart rate   excessive hunger   \n",
       "3081              NaN                 NaN                NaN   \n",
       "3857   abdominal pain   yellowing of eyes                NaN   \n",
       "\n",
       "             Symptom_9     Symptom_10              Symptom_11 Symptom_12  \\\n",
       "373                NaN            NaN                     NaN        NaN   \n",
       "4916               NaN            NaN                     NaN        NaN   \n",
       "1550   muscle weakness   irritability   abnormal menstruation        NaN   \n",
       "3081               NaN            NaN                     NaN        NaN   \n",
       "3857               NaN            NaN                     NaN        NaN   \n",
       "\n",
       "     Symptom_13 Symptom_14 Symptom_15 Symptom_16 Symptom_17  \n",
       "373         NaN        NaN        NaN        NaN        NaN  \n",
       "4916        NaN        NaN        NaN        NaN        NaN  \n",
       "1550        NaN        NaN        NaN        NaN        NaN  \n",
       "3081        NaN        NaN        NaN        NaN        NaN  \n",
       "3857        NaN        NaN        NaN        NaN        NaN  "
      ]
     },
     "execution_count": 3,
     "metadata": {},
     "output_type": "execute_result"
    }
   ],
   "source": [
    "for col in df.columns:\n",
    "    \n",
    "    df[col] = df[col].str.replace('_',' ')\n",
    "df.head()    "
   ]
  },
  {
   "cell_type": "markdown",
   "id": "94ab75aa",
   "metadata": {},
   "source": [
    "**Dataset characteristics**"
   ]
  },
  {
   "cell_type": "code",
   "execution_count": 4,
   "id": "d05a62fe",
   "metadata": {},
   "outputs": [
    {
     "data": {
      "text/html": [
       "<div>\n",
       "<style scoped>\n",
       "    .dataframe tbody tr th:only-of-type {\n",
       "        vertical-align: middle;\n",
       "    }\n",
       "\n",
       "    .dataframe tbody tr th {\n",
       "        vertical-align: top;\n",
       "    }\n",
       "\n",
       "    .dataframe thead th {\n",
       "        text-align: right;\n",
       "    }\n",
       "</style>\n",
       "<table border=\"1\" class=\"dataframe\">\n",
       "  <thead>\n",
       "    <tr style=\"text-align: right;\">\n",
       "      <th></th>\n",
       "      <th>Disease</th>\n",
       "      <th>Symptom_1</th>\n",
       "      <th>Symptom_2</th>\n",
       "      <th>Symptom_3</th>\n",
       "      <th>Symptom_4</th>\n",
       "      <th>Symptom_5</th>\n",
       "      <th>Symptom_6</th>\n",
       "      <th>Symptom_7</th>\n",
       "      <th>Symptom_8</th>\n",
       "      <th>Symptom_9</th>\n",
       "      <th>Symptom_10</th>\n",
       "      <th>Symptom_11</th>\n",
       "      <th>Symptom_12</th>\n",
       "      <th>Symptom_13</th>\n",
       "      <th>Symptom_14</th>\n",
       "      <th>Symptom_15</th>\n",
       "      <th>Symptom_16</th>\n",
       "      <th>Symptom_17</th>\n",
       "    </tr>\n",
       "  </thead>\n",
       "  <tbody>\n",
       "    <tr>\n",
       "      <th>count</th>\n",
       "      <td>4920</td>\n",
       "      <td>4920</td>\n",
       "      <td>4920</td>\n",
       "      <td>4920</td>\n",
       "      <td>4572</td>\n",
       "      <td>3714</td>\n",
       "      <td>2934</td>\n",
       "      <td>2268</td>\n",
       "      <td>1944</td>\n",
       "      <td>1692</td>\n",
       "      <td>1512</td>\n",
       "      <td>1194</td>\n",
       "      <td>744</td>\n",
       "      <td>504</td>\n",
       "      <td>306</td>\n",
       "      <td>240</td>\n",
       "      <td>192</td>\n",
       "      <td>72</td>\n",
       "    </tr>\n",
       "    <tr>\n",
       "      <th>unique</th>\n",
       "      <td>41</td>\n",
       "      <td>34</td>\n",
       "      <td>48</td>\n",
       "      <td>54</td>\n",
       "      <td>50</td>\n",
       "      <td>38</td>\n",
       "      <td>32</td>\n",
       "      <td>26</td>\n",
       "      <td>21</td>\n",
       "      <td>22</td>\n",
       "      <td>21</td>\n",
       "      <td>18</td>\n",
       "      <td>11</td>\n",
       "      <td>8</td>\n",
       "      <td>4</td>\n",
       "      <td>3</td>\n",
       "      <td>3</td>\n",
       "      <td>1</td>\n",
       "    </tr>\n",
       "    <tr>\n",
       "      <th>top</th>\n",
       "      <td>Acne</td>\n",
       "      <td>vomiting</td>\n",
       "      <td>vomiting</td>\n",
       "      <td>fatigue</td>\n",
       "      <td>high fever</td>\n",
       "      <td>headache</td>\n",
       "      <td>nausea</td>\n",
       "      <td>abdominal pain</td>\n",
       "      <td>abdominal pain</td>\n",
       "      <td>yellowing of eyes</td>\n",
       "      <td>yellowing of eyes</td>\n",
       "      <td>irritability</td>\n",
       "      <td>malaise</td>\n",
       "      <td>stomach bleeding</td>\n",
       "      <td>chest pain</td>\n",
       "      <td>chest pain</td>\n",
       "      <td>loss of smell</td>\n",
       "      <td>muscle pain</td>\n",
       "    </tr>\n",
       "    <tr>\n",
       "      <th>freq</th>\n",
       "      <td>120</td>\n",
       "      <td>822</td>\n",
       "      <td>870</td>\n",
       "      <td>726</td>\n",
       "      <td>378</td>\n",
       "      <td>348</td>\n",
       "      <td>390</td>\n",
       "      <td>264</td>\n",
       "      <td>276</td>\n",
       "      <td>228</td>\n",
       "      <td>198</td>\n",
       "      <td>120</td>\n",
       "      <td>126</td>\n",
       "      <td>72</td>\n",
       "      <td>96</td>\n",
       "      <td>144</td>\n",
       "      <td>72</td>\n",
       "      <td>72</td>\n",
       "    </tr>\n",
       "  </tbody>\n",
       "</table>\n",
       "</div>"
      ],
      "text/plain": [
       "       Disease  Symptom_1  Symptom_2 Symptom_3    Symptom_4  Symptom_5  \\\n",
       "count     4920       4920       4920      4920         4572       3714   \n",
       "unique      41         34         48        54           50         38   \n",
       "top       Acne   vomiting   vomiting   fatigue   high fever   headache   \n",
       "freq       120        822        870       726          378        348   \n",
       "\n",
       "       Symptom_6        Symptom_7        Symptom_8           Symptom_9  \\\n",
       "count       2934             2268             1944                1692   \n",
       "unique        32               26               21                  22   \n",
       "top       nausea   abdominal pain   abdominal pain   yellowing of eyes   \n",
       "freq         390              264              276                 228   \n",
       "\n",
       "                Symptom_10     Symptom_11 Symptom_12         Symptom_13  \\\n",
       "count                 1512           1194        744                504   \n",
       "unique                  21             18         11                  8   \n",
       "top      yellowing of eyes   irritability    malaise   stomach bleeding   \n",
       "freq                   198            120        126                 72   \n",
       "\n",
       "         Symptom_14   Symptom_15      Symptom_16    Symptom_17  \n",
       "count           306          240             192            72  \n",
       "unique            4            3               3             1  \n",
       "top      chest pain   chest pain   loss of smell   muscle pain  \n",
       "freq             96          144              72            72  "
      ]
     },
     "execution_count": 4,
     "metadata": {},
     "output_type": "execute_result"
    }
   ],
   "source": [
    "df.describe()"
   ]
  },
  {
   "cell_type": "markdown",
   "id": "dae51f27",
   "metadata": {},
   "source": [
    "**Check for null and NaN values**"
   ]
  },
  {
   "cell_type": "code",
   "execution_count": 5,
   "id": "8ed39bc1",
   "metadata": {},
   "outputs": [
    {
     "name": "stdout",
     "output_type": "stream",
     "text": [
      "            count\n",
      "Disease         0\n",
      "Symptom_1       0\n",
      "Symptom_2       0\n",
      "Symptom_3       0\n",
      "Symptom_4     348\n",
      "Symptom_5    1206\n",
      "Symptom_6    1986\n",
      "Symptom_7    2652\n",
      "Symptom_8    2976\n",
      "Symptom_9    3228\n",
      "Symptom_10   3408\n",
      "Symptom_11   3726\n",
      "Symptom_12   4176\n",
      "Symptom_13   4416\n",
      "Symptom_14   4614\n",
      "Symptom_15   4680\n",
      "Symptom_16   4728\n",
      "Symptom_17   4848\n"
     ]
    }
   ],
   "source": [
    "null_checker = df.apply(lambda x: sum(x.isnull())).to_frame(name='count')\n",
    "print(null_checker)"
   ]
  },
  {
   "cell_type": "code",
   "execution_count": 6,
   "id": "f2e5ac7b",
   "metadata": {},
   "outputs": [],
   "source": [
    "plt.figure(figsize=(10,5))\n",
    "plt.plot(null_checker.index, null_checker['count'])\n",
    "plt.xticks(null_checker.index, null_checker.index, rotation=45,\n",
    "horizontalalignment='right')\n",
    "plt.title('Before removing Null values')\n",
    "plt.xlabel('column names')\n",
    "plt.margins(0.1)"
   ]
  },
  {
   "cell_type": "markdown",
   "id": "5114bc20",
   "metadata": {},
   "source": [
    "**Remove the trailing space from the symptom columns**"
   ]
  },
  {
   "cell_type": "code",
   "execution_count": 7,
   "id": "bc23a6c0",
   "metadata": {},
   "outputs": [
    {
     "data": {
      "text/html": [
       "<div>\n",
       "<style scoped>\n",
       "    .dataframe tbody tr th:only-of-type {\n",
       "        vertical-align: middle;\n",
       "    }\n",
       "\n",
       "    .dataframe tbody tr th {\n",
       "        vertical-align: top;\n",
       "    }\n",
       "\n",
       "    .dataframe thead th {\n",
       "        text-align: right;\n",
       "    }\n",
       "</style>\n",
       "<table border=\"1\" class=\"dataframe\">\n",
       "  <thead>\n",
       "    <tr style=\"text-align: right;\">\n",
       "      <th></th>\n",
       "      <th>Disease</th>\n",
       "      <th>Symptom_1</th>\n",
       "      <th>Symptom_2</th>\n",
       "      <th>Symptom_3</th>\n",
       "      <th>Symptom_4</th>\n",
       "      <th>Symptom_5</th>\n",
       "      <th>Symptom_6</th>\n",
       "      <th>Symptom_7</th>\n",
       "      <th>Symptom_8</th>\n",
       "      <th>Symptom_9</th>\n",
       "      <th>Symptom_10</th>\n",
       "      <th>Symptom_11</th>\n",
       "      <th>Symptom_12</th>\n",
       "      <th>Symptom_13</th>\n",
       "      <th>Symptom_14</th>\n",
       "      <th>Symptom_15</th>\n",
       "      <th>Symptom_16</th>\n",
       "      <th>Symptom_17</th>\n",
       "    </tr>\n",
       "  </thead>\n",
       "  <tbody>\n",
       "    <tr>\n",
       "      <th>0</th>\n",
       "      <td>Acne</td>\n",
       "      <td>skin rash</td>\n",
       "      <td>blackheads</td>\n",
       "      <td>scurring</td>\n",
       "      <td>NaN</td>\n",
       "      <td>NaN</td>\n",
       "      <td>NaN</td>\n",
       "      <td>NaN</td>\n",
       "      <td>NaN</td>\n",
       "      <td>NaN</td>\n",
       "      <td>NaN</td>\n",
       "      <td>NaN</td>\n",
       "      <td>NaN</td>\n",
       "      <td>NaN</td>\n",
       "      <td>NaN</td>\n",
       "      <td>NaN</td>\n",
       "      <td>NaN</td>\n",
       "      <td>NaN</td>\n",
       "    </tr>\n",
       "    <tr>\n",
       "      <th>1</th>\n",
       "      <td>Acne</td>\n",
       "      <td>skin rash</td>\n",
       "      <td>pus filled pimples</td>\n",
       "      <td>blackheads</td>\n",
       "      <td>scurring</td>\n",
       "      <td>NaN</td>\n",
       "      <td>NaN</td>\n",
       "      <td>NaN</td>\n",
       "      <td>NaN</td>\n",
       "      <td>NaN</td>\n",
       "      <td>NaN</td>\n",
       "      <td>NaN</td>\n",
       "      <td>NaN</td>\n",
       "      <td>NaN</td>\n",
       "      <td>NaN</td>\n",
       "      <td>NaN</td>\n",
       "      <td>NaN</td>\n",
       "      <td>NaN</td>\n",
       "    </tr>\n",
       "    <tr>\n",
       "      <th>2</th>\n",
       "      <td>Hyperthyroidism</td>\n",
       "      <td>fatigue</td>\n",
       "      <td>mood swings</td>\n",
       "      <td>weight loss</td>\n",
       "      <td>restlessness</td>\n",
       "      <td>sweating</td>\n",
       "      <td>diarrhoea</td>\n",
       "      <td>fast heart rate</td>\n",
       "      <td>excessive hunger</td>\n",
       "      <td>muscle weakness</td>\n",
       "      <td>irritability</td>\n",
       "      <td>abnormal menstruation</td>\n",
       "      <td>NaN</td>\n",
       "      <td>NaN</td>\n",
       "      <td>NaN</td>\n",
       "      <td>NaN</td>\n",
       "      <td>NaN</td>\n",
       "      <td>NaN</td>\n",
       "    </tr>\n",
       "    <tr>\n",
       "      <th>3</th>\n",
       "      <td>AIDS</td>\n",
       "      <td>muscle wasting</td>\n",
       "      <td>patches in throat</td>\n",
       "      <td>high fever</td>\n",
       "      <td>extra marital contacts</td>\n",
       "      <td>NaN</td>\n",
       "      <td>NaN</td>\n",
       "      <td>NaN</td>\n",
       "      <td>NaN</td>\n",
       "      <td>NaN</td>\n",
       "      <td>NaN</td>\n",
       "      <td>NaN</td>\n",
       "      <td>NaN</td>\n",
       "      <td>NaN</td>\n",
       "      <td>NaN</td>\n",
       "      <td>NaN</td>\n",
       "      <td>NaN</td>\n",
       "      <td>NaN</td>\n",
       "    </tr>\n",
       "    <tr>\n",
       "      <th>4</th>\n",
       "      <td>Chronic cholestasis</td>\n",
       "      <td>itching</td>\n",
       "      <td>vomiting</td>\n",
       "      <td>yellowish skin</td>\n",
       "      <td>nausea</td>\n",
       "      <td>loss of appetite</td>\n",
       "      <td>abdominal pain</td>\n",
       "      <td>yellowing of eyes</td>\n",
       "      <td>NaN</td>\n",
       "      <td>NaN</td>\n",
       "      <td>NaN</td>\n",
       "      <td>NaN</td>\n",
       "      <td>NaN</td>\n",
       "      <td>NaN</td>\n",
       "      <td>NaN</td>\n",
       "      <td>NaN</td>\n",
       "      <td>NaN</td>\n",
       "      <td>NaN</td>\n",
       "    </tr>\n",
       "  </tbody>\n",
       "</table>\n",
       "</div>"
      ],
      "text/plain": [
       "               Disease       Symptom_1           Symptom_2       Symptom_3  \\\n",
       "0                 Acne       skin rash          blackheads        scurring   \n",
       "1                 Acne       skin rash  pus filled pimples      blackheads   \n",
       "2      Hyperthyroidism         fatigue         mood swings     weight loss   \n",
       "3                 AIDS  muscle wasting   patches in throat      high fever   \n",
       "4  Chronic cholestasis         itching            vomiting  yellowish skin   \n",
       "\n",
       "                Symptom_4         Symptom_5       Symptom_6  \\\n",
       "0                     NaN               NaN             NaN   \n",
       "1                scurring               NaN             NaN   \n",
       "2            restlessness          sweating       diarrhoea   \n",
       "3  extra marital contacts               NaN             NaN   \n",
       "4                  nausea  loss of appetite  abdominal pain   \n",
       "\n",
       "           Symptom_7         Symptom_8        Symptom_9    Symptom_10  \\\n",
       "0                NaN               NaN              NaN           NaN   \n",
       "1                NaN               NaN              NaN           NaN   \n",
       "2    fast heart rate  excessive hunger  muscle weakness  irritability   \n",
       "3                NaN               NaN              NaN           NaN   \n",
       "4  yellowing of eyes               NaN              NaN           NaN   \n",
       "\n",
       "              Symptom_11 Symptom_12 Symptom_13 Symptom_14 Symptom_15  \\\n",
       "0                    NaN        NaN        NaN        NaN        NaN   \n",
       "1                    NaN        NaN        NaN        NaN        NaN   \n",
       "2  abnormal menstruation        NaN        NaN        NaN        NaN   \n",
       "3                    NaN        NaN        NaN        NaN        NaN   \n",
       "4                    NaN        NaN        NaN        NaN        NaN   \n",
       "\n",
       "  Symptom_16 Symptom_17  \n",
       "0        NaN        NaN  \n",
       "1        NaN        NaN  \n",
       "2        NaN        NaN  \n",
       "3        NaN        NaN  \n",
       "4        NaN        NaN  "
      ]
     },
     "execution_count": 7,
     "metadata": {},
     "output_type": "execute_result"
    }
   ],
   "source": [
    "cols = df.columns\n",
    "data = df[cols].values.flatten()\n",
    "\n",
    "s = pd.Series(data)\n",
    "s = s.str.strip()\n",
    "s = s.values.reshape(df.shape)\n",
    "\n",
    "df = pd.DataFrame(s, columns=df.columns)\n",
    "df.head()"
   ]
  },
  {
   "cell_type": "markdown",
   "id": "ab79eddb",
   "metadata": {},
   "source": [
    "**Fill the NaN values with zero**"
   ]
  },
  {
   "cell_type": "code",
   "execution_count": 8,
   "id": "f1b0b580",
   "metadata": {},
   "outputs": [
    {
     "data": {
      "text/html": [
       "<div>\n",
       "<style scoped>\n",
       "    .dataframe tbody tr th:only-of-type {\n",
       "        vertical-align: middle;\n",
       "    }\n",
       "\n",
       "    .dataframe tbody tr th {\n",
       "        vertical-align: top;\n",
       "    }\n",
       "\n",
       "    .dataframe thead th {\n",
       "        text-align: right;\n",
       "    }\n",
       "</style>\n",
       "<table border=\"1\" class=\"dataframe\">\n",
       "  <thead>\n",
       "    <tr style=\"text-align: right;\">\n",
       "      <th></th>\n",
       "      <th>Disease</th>\n",
       "      <th>Symptom_1</th>\n",
       "      <th>Symptom_2</th>\n",
       "      <th>Symptom_3</th>\n",
       "      <th>Symptom_4</th>\n",
       "      <th>Symptom_5</th>\n",
       "      <th>Symptom_6</th>\n",
       "      <th>Symptom_7</th>\n",
       "      <th>Symptom_8</th>\n",
       "      <th>Symptom_9</th>\n",
       "      <th>Symptom_10</th>\n",
       "      <th>Symptom_11</th>\n",
       "      <th>Symptom_12</th>\n",
       "      <th>Symptom_13</th>\n",
       "      <th>Symptom_14</th>\n",
       "      <th>Symptom_15</th>\n",
       "      <th>Symptom_16</th>\n",
       "      <th>Symptom_17</th>\n",
       "    </tr>\n",
       "  </thead>\n",
       "  <tbody>\n",
       "    <tr>\n",
       "      <th>0</th>\n",
       "      <td>Acne</td>\n",
       "      <td>skin rash</td>\n",
       "      <td>blackheads</td>\n",
       "      <td>scurring</td>\n",
       "      <td>0</td>\n",
       "      <td>0</td>\n",
       "      <td>0</td>\n",
       "      <td>0</td>\n",
       "      <td>0</td>\n",
       "      <td>0</td>\n",
       "      <td>0</td>\n",
       "      <td>0</td>\n",
       "      <td>0</td>\n",
       "      <td>0</td>\n",
       "      <td>0</td>\n",
       "      <td>0</td>\n",
       "      <td>0</td>\n",
       "      <td>0</td>\n",
       "    </tr>\n",
       "    <tr>\n",
       "      <th>1</th>\n",
       "      <td>Acne</td>\n",
       "      <td>skin rash</td>\n",
       "      <td>pus filled pimples</td>\n",
       "      <td>blackheads</td>\n",
       "      <td>scurring</td>\n",
       "      <td>0</td>\n",
       "      <td>0</td>\n",
       "      <td>0</td>\n",
       "      <td>0</td>\n",
       "      <td>0</td>\n",
       "      <td>0</td>\n",
       "      <td>0</td>\n",
       "      <td>0</td>\n",
       "      <td>0</td>\n",
       "      <td>0</td>\n",
       "      <td>0</td>\n",
       "      <td>0</td>\n",
       "      <td>0</td>\n",
       "    </tr>\n",
       "    <tr>\n",
       "      <th>2</th>\n",
       "      <td>Hyperthyroidism</td>\n",
       "      <td>fatigue</td>\n",
       "      <td>mood swings</td>\n",
       "      <td>weight loss</td>\n",
       "      <td>restlessness</td>\n",
       "      <td>sweating</td>\n",
       "      <td>diarrhoea</td>\n",
       "      <td>fast heart rate</td>\n",
       "      <td>excessive hunger</td>\n",
       "      <td>muscle weakness</td>\n",
       "      <td>irritability</td>\n",
       "      <td>abnormal menstruation</td>\n",
       "      <td>0</td>\n",
       "      <td>0</td>\n",
       "      <td>0</td>\n",
       "      <td>0</td>\n",
       "      <td>0</td>\n",
       "      <td>0</td>\n",
       "    </tr>\n",
       "    <tr>\n",
       "      <th>3</th>\n",
       "      <td>AIDS</td>\n",
       "      <td>muscle wasting</td>\n",
       "      <td>patches in throat</td>\n",
       "      <td>high fever</td>\n",
       "      <td>extra marital contacts</td>\n",
       "      <td>0</td>\n",
       "      <td>0</td>\n",
       "      <td>0</td>\n",
       "      <td>0</td>\n",
       "      <td>0</td>\n",
       "      <td>0</td>\n",
       "      <td>0</td>\n",
       "      <td>0</td>\n",
       "      <td>0</td>\n",
       "      <td>0</td>\n",
       "      <td>0</td>\n",
       "      <td>0</td>\n",
       "      <td>0</td>\n",
       "    </tr>\n",
       "    <tr>\n",
       "      <th>4</th>\n",
       "      <td>Chronic cholestasis</td>\n",
       "      <td>itching</td>\n",
       "      <td>vomiting</td>\n",
       "      <td>yellowish skin</td>\n",
       "      <td>nausea</td>\n",
       "      <td>loss of appetite</td>\n",
       "      <td>abdominal pain</td>\n",
       "      <td>yellowing of eyes</td>\n",
       "      <td>0</td>\n",
       "      <td>0</td>\n",
       "      <td>0</td>\n",
       "      <td>0</td>\n",
       "      <td>0</td>\n",
       "      <td>0</td>\n",
       "      <td>0</td>\n",
       "      <td>0</td>\n",
       "      <td>0</td>\n",
       "      <td>0</td>\n",
       "    </tr>\n",
       "  </tbody>\n",
       "</table>\n",
       "</div>"
      ],
      "text/plain": [
       "               Disease       Symptom_1           Symptom_2       Symptom_3  \\\n",
       "0                 Acne       skin rash          blackheads        scurring   \n",
       "1                 Acne       skin rash  pus filled pimples      blackheads   \n",
       "2      Hyperthyroidism         fatigue         mood swings     weight loss   \n",
       "3                 AIDS  muscle wasting   patches in throat      high fever   \n",
       "4  Chronic cholestasis         itching            vomiting  yellowish skin   \n",
       "\n",
       "                Symptom_4         Symptom_5       Symptom_6  \\\n",
       "0                       0                 0               0   \n",
       "1                scurring                 0               0   \n",
       "2            restlessness          sweating       diarrhoea   \n",
       "3  extra marital contacts                 0               0   \n",
       "4                  nausea  loss of appetite  abdominal pain   \n",
       "\n",
       "           Symptom_7         Symptom_8        Symptom_9    Symptom_10  \\\n",
       "0                  0                 0                0             0   \n",
       "1                  0                 0                0             0   \n",
       "2    fast heart rate  excessive hunger  muscle weakness  irritability   \n",
       "3                  0                 0                0             0   \n",
       "4  yellowing of eyes                 0                0             0   \n",
       "\n",
       "              Symptom_11 Symptom_12 Symptom_13 Symptom_14 Symptom_15  \\\n",
       "0                      0          0          0          0          0   \n",
       "1                      0          0          0          0          0   \n",
       "2  abnormal menstruation          0          0          0          0   \n",
       "3                      0          0          0          0          0   \n",
       "4                      0          0          0          0          0   \n",
       "\n",
       "  Symptom_16 Symptom_17  \n",
       "0          0          0  \n",
       "1          0          0  \n",
       "2          0          0  \n",
       "3          0          0  \n",
       "4          0          0  "
      ]
     },
     "execution_count": 8,
     "metadata": {},
     "output_type": "execute_result"
    }
   ],
   "source": [
    "df = df.fillna(0)\n",
    "df.head()"
   ]
  },
  {
   "cell_type": "markdown",
   "id": "95c1c9a0",
   "metadata": {},
   "source": [
    "**Symptom severity rank**"
   ]
  },
  {
   "cell_type": "code",
   "execution_count": 9,
   "id": "e7cc0be0",
   "metadata": {},
   "outputs": [
    {
     "data": {
      "text/html": [
       "<div>\n",
       "<style scoped>\n",
       "    .dataframe tbody tr th:only-of-type {\n",
       "        vertical-align: middle;\n",
       "    }\n",
       "\n",
       "    .dataframe tbody tr th {\n",
       "        vertical-align: top;\n",
       "    }\n",
       "\n",
       "    .dataframe thead th {\n",
       "        text-align: right;\n",
       "    }\n",
       "</style>\n",
       "<table border=\"1\" class=\"dataframe\">\n",
       "  <thead>\n",
       "    <tr style=\"text-align: right;\">\n",
       "      <th></th>\n",
       "      <th>Symptom</th>\n",
       "      <th>weight</th>\n",
       "    </tr>\n",
       "  </thead>\n",
       "  <tbody>\n",
       "    <tr>\n",
       "      <th>0</th>\n",
       "      <td>itching</td>\n",
       "      <td>1</td>\n",
       "    </tr>\n",
       "    <tr>\n",
       "      <th>1</th>\n",
       "      <td>skin rash</td>\n",
       "      <td>3</td>\n",
       "    </tr>\n",
       "    <tr>\n",
       "      <th>2</th>\n",
       "      <td>nodal skin eruptions</td>\n",
       "      <td>4</td>\n",
       "    </tr>\n",
       "    <tr>\n",
       "      <th>3</th>\n",
       "      <td>continuous sneezing</td>\n",
       "      <td>4</td>\n",
       "    </tr>\n",
       "    <tr>\n",
       "      <th>4</th>\n",
       "      <td>shivering</td>\n",
       "      <td>5</td>\n",
       "    </tr>\n",
       "  </tbody>\n",
       "</table>\n",
       "</div>"
      ],
      "text/plain": [
       "                Symptom  weight\n",
       "0               itching       1\n",
       "1             skin rash       3\n",
       "2  nodal skin eruptions       4\n",
       "3   continuous sneezing       4\n",
       "4             shivering       5"
      ]
     },
     "execution_count": 9,
     "metadata": {},
     "output_type": "execute_result"
    }
   ],
   "source": [
    "df1 = pd.read_csv('data/Symptom-severity.csv')\n",
    "df1['Symptom'] = df1['Symptom'].str.replace('_',' ')\n",
    "df1.head()"
   ]
  },
  {
   "cell_type": "markdown",
   "id": "0c275b43",
   "metadata": {},
   "source": [
    "**Get overall list of symptoms**"
   ]
  },
  {
   "cell_type": "code",
   "execution_count": 10,
   "id": "34cab075",
   "metadata": {},
   "outputs": [
    {
     "data": {
      "text/plain": [
       "array(['itching', 'skin rash', 'nodal skin eruptions',\n",
       "       'continuous sneezing', 'shivering', 'chills', 'joint pain',\n",
       "       'stomach pain', 'acidity', 'ulcers on tongue', 'muscle wasting',\n",
       "       'vomiting', 'burning micturition', 'spotting urination', 'fatigue',\n",
       "       'weight gain', 'anxiety', 'cold hands and feets', 'mood swings',\n",
       "       'weight loss', 'restlessness', 'lethargy', 'patches in throat',\n",
       "       'irregular sugar level', 'cough', 'high fever', 'sunken eyes',\n",
       "       'breathlessness', 'sweating', 'dehydration', 'indigestion',\n",
       "       'headache', 'yellowish skin', 'dark urine', 'nausea',\n",
       "       'loss of appetite', 'pain behind the eyes', 'back pain',\n",
       "       'constipation', 'abdominal pain', 'diarrhoea', 'mild fever',\n",
       "       'yellow urine', 'yellowing of eyes', 'acute liver failure',\n",
       "       'fluid overload', 'swelling of stomach', 'swelled lymph nodes',\n",
       "       'malaise', 'blurred and distorted vision', 'phlegm',\n",
       "       'throat irritation', 'redness of eyes', 'sinus pressure',\n",
       "       'runny nose', 'congestion', 'chest pain', 'weakness in limbs',\n",
       "       'fast heart rate', 'pain during bowel movements',\n",
       "       'pain in anal region', 'bloody stool', 'irritation in anus',\n",
       "       'neck pain', 'dizziness', 'cramps', 'bruising', 'obesity',\n",
       "       'swollen legs', 'swollen blood vessels', 'puffy face and eyes',\n",
       "       'enlarged thyroid', 'brittle nails', 'swollen extremeties',\n",
       "       'excessive hunger', 'extra marital contacts',\n",
       "       'drying and tingling lips', 'slurred speech', 'knee pain',\n",
       "       'hip joint pain', 'muscle weakness', 'stiff neck',\n",
       "       'swelling joints', 'movement stiffness', 'spinning movements',\n",
       "       'loss of balance', 'unsteadiness', 'weakness of one body side',\n",
       "       'loss of smell', 'bladder discomfort', 'foul smell ofurine',\n",
       "       'continuous feel of urine', 'passage of gases', 'internal itching',\n",
       "       'toxic look (typhos)', 'depression', 'irritability', 'muscle pain',\n",
       "       'altered sensorium', 'red spots over body', 'belly pain',\n",
       "       'abnormal menstruation', 'dischromic patches',\n",
       "       'watering from eyes', 'increased appetite', 'polyuria',\n",
       "       'family history', 'mucoid sputum', 'rusty sputum',\n",
       "       'lack of concentration', 'visual disturbances',\n",
       "       'receiving blood transfusion', 'receiving unsterile injections',\n",
       "       'coma', 'stomach bleeding', 'distention of abdomen',\n",
       "       'history of alcohol consumption', 'blood in sputum',\n",
       "       'prominent veins on calf', 'palpitations', 'painful walking',\n",
       "       'pus filled pimples', 'blackheads', 'scurring', 'skin peeling',\n",
       "       'silver like dusting', 'small dents in nails',\n",
       "       'inflammatory nails', 'blister', 'red sore around nose',\n",
       "       'yellow crust ooze', 'prognosis'], dtype=object)"
      ]
     },
     "execution_count": 10,
     "metadata": {},
     "output_type": "execute_result"
    }
   ],
   "source": [
    "df1['Symptom'].unique()"
   ]
  },
  {
   "cell_type": "markdown",
   "id": "fdf61821",
   "metadata": {},
   "source": [
    "**Encode symptoms in the data with the symptom rank**"
   ]
  },
  {
   "cell_type": "code",
   "execution_count": 11,
   "id": "dd7fd8f0",
   "metadata": {},
   "outputs": [
    {
     "data": {
      "text/html": [
       "<div>\n",
       "<style scoped>\n",
       "    .dataframe tbody tr th:only-of-type {\n",
       "        vertical-align: middle;\n",
       "    }\n",
       "\n",
       "    .dataframe tbody tr th {\n",
       "        vertical-align: top;\n",
       "    }\n",
       "\n",
       "    .dataframe thead th {\n",
       "        text-align: right;\n",
       "    }\n",
       "</style>\n",
       "<table border=\"1\" class=\"dataframe\">\n",
       "  <thead>\n",
       "    <tr style=\"text-align: right;\">\n",
       "      <th></th>\n",
       "      <th>Disease</th>\n",
       "      <th>Symptom_1</th>\n",
       "      <th>Symptom_2</th>\n",
       "      <th>Symptom_3</th>\n",
       "      <th>Symptom_4</th>\n",
       "      <th>Symptom_5</th>\n",
       "      <th>Symptom_6</th>\n",
       "      <th>Symptom_7</th>\n",
       "      <th>Symptom_8</th>\n",
       "      <th>Symptom_9</th>\n",
       "      <th>Symptom_10</th>\n",
       "      <th>Symptom_11</th>\n",
       "      <th>Symptom_12</th>\n",
       "      <th>Symptom_13</th>\n",
       "      <th>Symptom_14</th>\n",
       "      <th>Symptom_15</th>\n",
       "      <th>Symptom_16</th>\n",
       "      <th>Symptom_17</th>\n",
       "    </tr>\n",
       "  </thead>\n",
       "  <tbody>\n",
       "    <tr>\n",
       "      <th>0</th>\n",
       "      <td>Acne</td>\n",
       "      <td>3</td>\n",
       "      <td>2</td>\n",
       "      <td>2</td>\n",
       "      <td>0</td>\n",
       "      <td>0</td>\n",
       "      <td>0</td>\n",
       "      <td>0</td>\n",
       "      <td>0</td>\n",
       "      <td>0</td>\n",
       "      <td>0</td>\n",
       "      <td>0</td>\n",
       "      <td>0</td>\n",
       "      <td>0</td>\n",
       "      <td>0</td>\n",
       "      <td>0</td>\n",
       "      <td>0</td>\n",
       "      <td>0</td>\n",
       "    </tr>\n",
       "    <tr>\n",
       "      <th>1</th>\n",
       "      <td>Acne</td>\n",
       "      <td>3</td>\n",
       "      <td>2</td>\n",
       "      <td>2</td>\n",
       "      <td>2</td>\n",
       "      <td>0</td>\n",
       "      <td>0</td>\n",
       "      <td>0</td>\n",
       "      <td>0</td>\n",
       "      <td>0</td>\n",
       "      <td>0</td>\n",
       "      <td>0</td>\n",
       "      <td>0</td>\n",
       "      <td>0</td>\n",
       "      <td>0</td>\n",
       "      <td>0</td>\n",
       "      <td>0</td>\n",
       "      <td>0</td>\n",
       "    </tr>\n",
       "    <tr>\n",
       "      <th>2</th>\n",
       "      <td>Hyperthyroidism</td>\n",
       "      <td>4</td>\n",
       "      <td>3</td>\n",
       "      <td>3</td>\n",
       "      <td>5</td>\n",
       "      <td>3</td>\n",
       "      <td>6</td>\n",
       "      <td>5</td>\n",
       "      <td>4</td>\n",
       "      <td>2</td>\n",
       "      <td>2</td>\n",
       "      <td>6</td>\n",
       "      <td>0</td>\n",
       "      <td>0</td>\n",
       "      <td>0</td>\n",
       "      <td>0</td>\n",
       "      <td>0</td>\n",
       "      <td>0</td>\n",
       "    </tr>\n",
       "    <tr>\n",
       "      <th>3</th>\n",
       "      <td>AIDS</td>\n",
       "      <td>3</td>\n",
       "      <td>6</td>\n",
       "      <td>7</td>\n",
       "      <td>5</td>\n",
       "      <td>0</td>\n",
       "      <td>0</td>\n",
       "      <td>0</td>\n",
       "      <td>0</td>\n",
       "      <td>0</td>\n",
       "      <td>0</td>\n",
       "      <td>0</td>\n",
       "      <td>0</td>\n",
       "      <td>0</td>\n",
       "      <td>0</td>\n",
       "      <td>0</td>\n",
       "      <td>0</td>\n",
       "      <td>0</td>\n",
       "    </tr>\n",
       "    <tr>\n",
       "      <th>4</th>\n",
       "      <td>Chronic cholestasis</td>\n",
       "      <td>1</td>\n",
       "      <td>5</td>\n",
       "      <td>3</td>\n",
       "      <td>5</td>\n",
       "      <td>4</td>\n",
       "      <td>4</td>\n",
       "      <td>4</td>\n",
       "      <td>0</td>\n",
       "      <td>0</td>\n",
       "      <td>0</td>\n",
       "      <td>0</td>\n",
       "      <td>0</td>\n",
       "      <td>0</td>\n",
       "      <td>0</td>\n",
       "      <td>0</td>\n",
       "      <td>0</td>\n",
       "      <td>0</td>\n",
       "    </tr>\n",
       "  </tbody>\n",
       "</table>\n",
       "</div>"
      ],
      "text/plain": [
       "               Disease Symptom_1 Symptom_2 Symptom_3 Symptom_4 Symptom_5  \\\n",
       "0                 Acne         3         2         2         0         0   \n",
       "1                 Acne         3         2         2         2         0   \n",
       "2      Hyperthyroidism         4         3         3         5         3   \n",
       "3                 AIDS         3         6         7         5         0   \n",
       "4  Chronic cholestasis         1         5         3         5         4   \n",
       "\n",
       "  Symptom_6 Symptom_7 Symptom_8 Symptom_9 Symptom_10 Symptom_11 Symptom_12  \\\n",
       "0         0         0         0         0          0          0          0   \n",
       "1         0         0         0         0          0          0          0   \n",
       "2         6         5         4         2          2          6          0   \n",
       "3         0         0         0         0          0          0          0   \n",
       "4         4         4         0         0          0          0          0   \n",
       "\n",
       "  Symptom_13 Symptom_14 Symptom_15 Symptom_16 Symptom_17  \n",
       "0          0          0          0          0          0  \n",
       "1          0          0          0          0          0  \n",
       "2          0          0          0          0          0  \n",
       "3          0          0          0          0          0  \n",
       "4          0          0          0          0          0  "
      ]
     },
     "execution_count": 11,
     "metadata": {},
     "output_type": "execute_result"
    }
   ],
   "source": [
    "vals = df.values\n",
    "symptoms = df1['Symptom'].unique()\n",
    "\n",
    "for i in range(len(symptoms)):\n",
    "    vals[vals == symptoms[i]] = df1[df1['Symptom'] == symptoms[i]]['weight'].values[0]\n",
    "    \n",
    "d = pd.DataFrame(vals, columns=cols)\n",
    "d.head()"
   ]
  },
  {
   "cell_type": "markdown",
   "id": "8cff27d3",
   "metadata": {},
   "source": [
    "**Assign symptoms with no rank to zero**"
   ]
  },
  {
   "cell_type": "code",
   "execution_count": 12,
   "id": "e498ce5a",
   "metadata": {},
   "outputs": [
    {
     "data": {
      "text/html": [
       "<div>\n",
       "<style scoped>\n",
       "    .dataframe tbody tr th:only-of-type {\n",
       "        vertical-align: middle;\n",
       "    }\n",
       "\n",
       "    .dataframe tbody tr th {\n",
       "        vertical-align: top;\n",
       "    }\n",
       "\n",
       "    .dataframe thead th {\n",
       "        text-align: right;\n",
       "    }\n",
       "</style>\n",
       "<table border=\"1\" class=\"dataframe\">\n",
       "  <thead>\n",
       "    <tr style=\"text-align: right;\">\n",
       "      <th></th>\n",
       "      <th>Disease</th>\n",
       "      <th>Symptom_1</th>\n",
       "      <th>Symptom_2</th>\n",
       "      <th>Symptom_3</th>\n",
       "      <th>Symptom_4</th>\n",
       "      <th>Symptom_5</th>\n",
       "      <th>Symptom_6</th>\n",
       "      <th>Symptom_7</th>\n",
       "      <th>Symptom_8</th>\n",
       "      <th>Symptom_9</th>\n",
       "      <th>Symptom_10</th>\n",
       "      <th>Symptom_11</th>\n",
       "      <th>Symptom_12</th>\n",
       "      <th>Symptom_13</th>\n",
       "      <th>Symptom_14</th>\n",
       "      <th>Symptom_15</th>\n",
       "      <th>Symptom_16</th>\n",
       "      <th>Symptom_17</th>\n",
       "    </tr>\n",
       "  </thead>\n",
       "  <tbody>\n",
       "    <tr>\n",
       "      <th>0</th>\n",
       "      <td>Acne</td>\n",
       "      <td>3</td>\n",
       "      <td>2</td>\n",
       "      <td>2</td>\n",
       "      <td>0</td>\n",
       "      <td>0</td>\n",
       "      <td>0</td>\n",
       "      <td>0</td>\n",
       "      <td>0</td>\n",
       "      <td>0</td>\n",
       "      <td>0</td>\n",
       "      <td>0</td>\n",
       "      <td>0</td>\n",
       "      <td>0</td>\n",
       "      <td>0</td>\n",
       "      <td>0</td>\n",
       "      <td>0</td>\n",
       "      <td>0</td>\n",
       "    </tr>\n",
       "    <tr>\n",
       "      <th>1</th>\n",
       "      <td>Acne</td>\n",
       "      <td>3</td>\n",
       "      <td>2</td>\n",
       "      <td>2</td>\n",
       "      <td>2</td>\n",
       "      <td>0</td>\n",
       "      <td>0</td>\n",
       "      <td>0</td>\n",
       "      <td>0</td>\n",
       "      <td>0</td>\n",
       "      <td>0</td>\n",
       "      <td>0</td>\n",
       "      <td>0</td>\n",
       "      <td>0</td>\n",
       "      <td>0</td>\n",
       "      <td>0</td>\n",
       "      <td>0</td>\n",
       "      <td>0</td>\n",
       "    </tr>\n",
       "    <tr>\n",
       "      <th>2</th>\n",
       "      <td>Hyperthyroidism</td>\n",
       "      <td>4</td>\n",
       "      <td>3</td>\n",
       "      <td>3</td>\n",
       "      <td>5</td>\n",
       "      <td>3</td>\n",
       "      <td>6</td>\n",
       "      <td>5</td>\n",
       "      <td>4</td>\n",
       "      <td>2</td>\n",
       "      <td>2</td>\n",
       "      <td>6</td>\n",
       "      <td>0</td>\n",
       "      <td>0</td>\n",
       "      <td>0</td>\n",
       "      <td>0</td>\n",
       "      <td>0</td>\n",
       "      <td>0</td>\n",
       "    </tr>\n",
       "    <tr>\n",
       "      <th>3</th>\n",
       "      <td>AIDS</td>\n",
       "      <td>3</td>\n",
       "      <td>6</td>\n",
       "      <td>7</td>\n",
       "      <td>5</td>\n",
       "      <td>0</td>\n",
       "      <td>0</td>\n",
       "      <td>0</td>\n",
       "      <td>0</td>\n",
       "      <td>0</td>\n",
       "      <td>0</td>\n",
       "      <td>0</td>\n",
       "      <td>0</td>\n",
       "      <td>0</td>\n",
       "      <td>0</td>\n",
       "      <td>0</td>\n",
       "      <td>0</td>\n",
       "      <td>0</td>\n",
       "    </tr>\n",
       "    <tr>\n",
       "      <th>4</th>\n",
       "      <td>Chronic cholestasis</td>\n",
       "      <td>1</td>\n",
       "      <td>5</td>\n",
       "      <td>3</td>\n",
       "      <td>5</td>\n",
       "      <td>4</td>\n",
       "      <td>4</td>\n",
       "      <td>4</td>\n",
       "      <td>0</td>\n",
       "      <td>0</td>\n",
       "      <td>0</td>\n",
       "      <td>0</td>\n",
       "      <td>0</td>\n",
       "      <td>0</td>\n",
       "      <td>0</td>\n",
       "      <td>0</td>\n",
       "      <td>0</td>\n",
       "      <td>0</td>\n",
       "    </tr>\n",
       "    <tr>\n",
       "      <th>5</th>\n",
       "      <td>Hypertension</td>\n",
       "      <td>3</td>\n",
       "      <td>7</td>\n",
       "      <td>4</td>\n",
       "      <td>4</td>\n",
       "      <td>3</td>\n",
       "      <td>0</td>\n",
       "      <td>0</td>\n",
       "      <td>0</td>\n",
       "      <td>0</td>\n",
       "      <td>0</td>\n",
       "      <td>0</td>\n",
       "      <td>0</td>\n",
       "      <td>0</td>\n",
       "      <td>0</td>\n",
       "      <td>0</td>\n",
       "      <td>0</td>\n",
       "      <td>0</td>\n",
       "    </tr>\n",
       "    <tr>\n",
       "      <th>6</th>\n",
       "      <td>Hypoglycemia</td>\n",
       "      <td>5</td>\n",
       "      <td>4</td>\n",
       "      <td>4</td>\n",
       "      <td>3</td>\n",
       "      <td>3</td>\n",
       "      <td>5</td>\n",
       "      <td>5</td>\n",
       "      <td>4</td>\n",
       "      <td>4</td>\n",
       "      <td>4</td>\n",
       "      <td>2</td>\n",
       "      <td>4</td>\n",
       "      <td>0</td>\n",
       "      <td>0</td>\n",
       "      <td>0</td>\n",
       "      <td>0</td>\n",
       "      <td>0</td>\n",
       "    </tr>\n",
       "    <tr>\n",
       "      <th>7</th>\n",
       "      <td>Arthritis</td>\n",
       "      <td>2</td>\n",
       "      <td>4</td>\n",
       "      <td>5</td>\n",
       "      <td>2</td>\n",
       "      <td>0</td>\n",
       "      <td>0</td>\n",
       "      <td>0</td>\n",
       "      <td>0</td>\n",
       "      <td>0</td>\n",
       "      <td>0</td>\n",
       "      <td>0</td>\n",
       "      <td>0</td>\n",
       "      <td>0</td>\n",
       "      <td>0</td>\n",
       "      <td>0</td>\n",
       "      <td>0</td>\n",
       "      <td>0</td>\n",
       "    </tr>\n",
       "    <tr>\n",
       "      <th>8</th>\n",
       "      <td>Hepatitis B</td>\n",
       "      <td>1</td>\n",
       "      <td>4</td>\n",
       "      <td>2</td>\n",
       "      <td>3</td>\n",
       "      <td>4</td>\n",
       "      <td>4</td>\n",
       "      <td>4</td>\n",
       "      <td>4</td>\n",
       "      <td>4</td>\n",
       "      <td>6</td>\n",
       "      <td>5</td>\n",
       "      <td>2</td>\n",
       "      <td>0</td>\n",
       "      <td>0</td>\n",
       "      <td>0</td>\n",
       "      <td>0</td>\n",
       "      <td>0</td>\n",
       "    </tr>\n",
       "    <tr>\n",
       "      <th>9</th>\n",
       "      <td>Migraine</td>\n",
       "      <td>3</td>\n",
       "      <td>5</td>\n",
       "      <td>3</td>\n",
       "      <td>5</td>\n",
       "      <td>4</td>\n",
       "      <td>4</td>\n",
       "      <td>3</td>\n",
       "      <td>2</td>\n",
       "      <td>3</td>\n",
       "      <td>0</td>\n",
       "      <td>0</td>\n",
       "      <td>0</td>\n",
       "      <td>0</td>\n",
       "      <td>0</td>\n",
       "      <td>0</td>\n",
       "      <td>0</td>\n",
       "      <td>0</td>\n",
       "    </tr>\n",
       "  </tbody>\n",
       "</table>\n",
       "</div>"
      ],
      "text/plain": [
       "               Disease  Symptom_1  Symptom_2  Symptom_3  Symptom_4  Symptom_5  \\\n",
       "0                 Acne          3          2          2          0          0   \n",
       "1                 Acne          3          2          2          2          0   \n",
       "2      Hyperthyroidism          4          3          3          5          3   \n",
       "3                 AIDS          3          6          7          5          0   \n",
       "4  Chronic cholestasis          1          5          3          5          4   \n",
       "5         Hypertension          3          7          4          4          3   \n",
       "6         Hypoglycemia          5          4          4          3          3   \n",
       "7            Arthritis          2          4          5          2          0   \n",
       "8          Hepatitis B          1          4          2          3          4   \n",
       "9             Migraine          3          5          3          5          4   \n",
       "\n",
       "   Symptom_6  Symptom_7  Symptom_8  Symptom_9  Symptom_10  Symptom_11  \\\n",
       "0          0          0          0          0           0           0   \n",
       "1          0          0          0          0           0           0   \n",
       "2          6          5          4          2           2           6   \n",
       "3          0          0          0          0           0           0   \n",
       "4          4          4          0          0           0           0   \n",
       "5          0          0          0          0           0           0   \n",
       "6          5          5          4          4           4           2   \n",
       "7          0          0          0          0           0           0   \n",
       "8          4          4          4          4           6           5   \n",
       "9          4          3          2          3           0           0   \n",
       "\n",
       "   Symptom_12  Symptom_13  Symptom_14  Symptom_15  Symptom_16  Symptom_17  \n",
       "0           0           0           0           0           0           0  \n",
       "1           0           0           0           0           0           0  \n",
       "2           0           0           0           0           0           0  \n",
       "3           0           0           0           0           0           0  \n",
       "4           0           0           0           0           0           0  \n",
       "5           0           0           0           0           0           0  \n",
       "6           4           0           0           0           0           0  \n",
       "7           0           0           0           0           0           0  \n",
       "8           2           0           0           0           0           0  \n",
       "9           0           0           0           0           0           0  "
      ]
     },
     "execution_count": 12,
     "metadata": {},
     "output_type": "execute_result"
    }
   ],
   "source": [
    "d = d.replace('dischromic  patches', 0)\n",
    "d = d.replace('spotting  urination',0)\n",
    "df = d.replace('foul smell of urine',0)\n",
    "df.head(10)"
   ]
  },
  {
   "cell_type": "markdown",
   "id": "bba60390",
   "metadata": {},
   "source": [
    "**Check if entire columns have zero values so we can drop those values**"
   ]
  },
  {
   "cell_type": "code",
   "execution_count": 13,
   "id": "62da3164",
   "metadata": {},
   "outputs": [
    {
     "name": "stdout",
     "output_type": "stream",
     "text": [
      "            count\n",
      "Disease         0\n",
      "Symptom_1       0\n",
      "Symptom_2       0\n",
      "Symptom_3       0\n",
      "Symptom_4       0\n",
      "Symptom_5       0\n",
      "Symptom_6       0\n",
      "Symptom_7       0\n",
      "Symptom_8       0\n",
      "Symptom_9       0\n",
      "Symptom_10      0\n",
      "Symptom_11      0\n",
      "Symptom_12      0\n",
      "Symptom_13      0\n",
      "Symptom_14      0\n",
      "Symptom_15      0\n",
      "Symptom_16      0\n",
      "Symptom_17      0\n"
     ]
    }
   ],
   "source": [
    "null_checker = df.apply(lambda x: sum(x.isnull())).to_frame(name='count')\n",
    "print(null_checker)"
   ]
  },
  {
   "cell_type": "code",
   "execution_count": 14,
   "id": "ae1eee67",
   "metadata": {},
   "outputs": [],
   "source": [
    "plt.figure(figsize=(10,5))\n",
    "plt.plot(null_checker.index, null_checker['count'])\n",
    "plt.xticks(null_checker.index, null_checker.index, rotation=45,\n",
    "horizontalalignment='right')\n",
    "plt.title('After removing Null values')\n",
    "plt.xlabel('column names')\n",
    "plt.margins(0.01)"
   ]
  },
  {
   "cell_type": "code",
   "execution_count": 15,
   "id": "e61f3929",
   "metadata": {},
   "outputs": [
    {
     "name": "stdout",
     "output_type": "stream",
     "text": [
      "Number of symptoms used to identify the disease  132\n",
      "Number of diseases that can be identified  41\n"
     ]
    }
   ],
   "source": [
    "print(\"Number of symptoms used to identify the disease \",len(df1['Symptom'].unique()))\n",
    "print(\"Number of diseases that can be identified \",len(df['Disease'].unique()))"
   ]
  },
  {
   "cell_type": "markdown",
   "id": "d55b61ec",
   "metadata": {},
   "source": [
    "## Heatmap of correlation matrix\n",
    "**Shows the likeliehood  of two symptoms appearing together as the darker the color is the more likely the two symptoms appear together in the dataset**"
   ]
  },
  {
   "cell_type": "code",
   "execution_count": 16,
   "id": "413e2337",
   "metadata": {},
   "outputs": [],
   "source": [
    "import matplotlib\n",
    "matplotlib.rcParams.update({\"font.size\":22})\n",
    "new_df = pd.read_csv(\"data/newdf.csv\")\n",
    "encoding = pd.read_csv('data/decryption.csv',index_col=0)\n",
    "new_df.drop(labels=[\"132\",'74','0'],axis=1,inplace=True)\n",
    "renameddf=new_df.rename(errors='raise',inplace=False,columns= {str(x):y for y,x in encoding.to_dict()['code'].items()})\n",
    "renameddf\n",
    "plt.figure(figsize= (30,30))\n",
    "sns.heatmap(renameddf.corr(),cmap=\"PuBu\",annot=False)\n",
    "plt.savefig('./fig/'+'correlation matrix'+'.png')"
   ]
  },
  {
   "cell_type": "markdown",
   "id": "d3e2f363",
   "metadata": {},
   "source": [
    "## Number of symtoms that have the same severity score"
   ]
  },
  {
   "cell_type": "code",
   "execution_count": 17,
   "id": "ef0243f2",
   "metadata": {},
   "outputs": [],
   "source": [
    "matplotlib.rcParams.update({\"font.size\":15})\n",
    "severity = pd.read_csv('data/Symptom-severity.csv')\n",
    "weightcounts ={}\n",
    "for i in severity['weight']:\n",
    "    if i in weightcounts.keys():\n",
    "        weightcounts[i]+=1\n",
    "    else:\n",
    "        weightcounts[i]=1\n",
    "plt.figure(figsize=(10,5))\n",
    "plt.bar(x= weightcounts.keys(),height=weightcounts.values());"
   ]
  },
  {
   "cell_type": "markdown",
   "id": "4312211c",
   "metadata": {},
   "source": [
    "#### Probability of disease given symptom\n",
    "    Calculate the probabilty of a disease given a symptom for all diseases that have that symptom \n",
    "#### Probabilty of Symptoms given disease\n",
    "    Calculates the probability of a symptoms given given a disease for all symptoms related to that disease"
   ]
  },
  {
   "cell_type": "code",
   "execution_count": 18,
   "id": "a53b2735",
   "metadata": {},
   "outputs": [
    {
     "name": "stderr",
     "output_type": "stream",
     "text": [
      "C:\\Users\\eslam\\AppData\\Local\\Temp/ipykernel_16908/1211740837.py:35: UserWarning: Boolean Series key will be reindexed to match DataFrame index.\n",
      "  diseasecounts[disease]=df_sim[df_sim['Disease']==disease][df_sim['Symptom_'+str(i)]==symptom]['Disease'].count()\n",
      "C:\\Users\\eslam\\AppData\\Local\\Temp/ipykernel_16908/1211740837.py:33: UserWarning: Boolean Series key will be reindexed to match DataFrame index.\n",
      "  diseasecounts[disease]+=df_sim[df_sim['Disease']==disease][df_sim['Symptom_'+str(i)]==symptom]['Disease'].count()\n",
      "C:\\Users\\eslam\\AppData\\Local\\Temp/ipykernel_16908/1211740837.py:19: UserWarning: Boolean Series key will be reindexed to match DataFrame index.\n",
      "  symptomcounts[symptom]=df_sim[df_sim['Disease']==disease][df_sim['Symptom_'+str(i)]==symptom]['Disease'].count()\n",
      "C:\\Users\\eslam\\AppData\\Local\\Temp/ipykernel_16908/1211740837.py:17: UserWarning: Boolean Series key will be reindexed to match DataFrame index.\n",
      "  symptomcounts[symptom]+=df_sim[df_sim['Disease']==disease][df_sim['Symptom_'+str(i)]==symptom]['Disease'].count()\n"
     ]
    }
   ],
   "source": [
    "df_sim = pd.read_csv('data/dataset.csv')\n",
    "df_sim.replace(np.nan,'',inplace=True)\n",
    "df_sim.replace('itching',' itching',inplace=True)\n",
    "def probabiltyOfSymptomGivenDisease(df_sim,disease):\n",
    "    totalcounts=df[df['Disease']==disease]['Disease'].count()\n",
    "    SymptomSet= set()\n",
    "    for i in range (1,18):\n",
    "        for x in df_sim[df_sim['Disease']==disease]['Symptom_'+str(i)].unique():\n",
    "            SymptomSet.add(x)\n",
    "    if '' in SymptomSet:    \n",
    "        SymptomSet.remove('')\n",
    "    \n",
    "    symptomcounts={}\n",
    "    for symptom in SymptomSet:\n",
    "        for i in range(1,18):\n",
    "            if symptom in symptomcounts.keys():\n",
    "                symptomcounts[symptom]+=df_sim[df_sim['Disease']==disease][df_sim['Symptom_'+str(i)]==symptom]['Disease'].count()\n",
    "            else:\n",
    "                symptomcounts[symptom]=df_sim[df_sim['Disease']==disease][df_sim['Symptom_'+str(i)]==symptom]['Disease'].count()\n",
    "    symptomcounts= {x:y/totalcounts for x,y in symptomcounts.items() }\n",
    "    return symptomcounts\n",
    "def probabiltyOfDiseaseGivenSymptom(df,symptom):\n",
    "    totalcounts=0\n",
    "    diseaseset=set()\n",
    "    for i in range (1,18):\n",
    "        totalcounts+= df_sim[df_sim['Symptom_'+str(i)]==symptom][\"Disease\"].count()\n",
    "        for diesease in df_sim[df_sim['Symptom_'+str(i)]==symptom][\"Disease\"].unique():\n",
    "            diseaseset.add(diesease)\n",
    "    diseasecounts={}\n",
    "    for disease in diseaseset:\n",
    "        for i in range(1,18):\n",
    "            if disease in diseasecounts.keys():\n",
    "                diseasecounts[disease]+=df_sim[df_sim['Disease']==disease][df_sim['Symptom_'+str(i)]==symptom]['Disease'].count()\n",
    "            else:\n",
    "                diseasecounts[disease]=df_sim[df_sim['Disease']==disease][df_sim['Symptom_'+str(i)]==symptom]['Disease'].count()\n",
    "    diseasecounts={x:y/totalcounts for x, y in diseasecounts.items()}\n",
    "    return diseasecounts\n",
    "alldiseasegivensymptom = {x:probabiltyOfDiseaseGivenSymptom(df_sim,' '+x) for x in encoding.to_dict()['code'].keys()}\n",
    "allsymptomgivendisease = {x:probabiltyOfSymptomGivenDisease(df_sim,x) for x in df['Disease'].unique()}"
   ]
  },
  {
   "cell_type": "markdown",
   "id": "53d5f1b6",
   "metadata": {},
   "source": [
    "**Shows the bar chart of the pdf of all symtoms that appear in more than 4 diseases**"
   ]
  },
  {
   "cell_type": "code",
   "execution_count": 19,
   "id": "cd4f0c23",
   "metadata": {},
   "outputs": [
    {
     "name": "stderr",
     "output_type": "stream",
     "text": [
      "C:\\Users\\eslam\\AppData\\Local\\Temp/ipykernel_16908/17192291.py:4: RuntimeWarning: More than 20 figures have been opened. Figures created through the pyplot interface (`matplotlib.pyplot.figure`) are retained until explicitly closed and may consume too much memory. (To control this warning, see the rcParam `figure.max_open_warning`).\n",
      "  plt.figure(figsize=(15,7))\n"
     ]
    }
   ],
   "source": [
    "alldiseasegivensymptom['itching']\n",
    "for symptom in encoding.to_dict()['code'].keys():\n",
    "    if len(alldiseasegivensymptom[symptom].keys())>4:\n",
    "        plt.figure(figsize=(15,7))\n",
    "        plt.title(symptom)\n",
    "        plt.bar(x=alldiseasegivensymptom[symptom].keys(),height=alldiseasegivensymptom[symptom].values())\n",
    "        plt.xticks(rotation=90)\n",
    "        plt.savefig('./fig/'+str(symptom)+'.png')"
   ]
  },
  {
   "cell_type": "markdown",
   "id": "a6f3c10c",
   "metadata": {},
   "source": [
    "# Pandas report on dataset"
   ]
  },
  {
   "cell_type": "code",
   "execution_count": 20,
   "id": "7b63e259",
   "metadata": {},
   "outputs": [],
   "source": [
    "# ProfileReport(df)"
   ]
  },
  {
   "cell_type": "markdown",
   "id": "483c2c39",
   "metadata": {},
   "source": [
    "**Get the names of diseases from data**"
   ]
  },
  {
   "cell_type": "code",
   "execution_count": 21,
   "id": "96c1a28b",
   "metadata": {},
   "outputs": [
    {
     "data": {
      "text/plain": [
       "array(['Acne', 'Hyperthyroidism', 'AIDS', 'Chronic cholestasis',\n",
       "       'Hypertension', 'Hypoglycemia', 'Arthritis', 'Hepatitis B',\n",
       "       'Migraine', 'Urinary tract infection', 'Diabetes', 'Hepatitis D',\n",
       "       'Psoriasis', 'Alcoholic hepatitis', 'Dimorphic hemmorhoids(piles)',\n",
       "       'Hepatitis E', 'Cervical spondylosis', 'Bronchial Asthma',\n",
       "       'hepatitis A', 'Allergy', 'Hepatitis C', 'Pneumonia',\n",
       "       'Hypothyroidism', 'Gastroenteritis', 'Varicose veins', 'Jaundice',\n",
       "       'Drug Reaction', '(vertigo) Paroymsal  Positional Vertigo',\n",
       "       'Heart attack', 'Tuberculosis', 'Typhoid', 'Common Cold',\n",
       "       'Peptic ulcer diseae', 'Paralysis (brain hemorrhage)',\n",
       "       'Fungal infection', 'Impetigo', 'GERD', 'Dengue', 'Malaria',\n",
       "       'Chicken pox', 'Osteoarthristis'], dtype=object)"
      ]
     },
     "execution_count": 21,
     "metadata": {},
     "output_type": "execute_result"
    }
   ],
   "source": [
    "df['Disease'].unique()"
   ]
  },
  {
   "cell_type": "markdown",
   "id": "3ced5211",
   "metadata": {},
   "source": [
    "### Select the features as symptoms column and label as Disease column\n",
    "\n",
    "Explination: A **feature** is an input; **label** is an output.\n",
    "A feature is one column of the data in your input set. For instance, if you're trying to predict the type of pet someone will choose, your input features might include age, home region, family income, etc. The label is the final choice, such as dog, fish, iguana, rock, etc.\n",
    "\n",
    "Once you've trained your model, you will give it sets of new input containing those features; it will return the predicted \"label\" (pet type) for that person."
   ]
  },
  {
   "cell_type": "code",
   "execution_count": 22,
   "id": "676d9cb0",
   "metadata": {},
   "outputs": [],
   "source": [
    "data = df.iloc[:,1:].values\n",
    "labels = df['Disease'].values"
   ]
  },
  {
   "cell_type": "markdown",
   "id": "bf6f3d79",
   "metadata": {},
   "source": [
    "## Splitting the dataset to training (80%) and testing (20%)\n",
    "\n",
    "Separating data into training and testing sets is an important part of evaluating data mining models. Typically, when you separate a data set into a training set and testing set, most of the data is used for training, and a smaller portion of the data is used for testing. By using similar data for training and testing, you can minimize the effects of data discrepancies and better understand the characteristics of the model.\n",
    "After a model has been processed by using the training set, we test the model by making predictions against the test set. Because the data in the testing set already contains known values for the attribute that you want to predict, it is easy to determine whether the model's guesses are correct.\n",
    "\n",
    "* Train Dataset: Used to fit the machine learning model.\n",
    "* Test Dataset: Used to evaluate the fit machine learning model."
   ]
  },
  {
   "cell_type": "code",
   "execution_count": 23,
   "id": "1a98b0e9",
   "metadata": {},
   "outputs": [
    {
     "name": "stdout",
     "output_type": "stream",
     "text": [
      "(3936, 17) (984, 17) (3936,) (984,)\n"
     ]
    }
   ],
   "source": [
    "x_train, x_test, y_train, y_test = train_test_split(data, labels, train_size = 0.8,random_state=42)\n",
    "print(x_train.shape, x_test.shape, y_train.shape, y_test.shape)"
   ]
  },
  {
   "cell_type": "markdown",
   "id": "94b2dff7",
   "metadata": {},
   "source": [
    "# SVM"
   ]
  },
  {
   "cell_type": "markdown",
   "id": "38c1f649",
   "metadata": {},
   "source": [
    "**Initialize and train a Support vector classifier**"
   ]
  },
  {
   "cell_type": "code",
   "execution_count": 24,
   "id": "76f82901",
   "metadata": {},
   "outputs": [
    {
     "data": {
      "text/plain": [
       "SVC()"
      ]
     },
     "execution_count": 24,
     "metadata": {},
     "output_type": "execute_result"
    }
   ],
   "source": [
    "SVM_unhyperd= SVC()\n",
    "SVM_unhyperd.fit(x_train, y_train)"
   ]
  },
  {
   "cell_type": "markdown",
   "id": "61d4a0cf",
   "metadata": {},
   "source": [
    "### Compute the F1 score, also known as balanced F-score or F-measure.\n",
    "\n",
    "The F1 score can be interpreted as a weighted average of the precision and\n",
    "recall, where an F1 score reaches its best value at 1 and worst score at 0.\n",
    "The relative contribution of precision and recall to the F1 score are\n",
    "equal. The formula for the F1 score is\n",
    "\n",
    "    F1 = 2 * (precision * recall) / (precision + recall)"
   ]
  },
  {
   "cell_type": "code",
   "execution_count": 25,
   "id": "ae9340ce",
   "metadata": {},
   "outputs": [
    {
     "name": "stdout",
     "output_type": "stream",
     "text": [
      "F1-score% = 93.10485856410196 | Accuracy% = 93.4959349593496 | Precision% = 94.2446688327875\n"
     ]
    }
   ],
   "source": [
    "preds = SVM_unhyperd.predict(x_test)\n",
    "conf_mat = confusion_matrix(y_test, preds)\n",
    "df_cm = pd.DataFrame(conf_mat, index=df['Disease'].unique(), columns=df['Disease'].unique())\n",
    "print('F1-score% =', f1_score(y_test, preds, average='macro')*100, '|', 'Accuracy% =', accuracy_score(y_test, preds)*100,'|', 'Precision% =', precision_score(y_test, preds,average='macro')*100)"
   ]
  },
  {
   "cell_type": "markdown",
   "id": "5a5d70c3",
   "metadata": {},
   "source": [
    "**Plot the confusion matrix for 25 diseases**"
   ]
  },
  {
   "cell_type": "code",
   "execution_count": 26,
   "id": "78b544ac",
   "metadata": {},
   "outputs": [
    {
     "data": {
      "text/plain": [
       "<AxesSubplot:title={'center':'malaise'}>"
      ]
     },
     "execution_count": 26,
     "metadata": {},
     "output_type": "execute_result"
    }
   ],
   "source": [
    "matplotlib.rcParams.update({\"font.size\":10})\n",
    "sns.heatmap(df_cm)"
   ]
  },
  {
   "cell_type": "code",
   "execution_count": 27,
   "id": "e8a3708e",
   "metadata": {},
   "outputs": [
    {
     "name": "stdout",
     "output_type": "stream",
     "text": [
      "Mean Accuracy: 92.988%, Standard Deviation: (0.85%)\n"
     ]
    }
   ],
   "source": [
    "kfold = KFold(n_splits=10,shuffle=True,random_state=42)\n",
    "SVM_unhyperd_train =cross_val_score(SVM_unhyperd, x_train, y_train, cv=kfold, scoring='accuracy')\n",
    "pd.DataFrame(SVM_unhyperd_train,columns=['Scores'])\n",
    "print(\"Mean Accuracy: %.3f%%, Standard Deviation: (%.2f%%)\" % (SVM_unhyperd_train.mean()*100.0, SVM_unhyperd_train.std()*100.0))"
   ]
  },
  {
   "cell_type": "code",
   "execution_count": 28,
   "id": "77ff37a6",
   "metadata": {},
   "outputs": [
    {
     "name": "stdout",
     "output_type": "stream",
     "text": [
      "Mean Accuracy: 82.623%, Standard Deviation: (2.54%)\n"
     ]
    }
   ],
   "source": [
    "kfold = KFold(n_splits=10,shuffle=True,random_state=42)\n",
    "SVM_unhyperd_test =cross_val_score(SVM_unhyperd, x_test, y_test, cv=kfold, scoring='accuracy')\n",
    "pd.DataFrame(SVM_unhyperd_test,columns=['Scores'])\n",
    "print(\"Mean Accuracy: %.3f%%, Standard Deviation: (%.2f%%)\" % (SVM_unhyperd_test.mean()*100.0, SVM_unhyperd_test.std()*100.0))"
   ]
  },
  {
   "cell_type": "code",
   "execution_count": 29,
   "id": "fc2d2491",
   "metadata": {},
   "outputs": [
    {
     "name": "stdout",
     "output_type": "stream",
     "text": [
      "                                         precision    recall  f1-score   support\n",
      "\n",
      "(vertigo) Paroymsal  Positional Vertigo       0.88      0.83      0.86        18\n",
      "                                   AIDS       0.95      1.00      0.98        20\n",
      "                                   Acne       1.00      1.00      1.00        32\n",
      "                    Alcoholic hepatitis       0.96      0.86      0.91        29\n",
      "                                Allergy       0.89      0.84      0.86        19\n",
      "                              Arthritis       0.91      0.97      0.94        31\n",
      "                       Bronchial Asthma       0.85      0.61      0.71        28\n",
      "                   Cervical spondylosis       0.74      0.97      0.84        30\n",
      "                            Chicken pox       1.00      1.00      1.00        27\n",
      "                    Chronic cholestasis       0.75      0.95      0.84        19\n",
      "                            Common Cold       1.00      1.00      1.00        25\n",
      "                                 Dengue       1.00      1.00      1.00        22\n",
      "                               Diabetes       1.00      1.00      1.00        23\n",
      "           Dimorphic hemmorhoids(piles)       0.94      1.00      0.97        30\n",
      "                          Drug Reaction       1.00      0.90      0.95        21\n",
      "                       Fungal infection       0.86      1.00      0.93        25\n",
      "                                   GERD       0.88      0.96      0.92        24\n",
      "                        Gastroenteritis       0.58      0.95      0.72        20\n",
      "                           Heart attack       1.00      0.50      0.67        18\n",
      "                            Hepatitis B       1.00      1.00      1.00        28\n",
      "                            Hepatitis C       0.95      0.95      0.95        19\n",
      "                            Hepatitis D       1.00      1.00      1.00        22\n",
      "                            Hepatitis E       1.00      1.00      1.00        30\n",
      "                           Hypertension       0.96      0.79      0.87        29\n",
      "                        Hyperthyroidism       1.00      1.00      1.00        24\n",
      "                           Hypoglycemia       1.00      1.00      1.00        27\n",
      "                         Hypothyroidism       1.00      1.00      1.00        28\n",
      "                               Impetigo       1.00      0.96      0.98        24\n",
      "                               Jaundice       1.00      0.72      0.84        25\n",
      "                                Malaria       1.00      1.00      1.00        26\n",
      "                               Migraine       1.00      1.00      1.00        18\n",
      "                        Osteoarthristis       1.00      0.95      0.97        20\n",
      "           Paralysis (brain hemorrhage)       0.70      0.84      0.76        19\n",
      "                    Peptic ulcer diseae       0.90      1.00      0.95        27\n",
      "                              Pneumonia       1.00      1.00      1.00        21\n",
      "                              Psoriasis       1.00      1.00      1.00        22\n",
      "                           Tuberculosis       1.00      1.00      1.00        23\n",
      "                                Typhoid       1.00      1.00      1.00        20\n",
      "                Urinary tract infection       0.94      0.67      0.78        24\n",
      "                         Varicose veins       1.00      1.00      1.00        26\n",
      "                            hepatitis A       1.00      1.00      1.00        21\n",
      "\n",
      "                               accuracy                           0.93       984\n",
      "                              macro avg       0.94      0.93      0.93       984\n",
      "                           weighted avg       0.94      0.93      0.93       984\n",
      "\n"
     ]
    }
   ],
   "source": [
    "print(classification_report(y_test, preds))"
   ]
  },
  {
   "cell_type": "markdown",
   "id": "11cc1a03",
   "metadata": {},
   "source": [
    "# Hyperparameter tuning with GridSearchCV\n",
    "\n",
    "Performing hyperparameter tuning in order to determine the optimal values for our given model.The performance of a model significantly depends on the value of hyperparameters. There is no way to know in advance the best values for hyperparameters so ideally, we need to try all possible values to know the optimal values. Doing this manually could take a considerable amount of time and resources and thus we used GridSearchCV to automate the tuning of hyperparameters.\n",
    "**Note:** The ouput of the Gridsearchcv is **SVC(C=0.02, gamma=0.3, kernel='poly')**"
   ]
  },
  {
   "cell_type": "code",
   "execution_count": 30,
   "id": "d7ec89b3",
   "metadata": {},
   "outputs": [],
   "source": [
    "# param_grid = {'C': [0.2,0.4,0.6], 'gamma': [0.2,0.3,0.4,0],'kernel': ['linear','poly', 'sigmoid']}\n",
    "# grid = GridSearchCV(SVC(),param_grid,refit=True,verbose=2)\n",
    "# grid.fit(x_train,y_train)\n",
    "# print(grid.best_estimator_)\n",
    "# grid_predictions = grid.predict(x_test)\n",
    "# print(confusion_matrix(y_test,grid_predictions))\n",
    "# print(classification_report(y_test,grid_predictions))"
   ]
  },
  {
   "cell_type": "code",
   "execution_count": 31,
   "id": "91bcc341",
   "metadata": {},
   "outputs": [
    {
     "name": "stdout",
     "output_type": "stream",
     "text": [
      "F1-score% = 99.58380389536958 | Accuracy% = 99.59349593495935\n"
     ]
    },
    {
     "data": {
      "text/plain": [
       "<AxesSubplot:title={'center':'malaise'}>"
      ]
     },
     "execution_count": 31,
     "metadata": {},
     "output_type": "execute_result"
    }
   ],
   "source": [
    "SVM_hyperd = SVC(C=0.02, gamma=0.3, kernel='poly')\n",
    "SVM_hyperd.fit(x_train, y_train)\n",
    "preds = SVM_hyperd.predict(x_test)\n",
    "conf_mat = confusion_matrix(y_test, preds)\n",
    "df_cm = pd.DataFrame(conf_mat, index=df['Disease'].unique(), columns=df['Disease'].unique())\n",
    "print('F1-score% =', f1_score(y_test, preds, average='macro')*100, '|', 'Accuracy% =', accuracy_score(y_test, preds)*100)\n",
    "sns.heatmap(df_cm)"
   ]
  },
  {
   "cell_type": "code",
   "execution_count": 32,
   "id": "2c9421e4",
   "metadata": {},
   "outputs": [
    {
     "name": "stdout",
     "output_type": "stream",
     "text": [
      "                                         precision    recall  f1-score   support\n",
      "\n",
      "(vertigo) Paroymsal  Positional Vertigo       1.00      1.00      1.00        18\n",
      "                                   AIDS       1.00      1.00      1.00        20\n",
      "                                   Acne       1.00      1.00      1.00        32\n",
      "                    Alcoholic hepatitis       1.00      1.00      1.00        29\n",
      "                                Allergy       0.90      1.00      0.95        19\n",
      "                              Arthritis       1.00      1.00      1.00        31\n",
      "                       Bronchial Asthma       1.00      1.00      1.00        28\n",
      "                   Cervical spondylosis       0.94      1.00      0.97        30\n",
      "                            Chicken pox       1.00      1.00      1.00        27\n",
      "                    Chronic cholestasis       1.00      1.00      1.00        19\n",
      "                            Common Cold       1.00      1.00      1.00        25\n",
      "                                 Dengue       1.00      1.00      1.00        22\n",
      "                               Diabetes       1.00      1.00      1.00        23\n",
      "           Dimorphic hemmorhoids(piles)       1.00      1.00      1.00        30\n",
      "                          Drug Reaction       1.00      1.00      1.00        21\n",
      "                       Fungal infection       1.00      1.00      1.00        25\n",
      "                                   GERD       1.00      1.00      1.00        24\n",
      "                        Gastroenteritis       1.00      0.95      0.97        20\n",
      "                           Heart attack       1.00      1.00      1.00        18\n",
      "                            Hepatitis B       1.00      1.00      1.00        28\n",
      "                            Hepatitis C       1.00      1.00      1.00        19\n",
      "                            Hepatitis D       1.00      1.00      1.00        22\n",
      "                            Hepatitis E       1.00      1.00      1.00        30\n",
      "                           Hypertension       1.00      0.93      0.96        29\n",
      "                        Hyperthyroidism       1.00      1.00      1.00        24\n",
      "                           Hypoglycemia       1.00      1.00      1.00        27\n",
      "                         Hypothyroidism       1.00      1.00      1.00        28\n",
      "                               Impetigo       1.00      1.00      1.00        24\n",
      "                               Jaundice       1.00      1.00      1.00        25\n",
      "                                Malaria       1.00      1.00      1.00        26\n",
      "                               Migraine       1.00      1.00      1.00        18\n",
      "                        Osteoarthristis       1.00      1.00      1.00        20\n",
      "           Paralysis (brain hemorrhage)       1.00      0.95      0.97        19\n",
      "                    Peptic ulcer diseae       1.00      1.00      1.00        27\n",
      "                              Pneumonia       1.00      1.00      1.00        21\n",
      "                              Psoriasis       1.00      1.00      1.00        22\n",
      "                           Tuberculosis       1.00      1.00      1.00        23\n",
      "                                Typhoid       1.00      1.00      1.00        20\n",
      "                Urinary tract infection       1.00      1.00      1.00        24\n",
      "                         Varicose veins       1.00      1.00      1.00        26\n",
      "                            hepatitis A       1.00      1.00      1.00        21\n",
      "\n",
      "                               accuracy                           1.00       984\n",
      "                              macro avg       1.00      1.00      1.00       984\n",
      "                           weighted avg       1.00      1.00      1.00       984\n",
      "\n"
     ]
    }
   ],
   "source": [
    "print(classification_report(y_test, preds))"
   ]
  },
  {
   "cell_type": "markdown",
   "id": "7d0fd5ae",
   "metadata": {},
   "source": [
    "## Using 10-Fold Cross Validation to estimate the performance of machine learning models\n",
    "\n",
    "The procedure provides an estimate of the model performance on the dataset when making a prediction on data not used during training. It is less biased than some other techniques, such as a single train-test split for small- to modestly-sized dataset"
   ]
  },
  {
   "cell_type": "code",
   "execution_count": 33,
   "id": "23a1329c",
   "metadata": {},
   "outputs": [
    {
     "name": "stdout",
     "output_type": "stream",
     "text": [
      "Mean Accuracy: 99.492%, Standard Deviation: (0.38%)\n"
     ]
    }
   ],
   "source": [
    "kfold = KFold(n_splits=10,shuffle=True,random_state=42)\n",
    "SVM_hyperd_train =cross_val_score(SVM_hyperd, x_train, y_train, cv=kfold, scoring='accuracy')\n",
    "pd.DataFrame(SVM_hyperd_train,columns=['Scores'])\n",
    "print(\"Mean Accuracy: %.3f%%, Standard Deviation: (%.2f%%)\" % (SVM_hyperd_train.mean()*100.0, SVM_hyperd_train.std()*100.0))"
   ]
  },
  {
   "cell_type": "code",
   "execution_count": 34,
   "id": "f480633e",
   "metadata": {},
   "outputs": [
    {
     "name": "stdout",
     "output_type": "stream",
     "text": [
      "Mean Accuracy: 96.639%, Standard Deviation: (1.94%)\n"
     ]
    }
   ],
   "source": [
    "kfold = KFold(n_splits=10,shuffle=True,random_state=42)\n",
    "SVM_hyperd_test =cross_val_score(SVM_hyperd, x_test, y_test, cv=kfold, scoring='accuracy')\n",
    "pd.DataFrame(SVM_hyperd_test,columns=['Scores'])\n",
    "print(\"Mean Accuracy: %.3f%%, Standard Deviation: (%.2f%%)\" % (SVM_hyperd_test.mean()*100.0, SVM_hyperd_test.std()*100.0))"
   ]
  },
  {
   "cell_type": "markdown",
   "id": "19711a05",
   "metadata": {},
   "source": [
    "# Naive Bayes Model"
   ]
  },
  {
   "cell_type": "code",
   "execution_count": 35,
   "id": "d8413b44",
   "metadata": {},
   "outputs": [
    {
     "name": "stdout",
     "output_type": "stream",
     "text": [
      "F1-score% = 86.58357842139314 | Accuracy% = 87.70325203252033\n"
     ]
    },
    {
     "data": {
      "text/plain": [
       "<AxesSubplot:title={'center':'malaise'}>"
      ]
     },
     "execution_count": 35,
     "metadata": {},
     "output_type": "execute_result"
    }
   ],
   "source": [
    "from sklearn.naive_bayes import GaussianNB\n",
    "gaussian = GaussianNB()\n",
    "gaussian.fit(x_train, y_train)\n",
    "preds=gaussian.predict(x_test)\n",
    "conf_mat = confusion_matrix(y_test, preds)\n",
    "df_cm = pd.DataFrame(conf_mat, index=df['Disease'].unique(), columns=df['Disease'].unique())\n",
    "print('F1-score% =', f1_score(y_test, preds, average='macro')*100, '|', 'Accuracy% =', accuracy_score(y_test, preds)*100)\n",
    "sns.heatmap(df_cm)"
   ]
  },
  {
   "cell_type": "code",
   "execution_count": 36,
   "id": "fd49cc5b",
   "metadata": {},
   "outputs": [
    {
     "name": "stdout",
     "output_type": "stream",
     "text": [
      "                                         precision    recall  f1-score   support\n",
      "\n",
      "(vertigo) Paroymsal  Positional Vertigo       0.81      0.72      0.76        18\n",
      "                                   AIDS       0.65      1.00      0.78        20\n",
      "                                   Acne       1.00      1.00      1.00        32\n",
      "                    Alcoholic hepatitis       0.95      0.72      0.82        29\n",
      "                                Allergy       0.94      0.84      0.89        19\n",
      "                              Arthritis       1.00      0.87      0.93        31\n",
      "                       Bronchial Asthma       1.00      0.68      0.81        28\n",
      "                   Cervical spondylosis       0.72      0.93      0.81        30\n",
      "                            Chicken pox       1.00      0.93      0.96        27\n",
      "                    Chronic cholestasis       1.00      0.95      0.97        19\n",
      "                            Common Cold       1.00      1.00      1.00        25\n",
      "                                 Dengue       1.00      1.00      1.00        22\n",
      "                               Diabetes       0.88      1.00      0.94        23\n",
      "           Dimorphic hemmorhoids(piles)       1.00      0.70      0.82        30\n",
      "                          Drug Reaction       0.84      0.76      0.80        21\n",
      "                       Fungal infection       0.64      1.00      0.78        25\n",
      "                                   GERD       0.00      0.00      0.00        24\n",
      "                        Gastroenteritis       1.00      0.65      0.79        20\n",
      "                           Heart attack       0.71      0.83      0.77        18\n",
      "                            Hepatitis B       1.00      1.00      1.00        28\n",
      "                            Hepatitis C       0.93      0.74      0.82        19\n",
      "                            Hepatitis D       1.00      1.00      1.00        22\n",
      "                            Hepatitis E       1.00      1.00      1.00        30\n",
      "                           Hypertension       0.43      0.90      0.58        29\n",
      "                        Hyperthyroidism       1.00      1.00      1.00        24\n",
      "                           Hypoglycemia       1.00      1.00      1.00        27\n",
      "                         Hypothyroidism       1.00      1.00      1.00        28\n",
      "                               Impetigo       0.75      0.12      0.21        24\n",
      "                               Jaundice       1.00      0.96      0.98        25\n",
      "                                Malaria       1.00      1.00      1.00        26\n",
      "                               Migraine       1.00      1.00      1.00        18\n",
      "                        Osteoarthristis       1.00      0.95      0.97        20\n",
      "           Paralysis (brain hemorrhage)       0.74      0.74      0.74        19\n",
      "                    Peptic ulcer diseae       0.61      1.00      0.76        27\n",
      "                              Pneumonia       0.91      1.00      0.95        21\n",
      "                              Psoriasis       1.00      1.00      1.00        22\n",
      "                           Tuberculosis       1.00      1.00      1.00        23\n",
      "                                Typhoid       1.00      0.95      0.97        20\n",
      "                Urinary tract infection       0.83      1.00      0.91        24\n",
      "                         Varicose veins       1.00      1.00      1.00        26\n",
      "                            hepatitis A       1.00      0.90      0.95        21\n",
      "\n",
      "                               accuracy                           0.88       984\n",
      "                              macro avg       0.89      0.87      0.87       984\n",
      "                           weighted avg       0.89      0.88      0.87       984\n",
      "\n"
     ]
    }
   ],
   "source": [
    "print(classification_report(y_test, preds))"
   ]
  },
  {
   "cell_type": "code",
   "execution_count": 37,
   "id": "251d2938",
   "metadata": {},
   "outputs": [
    {
     "name": "stdout",
     "output_type": "stream",
     "text": [
      "Mean Accuracy: 86.840%, Standard Deviation: (1.65%)\n"
     ]
    }
   ],
   "source": [
    "kfold = KFold(n_splits=10,shuffle=True,random_state=42)\n",
    "gaussian_train =cross_val_score(gaussian, x_train, y_train, cv=kfold, scoring='accuracy')\n",
    "pd.DataFrame(gaussian_train,columns=['Scores'])\n",
    "print(\"Mean Accuracy: %.3f%%, Standard Deviation: (%.2f%%)\" % (gaussian_train.mean()*100.0, gaussian_train.std()*100.0))"
   ]
  },
  {
   "cell_type": "code",
   "execution_count": 38,
   "id": "0ff97942",
   "metadata": {},
   "outputs": [
    {
     "name": "stdout",
     "output_type": "stream",
     "text": [
      "Mean Accuracy: 85.666%, Standard Deviation: (1.77%)\n"
     ]
    }
   ],
   "source": [
    "kfold = KFold(n_splits=10,shuffle=True,random_state=42)\n",
    "gaussian_test =cross_val_score(gaussian, x_test, y_test, cv=kfold, scoring='accuracy')\n",
    "pd.DataFrame(gaussian_test,columns=['Scores'])\n",
    "print(\"Mean Accuracy: %.3f%%, Standard Deviation: (%.2f%%)\" % (gaussian_test.mean()*100.0, gaussian_test.std()*100.0))"
   ]
  },
  {
   "cell_type": "markdown",
   "id": "4b04b56e",
   "metadata": {},
   "source": [
    "# Decision Tree"
   ]
  },
  {
   "cell_type": "code",
   "execution_count": 39,
   "id": "ebdb8cc1",
   "metadata": {},
   "outputs": [
    {
     "name": "stdout",
     "output_type": "stream",
     "text": [
      "F1-score% = 95.7812664665753 | Accuracy% = 95.83333333333334\n"
     ]
    },
    {
     "data": {
      "text/plain": [
       "<AxesSubplot:title={'center':'malaise'}>"
      ]
     },
     "execution_count": 39,
     "metadata": {},
     "output_type": "execute_result"
    }
   ],
   "source": [
    "tree =DecisionTreeClassifier(criterion='gini',random_state=42,max_depth=13)\n",
    "tree.fit(x_train, y_train)\n",
    "preds=tree.predict(x_test)\n",
    "conf_mat = confusion_matrix(y_test, preds)\n",
    "df_cm = pd.DataFrame(conf_mat, index=df['Disease'].unique(), columns=df['Disease'].unique())\n",
    "print('F1-score% =', f1_score(y_test, preds, average='macro')*100, '|', 'Accuracy% =', accuracy_score(y_test, preds)*100)\n",
    "sns.heatmap(df_cm)"
   ]
  },
  {
   "cell_type": "code",
   "execution_count": 40,
   "id": "55a7b1e2",
   "metadata": {},
   "outputs": [
    {
     "name": "stdout",
     "output_type": "stream",
     "text": [
      "                                         precision    recall  f1-score   support\n",
      "\n",
      "(vertigo) Paroymsal  Positional Vertigo       1.00      1.00      1.00        18\n",
      "                                   AIDS       1.00      1.00      1.00        20\n",
      "                                   Acne       1.00      1.00      1.00        32\n",
      "                    Alcoholic hepatitis       1.00      1.00      1.00        29\n",
      "                                Allergy       1.00      0.68      0.81        19\n",
      "                              Arthritis       1.00      0.97      0.98        31\n",
      "                       Bronchial Asthma       1.00      1.00      1.00        28\n",
      "                   Cervical spondylosis       0.68      1.00      0.81        30\n",
      "                            Chicken pox       1.00      1.00      1.00        27\n",
      "                    Chronic cholestasis       1.00      1.00      1.00        19\n",
      "                            Common Cold       1.00      1.00      1.00        25\n",
      "                                 Dengue       1.00      1.00      1.00        22\n",
      "                               Diabetes       1.00      1.00      1.00        23\n",
      "           Dimorphic hemmorhoids(piles)       1.00      0.77      0.87        30\n",
      "                          Drug Reaction       1.00      0.95      0.98        21\n",
      "                       Fungal infection       1.00      0.96      0.98        25\n",
      "                                   GERD       1.00      1.00      1.00        24\n",
      "                        Gastroenteritis       1.00      0.60      0.75        20\n",
      "                           Heart attack       1.00      0.50      0.67        18\n",
      "                            Hepatitis B       1.00      1.00      1.00        28\n",
      "                            Hepatitis C       1.00      1.00      1.00        19\n",
      "                            Hepatitis D       1.00      1.00      1.00        22\n",
      "                            Hepatitis E       1.00      1.00      1.00        30\n",
      "                           Hypertension       1.00      0.83      0.91        29\n",
      "                        Hyperthyroidism       1.00      1.00      1.00        24\n",
      "                           Hypoglycemia       1.00      1.00      1.00        27\n",
      "                         Hypothyroidism       1.00      1.00      1.00        28\n",
      "                               Impetigo       1.00      0.88      0.93        24\n",
      "                               Jaundice       1.00      1.00      1.00        25\n",
      "                                Malaria       1.00      1.00      1.00        26\n",
      "                               Migraine       1.00      1.00      1.00        18\n",
      "                        Osteoarthristis       1.00      1.00      1.00        20\n",
      "           Paralysis (brain hemorrhage)       0.41      1.00      0.58        19\n",
      "                    Peptic ulcer diseae       1.00      1.00      1.00        27\n",
      "                              Pneumonia       1.00      1.00      1.00        21\n",
      "                              Psoriasis       1.00      1.00      1.00        22\n",
      "                           Tuberculosis       1.00      1.00      1.00        23\n",
      "                                Typhoid       1.00      1.00      1.00        20\n",
      "                Urinary tract infection       1.00      1.00      1.00        24\n",
      "                         Varicose veins       1.00      1.00      1.00        26\n",
      "                            hepatitis A       1.00      1.00      1.00        21\n",
      "\n",
      "                               accuracy                           0.96       984\n",
      "                              macro avg       0.98      0.95      0.96       984\n",
      "                           weighted avg       0.98      0.96      0.96       984\n",
      "\n"
     ]
    }
   ],
   "source": [
    "print(classification_report(y_test, preds))"
   ]
  },
  {
   "cell_type": "code",
   "execution_count": 41,
   "id": "71c602e8",
   "metadata": {},
   "outputs": [
    {
     "name": "stdout",
     "output_type": "stream",
     "text": [
      "Mean Accuracy: 95.706%, Standard Deviation: (1.99%)\n"
     ]
    }
   ],
   "source": [
    "kfold = KFold(n_splits=10,shuffle=True,random_state=42)\n",
    "DS_train =cross_val_score(tree, x_train, y_train, cv=kfold, scoring='accuracy')\n",
    "pd.DataFrame(DS_train,columns=['Scores'])\n",
    "print(\"Mean Accuracy: %.3f%%, Standard Deviation: (%.2f%%)\" % (DS_train.mean()*100.0, DS_train.std()*100.0))"
   ]
  },
  {
   "cell_type": "code",
   "execution_count": 42,
   "id": "c5a30857",
   "metadata": {},
   "outputs": [
    {
     "name": "stdout",
     "output_type": "stream",
     "text": [
      "Mean Accuracy: 94.198%, Standard Deviation: (3.57%)\n"
     ]
    }
   ],
   "source": [
    "kfold = KFold(n_splits=10,shuffle=True,random_state=42)\n",
    "DS_test =cross_val_score(tree, x_test, y_test, cv=kfold, scoring='accuracy')\n",
    "pd.DataFrame(DS_test,columns=['Scores'])\n",
    "print(\"Mean Accuracy: %.3f%%, Standard Deviation: (%.2f%%)\" % (DS_test.mean()*100.0, DS_test.std()*100.0))"
   ]
  },
  {
   "cell_type": "markdown",
   "id": "4e8d23b0",
   "metadata": {},
   "source": [
    "# Random Forest"
   ]
  },
  {
   "cell_type": "code",
   "execution_count": 43,
   "id": "a8152ff5",
   "metadata": {},
   "outputs": [],
   "source": [
    "rfc=RandomForestClassifier(random_state=42)"
   ]
  },
  {
   "cell_type": "code",
   "execution_count": 44,
   "id": "e713f601",
   "metadata": {},
   "outputs": [
    {
     "name": "stdout",
     "output_type": "stream",
     "text": [
      "F1-score% = 99.58380389536958 | Accuracy% = 99.59349593495935\n"
     ]
    },
    {
     "data": {
      "text/plain": [
       "<AxesSubplot:title={'center':'malaise'}>"
      ]
     },
     "execution_count": 44,
     "metadata": {},
     "output_type": "execute_result"
    }
   ],
   "source": [
    "rnd_forest = RandomForestClassifier(random_state=42, max_features='sqrt', n_estimators= 500, max_depth=13)\n",
    "rnd_forest.fit(x_train,y_train)\n",
    "preds=rnd_forest.predict(x_test)\n",
    "conf_mat = confusion_matrix(y_test, preds)\n",
    "df_cm = pd.DataFrame(conf_mat, index=df['Disease'].unique(), columns=df['Disease'].unique())\n",
    "print('F1-score% =', f1_score(y_test, preds, average='macro')*100, '|', 'Accuracy% =', accuracy_score(y_test, preds)*100)\n",
    "sns.heatmap(df_cm)"
   ]
  },
  {
   "cell_type": "code",
   "execution_count": 45,
   "id": "ca6ea814",
   "metadata": {},
   "outputs": [
    {
     "name": "stdout",
     "output_type": "stream",
     "text": [
      "                                         precision    recall  f1-score   support\n",
      "\n",
      "(vertigo) Paroymsal  Positional Vertigo       1.00      1.00      1.00        18\n",
      "                                   AIDS       1.00      1.00      1.00        20\n",
      "                                   Acne       1.00      1.00      1.00        32\n",
      "                    Alcoholic hepatitis       1.00      1.00      1.00        29\n",
      "                                Allergy       1.00      0.95      0.97        19\n",
      "                              Arthritis       1.00      1.00      1.00        31\n",
      "                       Bronchial Asthma       1.00      1.00      1.00        28\n",
      "                   Cervical spondylosis       0.94      1.00      0.97        30\n",
      "                            Chicken pox       1.00      1.00      1.00        27\n",
      "                    Chronic cholestasis       1.00      1.00      1.00        19\n",
      "                            Common Cold       1.00      1.00      1.00        25\n",
      "                                 Dengue       1.00      1.00      1.00        22\n",
      "                               Diabetes       1.00      1.00      1.00        23\n",
      "           Dimorphic hemmorhoids(piles)       1.00      1.00      1.00        30\n",
      "                          Drug Reaction       1.00      1.00      1.00        21\n",
      "                       Fungal infection       1.00      1.00      1.00        25\n",
      "                                   GERD       1.00      1.00      1.00        24\n",
      "                        Gastroenteritis       1.00      0.95      0.97        20\n",
      "                           Heart attack       1.00      1.00      1.00        18\n",
      "                            Hepatitis B       1.00      1.00      1.00        28\n",
      "                            Hepatitis C       1.00      1.00      1.00        19\n",
      "                            Hepatitis D       1.00      1.00      1.00        22\n",
      "                            Hepatitis E       1.00      1.00      1.00        30\n",
      "                           Hypertension       1.00      0.93      0.96        29\n",
      "                        Hyperthyroidism       1.00      1.00      1.00        24\n",
      "                           Hypoglycemia       1.00      1.00      1.00        27\n",
      "                         Hypothyroidism       1.00      1.00      1.00        28\n",
      "                               Impetigo       1.00      1.00      1.00        24\n",
      "                               Jaundice       1.00      1.00      1.00        25\n",
      "                                Malaria       1.00      1.00      1.00        26\n",
      "                               Migraine       1.00      1.00      1.00        18\n",
      "                        Osteoarthristis       1.00      1.00      1.00        20\n",
      "           Paralysis (brain hemorrhage)       0.90      1.00      0.95        19\n",
      "                    Peptic ulcer diseae       1.00      1.00      1.00        27\n",
      "                              Pneumonia       1.00      1.00      1.00        21\n",
      "                              Psoriasis       1.00      1.00      1.00        22\n",
      "                           Tuberculosis       1.00      1.00      1.00        23\n",
      "                                Typhoid       1.00      1.00      1.00        20\n",
      "                Urinary tract infection       1.00      1.00      1.00        24\n",
      "                         Varicose veins       1.00      1.00      1.00        26\n",
      "                            hepatitis A       1.00      1.00      1.00        21\n",
      "\n",
      "                               accuracy                           1.00       984\n",
      "                              macro avg       1.00      1.00      1.00       984\n",
      "                           weighted avg       1.00      1.00      1.00       984\n",
      "\n"
     ]
    }
   ],
   "source": [
    "print(classification_report(y_test, preds))"
   ]
  },
  {
   "cell_type": "code",
   "execution_count": 46,
   "id": "ae401a60",
   "metadata": {},
   "outputs": [
    {
     "name": "stdout",
     "output_type": "stream",
     "text": [
      "Mean Accuracy: 99.187%, Standard Deviation: (0.44%)\n"
     ]
    }
   ],
   "source": [
    "kfold = KFold(n_splits=10,shuffle=True,random_state=42)\n",
    "rnd_forest_train =cross_val_score(rnd_forest, x_train, y_train, cv=kfold, scoring='accuracy')\n",
    "pd.DataFrame(rnd_forest_train,columns=['Scores'])\n",
    "print(\"Mean Accuracy: %.3f%%, Standard Deviation: (%.2f%%)\" % (rnd_forest_train.mean()*100.0, rnd_forest_train.std()*100.0))"
   ]
  },
  {
   "cell_type": "code",
   "execution_count": 47,
   "id": "302b228c",
   "metadata": {},
   "outputs": [
    {
     "name": "stdout",
     "output_type": "stream",
     "text": [
      "Mean Accuracy: 98.575%, Standard Deviation: (1.31%)\n"
     ]
    }
   ],
   "source": [
    "kfold = KFold(n_splits=10,shuffle=True,random_state=42)\n",
    "rnd_forest_test =cross_val_score(rnd_forest, x_test, y_test, cv=kfold, scoring='accuracy')\n",
    "pd.DataFrame(rnd_forest_test,columns=['Scores'])\n",
    "print(\"Mean Accuracy: %.3f%%, Standard Deviation: (%.2f%%)\" % (rnd_forest_test.mean()*100.0, rnd_forest_test.std()*100.0))"
   ]
  },
  {
   "cell_type": "markdown",
   "id": "4f2d325c",
   "metadata": {},
   "source": [
    "# Fucntion to manually test the models"
   ]
  },
  {
   "cell_type": "code",
   "execution_count": 48,
   "id": "574dd94d",
   "metadata": {},
   "outputs": [],
   "source": [
    "def predd(S1,S2,S3,S4,S5,S6,S7,S8,S9,S10,S11,S12,S13,S14,S15,S16,S17,x):\n",
    "    psymptoms = [S1,S2,S3,S4,S5,S6,S7,S8,S9,S10,S11,S12,S13,S14,S15,S16,S17]\n",
    "    print(psymptoms)\n",
    "    a = np.array(df1[\"Symptom\"])\n",
    "    b = np.array(df1[\"weight\"])\n",
    "    for j in range(len(psymptoms)):\n",
    "        for k in range(len(a)):\n",
    "            if psymptoms[j]==a[k]:\n",
    "                psymptoms[j]=b[k]\n",
    "\n",
    "    psy = [psymptoms]\n",
    "\n",
    "    pred2 = x.predict(psy)\n",
    "    print(\"The prediction is\",pred2[0])"
   ]
  },
  {
   "cell_type": "code",
   "execution_count": 49,
   "id": "05940c69",
   "metadata": {},
   "outputs": [
    {
     "name": "stdout",
     "output_type": "stream",
     "text": [
      "['stomach pain', 'chills', 'nodal skin eruptions', 'muscle weakness', 0, 0, 0, 0, 0, 0, 0, 0, 0, 0, 0, 0, 0]\n",
      "The prediction is Paralysis (brain hemorrhage)\n"
     ]
    }
   ],
   "source": [
    "sympList=df1[\"Symptom\"].to_list()\n",
    "predd(sympList[7],sympList[5],sympList[2],sympList[80],0,0,0,0,0,0,0,0,0,0,0,0,0,rnd_forest)"
   ]
  },
  {
   "cell_type": "code",
   "execution_count": 50,
   "id": "1bda23c9",
   "metadata": {},
   "outputs": [
    {
     "name": "stdout",
     "output_type": "stream",
     "text": [
      "['acidity', 'skin rash', 'nodal skin eruptions', 'muscle weakness', 0, 0, 0, 0, 0, 0, 0, 0, 0, 0, 0, 0, 0]\n",
      "The prediction is Paralysis (brain hemorrhage)\n"
     ]
    }
   ],
   "source": [
    "sympList=df1[\"Symptom\"].to_list()\n",
    "predd(sympList[8],sympList[1],sympList[2],sympList[80],0,0,0,0,0,0,0,0,0,0,0,0,0,SVM_hyperd)"
   ]
  },
  {
   "cell_type": "code",
   "execution_count": 51,
   "id": "0d2bc9dd",
   "metadata": {},
   "outputs": [
    {
     "name": "stdout",
     "output_type": "stream",
     "text": [
      "['acidity', 'chills', 'nodal skin eruptions', 'muscle weakness', 0, 0, 0, 0, 0, 0, 0, 0, 0, 0, 0, 0, 0]\n",
      "The prediction is Allergy\n"
     ]
    }
   ],
   "source": [
    "sympList=df1[\"Symptom\"].to_list()\n",
    "predd(sympList[8],sympList[5],sympList[2],sympList[80],0,0,0,0,0,0,0,0,0,0,0,0,0,SVM_unhyperd)"
   ]
  },
  {
   "cell_type": "markdown",
   "id": "748ab47e",
   "metadata": {},
   "source": [
    "# Comparison between algorithms testing and training"
   ]
  },
  {
   "cell_type": "code",
   "execution_count": 52,
   "id": "2c94f977",
   "metadata": {},
   "outputs": [],
   "source": [
    "n_groups = 5\n",
    "algorithms = ('Naive Bayes','Unhyperd SVM', 'Hyperd SVM','Decision Tree', 'Random Forest')\n",
    "train_accuracy = (gaussian_train.mean()*100.0, \n",
    "                 SVM_unhyperd_train.mean()*100.0,\n",
    "                 SVM_hyperd_train.mean()*100.0,\n",
    "                 DS_train.mean()*100.0,\n",
    "                 rnd_forest_train.mean()*100.0,\n",
    "                 )\n",
    "\n",
    "\n",
    "test_accuracy = (gaussian_test.mean()*100.0, \n",
    "                 SVM_unhyperd_test.mean()*100.0,\n",
    "                 SVM_hyperd_test.mean()*100.0,\n",
    "                 DS_test.mean()*100.0,\n",
    "                 rnd_forest_test.mean()*100.0\n",
    "                )\n",
    "\n",
    "Standard_Deviation=(gaussian_test.std()*100.0, \n",
    "                 SVM_unhyperd_test.std()*100.0,\n",
    "                 SVM_hyperd_test.std()*100.0,\n",
    "                 DS_test.std()*100.0,     \n",
    "                 rnd_forest_test.std()*100.0\n",
    "                 \n",
    "                   )\n",
    "\n",
    "# create plot\n",
    "fig, ax = plt.subplots(figsize=(15, 10))\n",
    "index = np.arange(n_groups)\n",
    "bar_width = 0.3\n",
    "opacity = 1\n",
    "rects1 = plt.bar(index, train_accuracy, bar_width, alpha = opacity, color='Cornflowerblue', label='Train')\n",
    "rects2 = plt.bar(index + bar_width, test_accuracy, bar_width, alpha = opacity, color='Teal', label='Test')\n",
    "rects3 = plt.bar(index + bar_width, Standard_Deviation, bar_width, alpha = opacity, color='red', label='Standard Deviation')\n",
    "plt.xlabel('Algorithm') # x axis label\n",
    "plt.ylabel('Accuracy (%)') # y axis label\n",
    "plt.ylim(0, 115)\n",
    "plt.title('Comparison of Algorithm Accuracies') # plot title\n",
    "plt.xticks(index + bar_width * 0.5, algorithms) # x axis data labels\n",
    "plt.legend(loc = 'upper right') # show legend\n",
    "for index, data in enumerate(train_accuracy):\n",
    "    plt.text(x = index - 0.035, y = data + 1, s = round(data, 2), fontdict = dict(fontsize = 8))\n",
    "for index, data in enumerate(test_accuracy):\n",
    "    plt.text(x = index + 0.25, y = data + 1, s = round(data, 2), fontdict = dict(fontsize = 8))\n",
    "for index, data in enumerate(Standard_Deviation):\n",
    "    plt.text(x = index + 0.25, y = data + 1, s = round(data, 2), fontdict = dict(fontsize = 8)) \n",
    "plt.savefig('./fig/'+'Comparison of Algorithm Accuracies'+'.png')    "
   ]
  },
  {
   "cell_type": "code",
   "execution_count": null,
   "id": "14505880",
   "metadata": {},
   "outputs": [],
   "source": []
  }
 ],
 "metadata": {
  "kernelspec": {
   "display_name": "Python 3 (ipykernel)",
   "language": "python",
   "name": "python3"
  },
  "language_info": {
   "codemirror_mode": {
    "name": "ipython",
    "version": 3
   },
   "file_extension": ".py",
   "mimetype": "text/x-python",
   "name": "python",
   "nbconvert_exporter": "python",
   "pygments_lexer": "ipython3",
   "version": "3.8.11"
  }
 },
 "nbformat": 4,
 "nbformat_minor": 5
}
